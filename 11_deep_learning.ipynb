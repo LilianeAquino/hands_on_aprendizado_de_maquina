{
 "cells": [
  {
   "cell_type": "markdown",
   "metadata": {},
   "source": [
    "# Treinando Redes Neurais Profundas"
   ]
  },
  {
   "cell_type": "markdown",
   "metadata": {},
   "source": [
    "### Bibliotecas básicas"
   ]
  },
  {
   "cell_type": "code",
   "execution_count": 1,
   "metadata": {
    "ExecuteTime": {
     "end_time": "2021-01-15T10:14:27.487614Z",
     "start_time": "2021-01-15T10:13:48.541540Z"
    }
   },
   "outputs": [
    {
     "name": "stdout",
     "output_type": "stream",
     "text": [
      "2.1.0\n"
     ]
    }
   ],
   "source": [
    "import numpy as np\n",
    "import pandas as pd\n",
    "import matplotlib.pyplot as plt\n",
    "%matplotlib inline\n",
    "\n",
    "import warnings\n",
    "warnings.filterwarnings('ignore')\n",
    "\n",
    "import tensorflow as tf\n",
    "print(tf.__version__)"
   ]
  },
  {
   "cell_type": "markdown",
   "metadata": {},
   "source": [
    "### Normalização em lote"
   ]
  },
  {
   "cell_type": "code",
   "execution_count": null,
   "metadata": {
    "ExecuteTime": {
     "end_time": "2021-01-15T10:14:29.441363Z",
     "start_time": "2021-01-15T10:14:27.490369Z"
    }
   },
   "outputs": [],
   "source": [
    "from functools import partial\n",
    "\n",
    "tf.compat.v1.disable_eager_execution()\n",
    "tf.compat.v1.reset_default_graph()\n",
    "\n",
    "batch_norm_momentum = 0.9\n",
    "learning_rate = 0.01\n",
    "\n",
    "n_inputs = 28 * 28\n",
    "n_hidden1 = 300\n",
    "n_hidden2 = 100\n",
    "n_outputs = 10\n",
    "\n",
    "X = tf.compat.v1.placeholder(tf.float32, shape=(None, n_inputs), name='X')\n",
    "y = tf.compat.v1.placeholder(tf.int32, shape=(None), name='y')\n",
    "training = tf.compat.v1.placeholder_with_default(False, shape=(), name='training')\n",
    "\n",
    "with tf.name_scope('dnn'):\n",
    "    he_init = tf.compat.v1.variance_scaling_initializer()\n",
    "\n",
    "    my_batch_norm_layer = partial(\n",
    "            tf.compat.v1.layers.batch_normalization,\n",
    "            training=training,\n",
    "            momentum=batch_norm_momentum)\n",
    "\n",
    "    my_dense_layer = partial(\n",
    "            tf.compat.v1.layers.dense,\n",
    "            kernel_initializer=he_init)\n",
    "\n",
    "    hidden1 = my_dense_layer(X, n_hidden1, name='hidden1')\n",
    "    bn1 = tf.nn.elu(my_batch_norm_layer(hidden1))\n",
    "    hidden2 = my_dense_layer(bn1, n_hidden2, name='hidden2')\n",
    "    bn2 = tf.nn.elu(my_batch_norm_layer(hidden2))\n",
    "    logits_before_bn = my_dense_layer(bn2, n_outputs, name='outputs')\n",
    "    logits = my_batch_norm_layer(logits_before_bn)\n",
    "\n",
    "with tf.name_scope('loss'):\n",
    "    xentropy = tf.nn.sparse_softmax_cross_entropy_with_logits(labels=y, logits=logits)\n",
    "    loss = tf.reduce_mean(xentropy, name=\"loss\")\n",
    "\n",
    "with tf.name_scope('train'):\n",
    "    optimizer = tf.compat.v1.train.GradientDescentOptimizer(learning_rate)\n",
    "    training_op = optimizer.minimize(loss)\n",
    "\n",
    "with tf.name_scope('eval'):\n",
    "    correct = tf.nn.in_top_k(y, logits, 1)\n",
    "    accuracy = tf.reduce_mean(tf.cast(correct, tf.float32))\n",
    "    \n",
    "init = tf.compat.v1.global_variables_initializer()\n",
    "saver = tf.compat.v1.train.Saver()"
   ]
  },
  {
   "cell_type": "code",
   "execution_count": 3,
   "metadata": {
    "ExecuteTime": {
     "end_time": "2021-01-15T10:14:30.681483Z",
     "start_time": "2021-01-15T10:14:29.448438Z"
    }
   },
   "outputs": [],
   "source": [
    "def shuffle_batch(X, y, batch_size):\n",
    "    rnd_idx = np.random.permutation(len(X))\n",
    "    n_batches = len(X) // batch_size\n",
    "    for batch_idx in np.array_split(rnd_idx, n_batches):\n",
    "        X_batch, y_batch = X[batch_idx], y[batch_idx]\n",
    "        yield X_batch, y_batch\n",
    "        \n",
    "\n",
    "(X_train, y_train), (X_test, y_test) = tf.keras.datasets.mnist.load_data()\n",
    "X_train = X_train.astype(np.float32).reshape(-1, 28*28) / 255.0\n",
    "X_test = X_test.astype(np.float32).reshape(-1, 28*28) / 255.0\n",
    "y_train = y_train.astype(np.int32)\n",
    "y_test = y_test.astype(np.int32)\n",
    "X_valid, X_train = X_train[:5000], X_train[5000:]\n",
    "y_valid, y_train = y_train[:5000], y_train[5000:]"
   ]
  },
  {
   "cell_type": "code",
   "execution_count": 4,
   "metadata": {
    "ExecuteTime": {
     "end_time": "2021-01-15T10:15:10.946242Z",
     "start_time": "2021-01-15T10:14:30.685836Z"
    }
   },
   "outputs": [
    {
     "name": "stdout",
     "output_type": "stream",
     "text": [
      "0 Validation accuracy: 0.8924\n",
      "1 Validation accuracy: 0.9208\n",
      "2 Validation accuracy: 0.933\n",
      "3 Validation accuracy: 0.9404\n",
      "4 Validation accuracy: 0.9496\n",
      "5 Validation accuracy: 0.954\n",
      "6 Validation accuracy: 0.9588\n",
      "7 Validation accuracy: 0.9584\n",
      "8 Validation accuracy: 0.9606\n",
      "9 Validation accuracy: 0.9636\n",
      "10 Validation accuracy: 0.964\n",
      "11 Validation accuracy: 0.9658\n",
      "12 Validation accuracy: 0.9662\n",
      "13 Validation accuracy: 0.9682\n",
      "14 Validation accuracy: 0.9694\n",
      "15 Validation accuracy: 0.9688\n",
      "16 Validation accuracy: 0.9694\n",
      "17 Validation accuracy: 0.971\n",
      "18 Validation accuracy: 0.971\n",
      "19 Validation accuracy: 0.9728\n"
     ]
    }
   ],
   "source": [
    "n_epochs = 20\n",
    "batch_size = 200\n",
    "\n",
    "extra_update_ops = tf.compat.v1.get_collection(tf.compat.v1.GraphKeys.UPDATE_OPS)\n",
    "\n",
    "with tf.compat.v1.Session() as sess:\n",
    "    init.run()\n",
    "    for epoch in range(n_epochs):\n",
    "        for X_batch, y_batch in shuffle_batch(X_train, y_train, batch_size):\n",
    "            sess.run([training_op, extra_update_ops],\n",
    "                     feed_dict={training: True, X: X_batch, y: y_batch})\n",
    "        accuracy_val = accuracy.eval(feed_dict={X: X_valid, y: y_valid})\n",
    "        print(epoch, 'Validation accuracy:', accuracy_val)\n",
    "\n",
    "    save_path = saver.save(sess, './my_model_final.ckpt')"
   ]
  },
  {
   "cell_type": "markdown",
   "metadata": {},
   "source": [
    "### Gradiente Clipping"
   ]
  },
  {
   "cell_type": "code",
   "execution_count": 5,
   "metadata": {
    "ExecuteTime": {
     "end_time": "2021-01-15T10:15:11.099556Z",
     "start_time": "2021-01-15T10:15:10.956188Z"
    }
   },
   "outputs": [],
   "source": [
    "tf.compat.v1.reset_default_graph()\n",
    "\n",
    "n_inputs = 28 * 28\n",
    "n_hidden1 = 300\n",
    "n_hidden2 = 50\n",
    "n_hidden3 = 50\n",
    "n_hidden4 = 50\n",
    "n_hidden5 = 50\n",
    "n_outputs = 10\n",
    "\n",
    "learning_rate = 0.01\n",
    "\n",
    "X = tf.compat.v1.placeholder(tf.float32, shape=(None, n_inputs), name='X')\n",
    "y = tf.compat.v1.placeholder(tf.int32, shape=(None), name='y')\n",
    "\n",
    "with tf.name_scope('dnn'):\n",
    "    hidden1 = tf.compat.v1.layers.dense(X, n_hidden1, activation=tf.nn.relu, name='hidden1')\n",
    "    hidden2 = tf.compat.v1.layers.dense(hidden1, n_hidden2, activation=tf.nn.relu, name='hidden2')\n",
    "    hidden3 = tf.compat.v1.layers.dense(hidden2, n_hidden3, activation=tf.nn.relu, name='hidden3')\n",
    "    hidden4 = tf.compat.v1.layers.dense(hidden3, n_hidden4, activation=tf.nn.relu, name='hidden4')\n",
    "    hidden5 = tf.compat.v1.layers.dense(hidden4, n_hidden5, activation=tf.nn.relu, name='hidden5')\n",
    "    logits = tf.compat.v1.layers.dense(hidden5, n_outputs, name='outputs')\n",
    "\n",
    "with tf.name_scope('loss'):\n",
    "    xentropy = tf.nn.sparse_softmax_cross_entropy_with_logits(labels=y, logits=logits)\n",
    "    loss = tf.reduce_mean(xentropy, name='loss')"
   ]
  },
  {
   "cell_type": "code",
   "execution_count": 6,
   "metadata": {
    "ExecuteTime": {
     "end_time": "2021-01-15T10:15:40.645179Z",
     "start_time": "2021-01-15T10:15:11.101664Z"
    },
    "scrolled": false
   },
   "outputs": [
    {
     "name": "stdout",
     "output_type": "stream",
     "text": [
      "0 Validation accuracy: 0.3242\n",
      "1 Validation accuracy: 0.763\n",
      "2 Validation accuracy: 0.8698\n",
      "3 Validation accuracy: 0.8956\n",
      "4 Validation accuracy: 0.905\n",
      "5 Validation accuracy: 0.9188\n",
      "6 Validation accuracy: 0.9214\n",
      "7 Validation accuracy: 0.9316\n",
      "8 Validation accuracy: 0.9368\n",
      "9 Validation accuracy: 0.943\n",
      "10 Validation accuracy: 0.945\n",
      "11 Validation accuracy: 0.948\n",
      "12 Validation accuracy: 0.9508\n",
      "13 Validation accuracy: 0.9522\n",
      "14 Validation accuracy: 0.9532\n",
      "15 Validation accuracy: 0.9576\n",
      "16 Validation accuracy: 0.9554\n",
      "17 Validation accuracy: 0.9588\n",
      "18 Validation accuracy: 0.959\n",
      "19 Validation accuracy: 0.958\n"
     ]
    }
   ],
   "source": [
    "threshold = 1.0\n",
    "\n",
    "optimizer = tf.compat.v1.train.GradientDescentOptimizer(learning_rate)\n",
    "grads_and_vars = optimizer.compute_gradients(loss)\n",
    "capped_gvs = [(tf.clip_by_value(grad, -threshold, threshold), var) for grad, var in grads_and_vars]\n",
    "training_op = optimizer.apply_gradients(capped_gvs)\n",
    "\n",
    "with tf.name_scope('eval'):\n",
    "    correct = tf.nn.in_top_k(y, logits, 1)\n",
    "    accuracy = tf.reduce_mean(tf.cast(correct, tf.float32), name='accuracy')\n",
    "    \n",
    "init = tf.compat.v1.global_variables_initializer()\n",
    "saver = tf.compat.v1.train.Saver()\n",
    "\n",
    "\n",
    "n_epochs = 20\n",
    "batch_size = 200\n",
    "\n",
    "\n",
    "with tf.compat.v1.Session() as sess:\n",
    "    init.run()\n",
    "    for epoch in range(n_epochs):\n",
    "        for X_batch, y_batch in shuffle_batch(X_train, y_train, batch_size):\n",
    "            sess.run(training_op, feed_dict={X: X_batch, y: y_batch})\n",
    "        accuracy_val = accuracy.eval(feed_dict={X: X_valid, y: y_valid})\n",
    "        print(epoch, 'Validation accuracy:', accuracy_val)\n",
    "\n",
    "    save_path = saver.save(sess, './my_model_final.ckpt')"
   ]
  },
  {
   "cell_type": "markdown",
   "metadata": {},
   "source": [
    "### Reutilizando um modelo TensorFlow"
   ]
  },
  {
   "cell_type": "markdown",
   "metadata": {},
   "source": [
    "#### Carrega a estrutura do grafo e lista as operações"
   ]
  },
  {
   "cell_type": "code",
   "execution_count": null,
   "metadata": {
    "ExecuteTime": {
     "end_time": "2021-01-15T10:15:40.756165Z",
     "start_time": "2021-01-15T10:15:40.648233Z"
    }
   },
   "outputs": [],
   "source": [
    "tf.compat.v1.reset_default_graph()\n",
    "\n",
    "saver = tf.compat.v1.train.import_meta_graph('./my_model_final.ckpt.meta')\n",
    "\n",
    "for op in tf.compat.v1.get_default_graph().get_operations():\n",
    "    print(op.name)"
   ]
  },
  {
   "cell_type": "markdown",
   "metadata": {},
   "source": [
    "#### Carrega as operações que serão utilizadas"
   ]
  },
  {
   "cell_type": "code",
   "execution_count": 8,
   "metadata": {
    "ExecuteTime": {
     "end_time": "2021-01-15T10:15:40.818295Z",
     "start_time": "2021-01-15T10:15:40.760049Z"
    }
   },
   "outputs": [],
   "source": [
    "X = tf.compat.v1.get_default_graph().get_tensor_by_name('X:0')\n",
    "y = tf.compat.v1.get_default_graph().get_tensor_by_name('y:0')\n",
    "\n",
    "accuracy = tf.compat.v1.get_default_graph().get_tensor_by_name('eval/accuracy:0')\n",
    "training_op = tf.compat.v1.get_default_graph().get_operation_by_name('GradientDescent')"
   ]
  },
  {
   "cell_type": "markdown",
   "metadata": {},
   "source": [
    "#### Criando uma coleção contendo todas as operações importantes"
   ]
  },
  {
   "cell_type": "code",
   "execution_count": 9,
   "metadata": {
    "ExecuteTime": {
     "end_time": "2021-01-15T10:15:40.917530Z",
     "start_time": "2021-01-15T10:15:40.820648Z"
    }
   },
   "outputs": [],
   "source": [
    "for op in (X, y, accuracy, training_op):\n",
    "    tf.compat.v1.add_to_collection('my_important_ops', op)"
   ]
  },
  {
   "cell_type": "code",
   "execution_count": 10,
   "metadata": {
    "ExecuteTime": {
     "end_time": "2021-01-15T10:15:41.015592Z",
     "start_time": "2021-01-15T10:15:40.920639Z"
    }
   },
   "outputs": [],
   "source": [
    "X, y, accuracy, training_op = tf.compat.v1.get_collection('my_important_ops')"
   ]
  },
  {
   "cell_type": "markdown",
   "metadata": {},
   "source": [
    "#### Inicia uma sessão, restaura o estado do modelo e continua treinando em seus dados:"
   ]
  },
  {
   "cell_type": "code",
   "execution_count": 11,
   "metadata": {
    "ExecuteTime": {
     "end_time": "2021-01-15T10:16:10.046453Z",
     "start_time": "2021-01-15T10:15:41.019231Z"
    }
   },
   "outputs": [
    {
     "name": "stdout",
     "output_type": "stream",
     "text": [
      "INFO:tensorflow:Restoring parameters from ./my_model_final.ckpt\n",
      "0 Validation accuracy: 0.9626\n",
      "1 Validation accuracy: 0.9626\n",
      "2 Validation accuracy: 0.964\n",
      "3 Validation accuracy: 0.9654\n",
      "4 Validation accuracy: 0.9664\n",
      "5 Validation accuracy: 0.9636\n",
      "6 Validation accuracy: 0.9668\n",
      "7 Validation accuracy: 0.9682\n",
      "8 Validation accuracy: 0.9682\n",
      "9 Validation accuracy: 0.9698\n",
      "10 Validation accuracy: 0.967\n",
      "11 Validation accuracy: 0.9696\n",
      "12 Validation accuracy: 0.9712\n",
      "13 Validation accuracy: 0.9702\n",
      "14 Validation accuracy: 0.97\n",
      "15 Validation accuracy: 0.972\n",
      "16 Validation accuracy: 0.9718\n",
      "17 Validation accuracy: 0.9706\n",
      "18 Validation accuracy: 0.9724\n",
      "19 Validation accuracy: 0.972\n"
     ]
    }
   ],
   "source": [
    "with tf.compat.v1.Session() as sess:\n",
    "    saver.restore(sess, './my_model_final.ckpt')\n",
    "\n",
    "    for epoch in range(n_epochs):\n",
    "        for X_batch, y_batch in shuffle_batch(X_train, y_train, batch_size):\n",
    "            sess.run(training_op, feed_dict={X: X_batch, y: y_batch})\n",
    "        accuracy_val = accuracy.eval(feed_dict={X: X_valid, y: y_valid})\n",
    "        print(epoch, 'Validation accuracy:', accuracy_val)\n",
    "\n",
    "    save_path = saver.save(sess, './my_new_model_final.ckpt')"
   ]
  },
  {
   "cell_type": "markdown",
   "metadata": {},
   "source": [
    "#### Adicionamos uma nova 4ª camada oculta no topo da 3ª camada pré-treinada"
   ]
  },
  {
   "cell_type": "code",
   "execution_count": 12,
   "metadata": {
    "ExecuteTime": {
     "end_time": "2021-01-15T10:16:10.299810Z",
     "start_time": "2021-01-15T10:16:10.051726Z"
    }
   },
   "outputs": [],
   "source": [
    "tf.compat.v1.reset_default_graph()\n",
    "\n",
    "n_hidden4 = 20  #nova camada\n",
    "n_outputs = 10  #nova camada\n",
    "\n",
    "saver = tf.compat.v1.train.import_meta_graph('./my_model_final.ckpt.meta')\n",
    "\n",
    "X = tf.compat.v1.get_default_graph().get_tensor_by_name('X:0')\n",
    "y = tf.compat.v1.get_default_graph().get_tensor_by_name('y:0')\n",
    "\n",
    "hidden3 = tf.compat.v1.get_default_graph().get_tensor_by_name('dnn/hidden3/Relu:0')\n",
    "\n",
    "new_hidden4 = tf.compat.v1.layers.dense(hidden3, n_hidden4, activation=tf.nn.relu, name='new_hidden4')\n",
    "new_logits = tf.compat.v1.layers.dense(new_hidden4, n_outputs, name='new_outputs')\n",
    "\n",
    "with tf.name_scope('new_loss'):\n",
    "    xentropy = tf.nn.sparse_softmax_cross_entropy_with_logits(labels=y, logits=new_logits)\n",
    "    loss = tf.reduce_mean(xentropy, name='loss')\n",
    "\n",
    "with tf.name_scope('new_eval'):\n",
    "    correct = tf.nn.in_top_k(y, new_logits, 1)\n",
    "    accuracy = tf.reduce_mean(tf.cast(correct, tf.float32), name='accuracy')\n",
    "\n",
    "with tf.name_scope('new_train'):\n",
    "    optimizer = tf.compat.v1.train.GradientDescentOptimizer(learning_rate)\n",
    "    training_op = optimizer.minimize(loss)\n",
    "\n",
    "init = tf.compat.v1.global_variables_initializer()\n",
    "new_saver = tf.compat.v1.train.Saver()"
   ]
  },
  {
   "cell_type": "code",
   "execution_count": 13,
   "metadata": {
    "ExecuteTime": {
     "end_time": "2021-01-15T10:16:36.726767Z",
     "start_time": "2021-01-15T10:16:10.302737Z"
    }
   },
   "outputs": [
    {
     "name": "stdout",
     "output_type": "stream",
     "text": [
      "INFO:tensorflow:Restoring parameters from ./my_model_final.ckpt\n",
      "0 Validation accuracy: 0.9146\n",
      "1 Validation accuracy: 0.9328\n",
      "2 Validation accuracy: 0.9418\n",
      "3 Validation accuracy: 0.949\n",
      "4 Validation accuracy: 0.9542\n",
      "5 Validation accuracy: 0.9536\n",
      "6 Validation accuracy: 0.9556\n",
      "7 Validation accuracy: 0.9582\n",
      "8 Validation accuracy: 0.9582\n",
      "9 Validation accuracy: 0.962\n",
      "10 Validation accuracy: 0.9608\n",
      "11 Validation accuracy: 0.9642\n",
      "12 Validation accuracy: 0.9616\n",
      "13 Validation accuracy: 0.9632\n",
      "14 Validation accuracy: 0.9646\n",
      "15 Validation accuracy: 0.9648\n",
      "16 Validation accuracy: 0.9666\n",
      "17 Validation accuracy: 0.9662\n",
      "18 Validation accuracy: 0.9656\n",
      "19 Validation accuracy: 0.9684\n"
     ]
    }
   ],
   "source": [
    "with tf.compat.v1.Session() as sess:\n",
    "    init.run()\n",
    "    saver.restore(sess, './my_model_final.ckpt')\n",
    "\n",
    "    for epoch in range(n_epochs):\n",
    "        for X_batch, y_batch in shuffle_batch(X_train, y_train, batch_size):\n",
    "            sess.run(training_op, feed_dict={X: X_batch, y: y_batch})\n",
    "        accuracy_val = accuracy.eval(feed_dict={X: X_valid, y: y_valid})\n",
    "        print(epoch, 'Validation accuracy:', accuracy_val)\n",
    "\n",
    "    save_path = new_saver.save(sess, './my_new_model_final.ckpt')"
   ]
  },
  {
   "cell_type": "markdown",
   "metadata": {},
   "source": [
    "### Congelando as camadas inferiores"
   ]
  },
  {
   "cell_type": "code",
   "execution_count": 15,
   "metadata": {
    "ExecuteTime": {
     "end_time": "2021-01-15T10:35:26.523295Z",
     "start_time": "2021-01-15T10:34:46.717844Z"
    }
   },
   "outputs": [
    {
     "name": "stdout",
     "output_type": "stream",
     "text": [
      "INFO:tensorflow:Restoring parameters from ./my_model_final.ckpt\n",
      "0 Validation accuracy: 0.9182\n",
      "1 Validation accuracy: 0.9372\n",
      "2 Validation accuracy: 0.9444\n",
      "3 Validation accuracy: 0.9484\n",
      "4 Validation accuracy: 0.9508\n",
      "5 Validation accuracy: 0.953\n",
      "6 Validation accuracy: 0.956\n",
      "7 Validation accuracy: 0.9578\n",
      "8 Validation accuracy: 0.9598\n",
      "9 Validation accuracy: 0.9598\n",
      "10 Validation accuracy: 0.9588\n",
      "11 Validation accuracy: 0.958\n",
      "12 Validation accuracy: 0.9582\n",
      "13 Validation accuracy: 0.962\n",
      "14 Validation accuracy: 0.9598\n",
      "15 Validation accuracy: 0.9594\n",
      "16 Validation accuracy: 0.9602\n",
      "17 Validation accuracy: 0.9582\n",
      "18 Validation accuracy: 0.9598\n",
      "19 Validation accuracy: 0.9596\n"
     ]
    }
   ],
   "source": [
    "tf.compat.v1.reset_default_graph()\n",
    "\n",
    "n_inputs = 28 * 28\n",
    "n_hidden1 = 300 #reúso\n",
    "n_hidden2 = 50  #reúso\n",
    "n_hidden3 = 50  #reúso\n",
    "n_hidden4 = 20  #nova camada\n",
    "n_outputs = 10  #nova camada\n",
    "\n",
    "X = tf.compat.v1.placeholder(tf.float32, shape=(None, n_inputs), name='X')\n",
    "y = tf.compat.v1.placeholder(tf.int32, shape=(None), name='y')\n",
    "\n",
    "with tf.name_scope('dnn'):\n",
    "    hidden1 = tf.compat.v1.layers.dense(X, n_hidden1, activation=tf.nn.relu, name='hidden1')       #reúso\n",
    "    hidden2 = tf.compat.v1.layers.dense(hidden1, n_hidden2, activation=tf.nn.relu, name='hidden2') #reúso\n",
    "    hidden3 = tf.compat.v1.layers.dense(hidden2, n_hidden3, activation=tf.nn.relu, name='hidden3') #reúso\n",
    "    hidden4 = tf.compat.v1.layers.dense(hidden3, n_hidden4, activation=tf.nn.relu, name='hidden4') #nova camada\n",
    "    logits = tf.compat.v1.layers.dense(hidden4, n_outputs, name='outputs') #nova camada\n",
    "    \n",
    "with tf.name_scope('loss'):\n",
    "    xentropy = tf.nn.sparse_softmax_cross_entropy_with_logits(labels=y, logits=logits)\n",
    "    loss = tf.reduce_mean(xentropy, name='loss')\n",
    "\n",
    "with tf.name_scope('eval'):\n",
    "    correct = tf.nn.in_top_k(y, logits, 1)\n",
    "    accuracy = tf.reduce_mean(tf.cast(correct, tf.float32), name='accuracy')\n",
    "    \n",
    "    \n",
    "with tf.name_scope('train'):\n",
    "    optimizer = tf.compat.v1.train.GradientDescentOptimizer(learning_rate)\n",
    "    train_vars = tf.compat.v1.get_collection(tf.compat.v1.GraphKeys.TRAINABLE_VARIABLES, scope='hidden[34]|outputs')\n",
    "    training_op = optimizer.minimize(loss, var_list=train_vars)\n",
    "\n",
    "\n",
    "reuse_vars = tf.compat.v1.get_collection(tf.compat.v1.GraphKeys.GLOBAL_VARIABLES, scope='hidden[123]')\n",
    "restore_saver = tf.compat.v1.train.Saver(reuse_vars) # restaurando as camadas 1-3\n",
    "\n",
    "init = tf.compat.v1.global_variables_initializer()\n",
    "saver = tf.compat.v1.train.Saver()\n",
    "\n",
    "with tf.compat.v1.Session() as sess:\n",
    "    init.run()\n",
    "    restore_saver.restore(sess, './my_model_final.ckpt')\n",
    "\n",
    "    for epoch in range(n_epochs):\n",
    "        for X_batch, y_batch in shuffle_batch(X_train, y_train, batch_size):\n",
    "            sess.run(training_op, feed_dict={X: X_batch, y: y_batch})\n",
    "        accuracy_val = accuracy.eval(feed_dict={X: X_valid, y: y_valid})\n",
    "        print(epoch, 'Validation accuracy:', accuracy_val)\n",
    "\n",
    "    save_path = saver.save(sess, './my_new_model_final.ckpt')"
   ]
  },
  {
   "cell_type": "markdown",
   "metadata": {},
   "source": [
    "#### Com tf.compat.v1.stop_gradient"
   ]
  },
  {
   "cell_type": "code",
   "execution_count": 17,
   "metadata": {
    "ExecuteTime": {
     "end_time": "2021-01-15T10:42:24.829026Z",
     "start_time": "2021-01-15T10:42:08.355896Z"
    }
   },
   "outputs": [
    {
     "name": "stdout",
     "output_type": "stream",
     "text": [
      "INFO:tensorflow:Restoring parameters from ./my_model_final.ckpt\n",
      "0 Validation accuracy: 0.8952\n",
      "1 Validation accuracy: 0.9288\n",
      "2 Validation accuracy: 0.9368\n",
      "3 Validation accuracy: 0.9428\n",
      "4 Validation accuracy: 0.9458\n",
      "5 Validation accuracy: 0.947\n",
      "6 Validation accuracy: 0.948\n",
      "7 Validation accuracy: 0.9496\n",
      "8 Validation accuracy: 0.951\n",
      "9 Validation accuracy: 0.9522\n",
      "10 Validation accuracy: 0.9528\n",
      "11 Validation accuracy: 0.9544\n",
      "12 Validation accuracy: 0.956\n",
      "13 Validation accuracy: 0.9562\n",
      "14 Validation accuracy: 0.9562\n",
      "15 Validation accuracy: 0.9574\n",
      "16 Validation accuracy: 0.956\n",
      "17 Validation accuracy: 0.9578\n",
      "18 Validation accuracy: 0.9582\n",
      "19 Validation accuracy: 0.958\n"
     ]
    }
   ],
   "source": [
    "tf.compat.v1.reset_default_graph()\n",
    "\n",
    "X = tf.compat.v1.placeholder(tf.float32, shape=(None, n_inputs), name='X')\n",
    "y = tf.compat.v1.placeholder(tf.int32, shape=(None), name='y')\n",
    "\n",
    "with tf.name_scope('dnn'):\n",
    "    hidden1 = tf.compat.v1.layers.dense(X, n_hidden1, activation=tf.nn.relu, name='hidden1') #reutilizada e congelada\n",
    "    hidden2 = tf.compat.v1.layers.dense(hidden1, n_hidden2, activation=tf.nn.relu, name='hidden2') #reutilizada e congelada\n",
    "    hidden2_stop = tf.compat.v1.stop_gradient(hidden2) #realiza o congelamento\n",
    "    hidden3 = tf.compat.v1.layers.dense(hidden2_stop, n_hidden3, activation=tf.nn.relu, name='hidden3') #reutilizada e congelada\n",
    "    hidden4 = tf.compat.v1.layers.dense(hidden3, n_hidden4, activation=tf.nn.relu, name='hidden4') #nova\n",
    "    logits = tf.compat.v1.layers.dense(hidden4, n_outputs, name='outputs') #nova\n",
    "    \n",
    "with tf.name_scope('loss'):\n",
    "    xentropy = tf.nn.sparse_softmax_cross_entropy_with_logits(labels=y, logits=logits)\n",
    "    loss = tf.reduce_mean(xentropy, name='loss')\n",
    "\n",
    "with tf.name_scope('eval'):\n",
    "    correct = tf.nn.in_top_k(y, logits, 1)\n",
    "    accuracy = tf.reduce_mean(tf.cast(correct, tf.float32), name='accuracy')\n",
    "    \n",
    "    \n",
    "with tf.name_scope('train'):\n",
    "    optimizer = tf.compat.v1.train.GradientDescentOptimizer(learning_rate)\n",
    "    train_vars = tf.compat.v1.get_collection(tf.compat.v1.GraphKeys.TRAINABLE_VARIABLES, scope='hidden[34]|outputs')\n",
    "    training_op = optimizer.minimize(loss, var_list=train_vars)\n",
    "\n",
    "\n",
    "reuse_vars = tf.compat.v1.get_collection(tf.compat.v1.GraphKeys.GLOBAL_VARIABLES, scope='hidden[123]')\n",
    "restore_saver = tf.compat.v1.train.Saver(reuse_vars) # restaurando as camadas 1-3\n",
    "\n",
    "init = tf.compat.v1.global_variables_initializer()\n",
    "saver = tf.compat.v1.train.Saver()\n",
    "\n",
    "with tf.compat.v1.Session() as sess:\n",
    "    init.run()\n",
    "    restore_saver.restore(sess, './my_model_final.ckpt')\n",
    "\n",
    "    for epoch in range(n_epochs):\n",
    "        for X_batch, y_batch in shuffle_batch(X_train, y_train, batch_size):\n",
    "            sess.run(training_op, feed_dict={X: X_batch, y: y_batch})\n",
    "        accuracy_val = accuracy.eval(feed_dict={X: X_valid, y: y_valid})\n",
    "        print(epoch, 'Validation accuracy:', accuracy_val)\n",
    "\n",
    "    save_path = saver.save(sess, './my_new_model_final.ckpt')"
   ]
  },
  {
   "cell_type": "markdown",
   "metadata": {},
   "source": [
    "### Armazenando em cache as camadas congeladas"
   ]
  },
  {
   "cell_type": "code",
   "execution_count": 18,
   "metadata": {
    "ExecuteTime": {
     "end_time": "2021-01-15T10:49:50.028355Z",
     "start_time": "2021-01-15T10:49:49.810954Z"
    }
   },
   "outputs": [],
   "source": [
    "tf.compat.v1.reset_default_graph()\n",
    "\n",
    "X = tf.compat.v1.placeholder(tf.float32, shape=(None, n_inputs), name='X')\n",
    "y = tf.compat.v1.placeholder(tf.int32, shape=(None), name='y')\n",
    "\n",
    "with tf.name_scope('dnn'):\n",
    "    hidden1 = tf.compat.v1.layers.dense(X, n_hidden1, activation=tf.nn.relu, name='hidden1') #reutilizada e congelada\n",
    "    hidden2 = tf.compat.v1.layers.dense(hidden1, n_hidden2, activation=tf.nn.relu, name='hidden2') #reutilizada, congelada e em cache\n",
    "    hidden2_stop = tf.compat.v1.stop_gradient(hidden2) #realiza o congelamento\n",
    "    hidden3 = tf.compat.v1.layers.dense(hidden2_stop, n_hidden3, activation=tf.nn.relu, name='hidden3') #reutilizada e congelada\n",
    "    hidden4 = tf.compat.v1.layers.dense(hidden3, n_hidden4, activation=tf.nn.relu, name='hidden4') #nova\n",
    "    logits = tf.compat.v1.layers.dense(hidden4, n_outputs, name='outputs') #nova\n",
    "    \n",
    "with tf.name_scope('loss'):\n",
    "    xentropy = tf.nn.sparse_softmax_cross_entropy_with_logits(labels=y, logits=logits)\n",
    "    loss = tf.reduce_mean(xentropy, name='loss')\n",
    "\n",
    "with tf.name_scope('eval'):\n",
    "    correct = tf.nn.in_top_k(y, logits, 1)\n",
    "    accuracy = tf.reduce_mean(tf.cast(correct, tf.float32), name='accuracy')\n",
    "    \n",
    "    \n",
    "with tf.name_scope('train'):\n",
    "    optimizer = tf.compat.v1.train.GradientDescentOptimizer(learning_rate)\n",
    "    train_vars = tf.compat.v1.get_collection(tf.compat.v1.GraphKeys.TRAINABLE_VARIABLES, scope='hidden[34]|outputs')\n",
    "    training_op = optimizer.minimize(loss, var_list=train_vars)\n",
    "\n",
    "\n",
    "reuse_vars = tf.compat.v1.get_collection(tf.compat.v1.GraphKeys.GLOBAL_VARIABLES, scope='hidden[123]')\n",
    "restore_saver = tf.compat.v1.train.Saver(reuse_vars) # restaurando as camadas 1-3\n",
    "\n",
    "init = tf.compat.v1.global_variables_initializer()\n",
    "saver = tf.compat.v1.train.Saver()"
   ]
  },
  {
   "cell_type": "code",
   "execution_count": 19,
   "metadata": {
    "ExecuteTime": {
     "end_time": "2021-01-15T10:51:41.797873Z",
     "start_time": "2021-01-15T10:51:33.002945Z"
    }
   },
   "outputs": [
    {
     "name": "stdout",
     "output_type": "stream",
     "text": [
      "INFO:tensorflow:Restoring parameters from ./my_model_final.ckpt\n",
      "0 Validation accuracy: 0.8934\n",
      "1 Validation accuracy: 0.917\n",
      "2 Validation accuracy: 0.9322\n",
      "3 Validation accuracy: 0.9404\n",
      "4 Validation accuracy: 0.9442\n",
      "5 Validation accuracy: 0.9488\n",
      "6 Validation accuracy: 0.9494\n",
      "7 Validation accuracy: 0.9522\n",
      "8 Validation accuracy: 0.9532\n",
      "9 Validation accuracy: 0.9542\n",
      "10 Validation accuracy: 0.9552\n",
      "11 Validation accuracy: 0.9552\n",
      "12 Validation accuracy: 0.9548\n",
      "13 Validation accuracy: 0.9556\n",
      "14 Validation accuracy: 0.9564\n",
      "15 Validation accuracy: 0.956\n",
      "16 Validation accuracy: 0.9566\n",
      "17 Validation accuracy: 0.9558\n",
      "18 Validation accuracy: 0.9574\n",
      "19 Validation accuracy: 0.9566\n"
     ]
    }
   ],
   "source": [
    "n_batches = len(X_train) // batch_size\n",
    "\n",
    "with tf.compat.v1.Session() as sess:\n",
    "    init.run()\n",
    "    restore_saver.restore(sess, './my_model_final.ckpt')\n",
    "    \n",
    "    h2_cache = sess.run(hidden2, feed_dict={X: X_train})\n",
    "    h2_cache_valid = sess.run(hidden2, feed_dict={X: X_valid})\n",
    "\n",
    "    for epoch in range(n_epochs):\n",
    "        shuffled_idx = np.random.permutation(len(X_train))\n",
    "        hidden2_batches = np.array_split(h2_cache[shuffled_idx], n_batches)\n",
    "        y_batches = np.array_split(y_train[shuffled_idx], n_batches)\n",
    "        for hidden2_batch, y_batch in zip(hidden2_batches, y_batches):\n",
    "            sess.run(training_op, feed_dict={hidden2:hidden2_batch, y:y_batch})\n",
    "\n",
    "        accuracy_val = accuracy.eval(feed_dict={hidden2: h2_cache_valid, y: y_valid})\n",
    "        print(epoch, 'Validation accuracy:', accuracy_val)\n",
    "    save_path = saver.save(sess, './my_new_model_final.ckpt')"
   ]
  }
 ],
 "metadata": {
  "hide_input": false,
  "kernelspec": {
   "display_name": "Python 3",
   "language": "python",
   "name": "python3"
  },
  "language_info": {
   "codemirror_mode": {
    "name": "ipython",
    "version": 3
   },
   "file_extension": ".py",
   "mimetype": "text/x-python",
   "name": "python",
   "nbconvert_exporter": "python",
   "pygments_lexer": "ipython3",
   "version": "3.7.5"
  },
  "toc": {
   "base_numbering": 1,
   "nav_menu": {},
   "number_sections": true,
   "sideBar": true,
   "skip_h1_title": false,
   "title_cell": "Table of Contents",
   "title_sidebar": "Contents",
   "toc_cell": false,
   "toc_position": {},
   "toc_section_display": true,
   "toc_window_display": false
  },
  "varInspector": {
   "cols": {
    "lenName": 16,
    "lenType": 16,
    "lenVar": 40
   },
   "kernels_config": {
    "python": {
     "delete_cmd_postfix": "",
     "delete_cmd_prefix": "del ",
     "library": "var_list.py",
     "varRefreshCmd": "print(var_dic_list())"
    },
    "r": {
     "delete_cmd_postfix": ") ",
     "delete_cmd_prefix": "rm(",
     "library": "var_list.r",
     "varRefreshCmd": "cat(var_dic_list()) "
    }
   },
   "types_to_exclude": [
    "module",
    "function",
    "builtin_function_or_method",
    "instance",
    "_Feature"
   ],
   "window_display": false
  }
 },
 "nbformat": 4,
 "nbformat_minor": 4
}
