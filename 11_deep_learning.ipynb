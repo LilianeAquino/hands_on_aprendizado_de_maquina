{
 "cells": [
  {
   "cell_type": "markdown",
   "metadata": {},
   "source": [
    "# Treinando Redes Neurais Profundas"
   ]
  },
  {
   "cell_type": "markdown",
   "metadata": {},
   "source": [
    "### Bibliotecas básicas"
   ]
  },
  {
   "cell_type": "code",
   "execution_count": 1,
   "metadata": {
    "ExecuteTime": {
     "end_time": "2021-01-14T10:42:14.256146Z",
     "start_time": "2021-01-14T10:42:11.858140Z"
    }
   },
   "outputs": [
    {
     "name": "stdout",
     "output_type": "stream",
     "text": [
      "2.1.0\n"
     ]
    }
   ],
   "source": [
    "import numpy as np\n",
    "import pandas as pd\n",
    "import matplotlib.pyplot as plt\n",
    "%matplotlib inline\n",
    "\n",
    "import warnings\n",
    "warnings.filterwarnings('ignore')\n",
    "\n",
    "import tensorflow as tf\n",
    "print(tf.__version__)"
   ]
  },
  {
   "cell_type": "markdown",
   "metadata": {},
   "source": [
    "### Normalização em lote"
   ]
  },
  {
   "cell_type": "code",
   "execution_count": null,
   "metadata": {
    "ExecuteTime": {
     "end_time": "2021-01-14T10:42:15.113280Z",
     "start_time": "2021-01-14T10:42:14.259978Z"
    }
   },
   "outputs": [],
   "source": [
    "from functools import partial\n",
    "\n",
    "tf.compat.v1.disable_eager_execution()\n",
    "tf.compat.v1.reset_default_graph()\n",
    "\n",
    "batch_norm_momentum = 0.9\n",
    "learning_rate = 0.01\n",
    "\n",
    "n_inputs = 28 * 28\n",
    "n_hidden1 = 300\n",
    "n_hidden2 = 100\n",
    "n_outputs = 10\n",
    "\n",
    "X = tf.compat.v1.placeholder(tf.float32, shape=(None, n_inputs), name='X')\n",
    "y = tf.compat.v1.placeholder(tf.int32, shape=(None), name='y')\n",
    "training = tf.compat.v1.placeholder_with_default(False, shape=(), name='training')\n",
    "\n",
    "with tf.name_scope('dnn'):\n",
    "    he_init = tf.compat.v1.variance_scaling_initializer()\n",
    "\n",
    "    my_batch_norm_layer = partial(\n",
    "            tf.compat.v1.layers.batch_normalization,\n",
    "            training=training,\n",
    "            momentum=batch_norm_momentum)\n",
    "\n",
    "    my_dense_layer = partial(\n",
    "            tf.compat.v1.layers.dense,\n",
    "            kernel_initializer=he_init)\n",
    "\n",
    "    hidden1 = my_dense_layer(X, n_hidden1, name='hidden1')\n",
    "    bn1 = tf.nn.elu(my_batch_norm_layer(hidden1))\n",
    "    hidden2 = my_dense_layer(bn1, n_hidden2, name='hidden2')\n",
    "    bn2 = tf.nn.elu(my_batch_norm_layer(hidden2))\n",
    "    logits_before_bn = my_dense_layer(bn2, n_outputs, name='outputs')\n",
    "    logits = my_batch_norm_layer(logits_before_bn)\n",
    "\n",
    "with tf.name_scope('loss'):\n",
    "    xentropy = tf.nn.sparse_softmax_cross_entropy_with_logits(labels=y, logits=logits)\n",
    "    loss = tf.reduce_mean(xentropy, name=\"loss\")\n",
    "\n",
    "with tf.name_scope('train'):\n",
    "    optimizer = tf.compat.v1.train.GradientDescentOptimizer(learning_rate)\n",
    "    training_op = optimizer.minimize(loss)\n",
    "\n",
    "with tf.name_scope('eval'):\n",
    "    correct = tf.nn.in_top_k(y, logits, 1)\n",
    "    accuracy = tf.reduce_mean(tf.cast(correct, tf.float32))\n",
    "    \n",
    "init = tf.compat.v1.global_variables_initializer()\n",
    "saver = tf.compat.v1.train.Saver()"
   ]
  },
  {
   "cell_type": "code",
   "execution_count": 3,
   "metadata": {
    "ExecuteTime": {
     "end_time": "2021-01-14T10:42:15.836866Z",
     "start_time": "2021-01-14T10:42:15.116960Z"
    }
   },
   "outputs": [],
   "source": [
    "def shuffle_batch(X, y, batch_size):\n",
    "    rnd_idx = np.random.permutation(len(X))\n",
    "    n_batches = len(X) // batch_size\n",
    "    for batch_idx in np.array_split(rnd_idx, n_batches):\n",
    "        X_batch, y_batch = X[batch_idx], y[batch_idx]\n",
    "        yield X_batch, y_batch\n",
    "        \n",
    "\n",
    "(X_train, y_train), (X_test, y_test) = tf.keras.datasets.mnist.load_data()\n",
    "X_train = X_train.astype(np.float32).reshape(-1, 28*28) / 255.0\n",
    "X_test = X_test.astype(np.float32).reshape(-1, 28*28) / 255.0\n",
    "y_train = y_train.astype(np.int32)\n",
    "y_test = y_test.astype(np.int32)\n",
    "X_valid, X_train = X_train[:5000], X_train[5000:]\n",
    "y_valid, y_train = y_train[:5000], y_train[5000:]"
   ]
  },
  {
   "cell_type": "code",
   "execution_count": 4,
   "metadata": {
    "ExecuteTime": {
     "end_time": "2021-01-14T10:42:55.008662Z",
     "start_time": "2021-01-14T10:42:15.840058Z"
    }
   },
   "outputs": [
    {
     "name": "stdout",
     "output_type": "stream",
     "text": [
      "0 Validation accuracy: 0.8924\n",
      "1 Validation accuracy: 0.9146\n",
      "2 Validation accuracy: 0.9268\n",
      "3 Validation accuracy: 0.938\n",
      "4 Validation accuracy: 0.9438\n",
      "5 Validation accuracy: 0.949\n",
      "6 Validation accuracy: 0.9526\n",
      "7 Validation accuracy: 0.9564\n",
      "8 Validation accuracy: 0.9582\n",
      "9 Validation accuracy: 0.961\n",
      "10 Validation accuracy: 0.9632\n",
      "11 Validation accuracy: 0.9654\n",
      "12 Validation accuracy: 0.9668\n",
      "13 Validation accuracy: 0.967\n",
      "14 Validation accuracy: 0.9694\n",
      "15 Validation accuracy: 0.97\n",
      "16 Validation accuracy: 0.9726\n",
      "17 Validation accuracy: 0.9732\n",
      "18 Validation accuracy: 0.9732\n",
      "19 Validation accuracy: 0.9738\n"
     ]
    }
   ],
   "source": [
    "n_epochs = 20\n",
    "batch_size = 200\n",
    "\n",
    "extra_update_ops = tf.compat.v1.get_collection(tf.compat.v1.GraphKeys.UPDATE_OPS)\n",
    "\n",
    "with tf.compat.v1.Session() as sess:\n",
    "    init.run()\n",
    "    for epoch in range(n_epochs):\n",
    "        for X_batch, y_batch in shuffle_batch(X_train, y_train, batch_size):\n",
    "            sess.run([training_op, extra_update_ops],\n",
    "                     feed_dict={training: True, X: X_batch, y: y_batch})\n",
    "        accuracy_val = accuracy.eval(feed_dict={X: X_valid, y: y_valid})\n",
    "        print(epoch, 'Validation accuracy:', accuracy_val)\n",
    "\n",
    "    save_path = saver.save(sess, './my_model_final.ckpt')"
   ]
  },
  {
   "cell_type": "markdown",
   "metadata": {},
   "source": [
    "### Gradiente Clipping"
   ]
  },
  {
   "cell_type": "code",
   "execution_count": 5,
   "metadata": {
    "ExecuteTime": {
     "end_time": "2021-01-14T10:42:55.217478Z",
     "start_time": "2021-01-14T10:42:55.022569Z"
    }
   },
   "outputs": [],
   "source": [
    "tf.compat.v1.reset_default_graph()\n",
    "\n",
    "n_inputs = 28 * 28\n",
    "n_hidden1 = 300\n",
    "n_hidden2 = 50\n",
    "n_hidden3 = 50\n",
    "n_hidden4 = 50\n",
    "n_hidden5 = 50\n",
    "n_outputs = 10\n",
    "\n",
    "learning_rate = 0.01\n",
    "\n",
    "X = tf.compat.v1.placeholder(tf.float32, shape=(None, n_inputs), name='X')\n",
    "y = tf.compat.v1.placeholder(tf.int32, shape=(None), name='y')\n",
    "\n",
    "with tf.name_scope('dnn'):\n",
    "    hidden1 = tf.compat.v1.layers.dense(X, n_hidden1, activation=tf.nn.relu, name='hidden1')\n",
    "    hidden2 = tf.compat.v1.layers.dense(hidden1, n_hidden2, activation=tf.nn.relu, name='hidden2')\n",
    "    hidden3 = tf.compat.v1.layers.dense(hidden2, n_hidden3, activation=tf.nn.relu, name='hidden3')\n",
    "    hidden4 = tf.compat.v1.layers.dense(hidden3, n_hidden4, activation=tf.nn.relu, name='hidden4')\n",
    "    hidden5 = tf.compat.v1.layers.dense(hidden4, n_hidden5, activation=tf.nn.relu, name='hidden5')\n",
    "    logits = tf.compat.v1.layers.dense(hidden5, n_outputs, name='outputs')\n",
    "\n",
    "with tf.name_scope('loss'):\n",
    "    xentropy = tf.nn.sparse_softmax_cross_entropy_with_logits(labels=y, logits=logits)\n",
    "    loss = tf.reduce_mean(xentropy, name='loss')"
   ]
  },
  {
   "cell_type": "code",
   "execution_count": 6,
   "metadata": {
    "ExecuteTime": {
     "end_time": "2021-01-14T10:43:25.248963Z",
     "start_time": "2021-01-14T10:42:55.224250Z"
    },
    "scrolled": false
   },
   "outputs": [
    {
     "name": "stdout",
     "output_type": "stream",
     "text": [
      "0 Validation accuracy: 0.5144\n",
      "1 Validation accuracy: 0.8264\n",
      "2 Validation accuracy: 0.8814\n",
      "3 Validation accuracy: 0.9018\n",
      "4 Validation accuracy: 0.9144\n",
      "5 Validation accuracy: 0.9224\n",
      "6 Validation accuracy: 0.9304\n",
      "7 Validation accuracy: 0.9362\n",
      "8 Validation accuracy: 0.9366\n",
      "9 Validation accuracy: 0.9438\n",
      "10 Validation accuracy: 0.947\n",
      "11 Validation accuracy: 0.9508\n",
      "12 Validation accuracy: 0.9518\n",
      "13 Validation accuracy: 0.9556\n",
      "14 Validation accuracy: 0.9588\n",
      "15 Validation accuracy: 0.9576\n",
      "16 Validation accuracy: 0.96\n",
      "17 Validation accuracy: 0.9626\n",
      "18 Validation accuracy: 0.963\n",
      "19 Validation accuracy: 0.967\n"
     ]
    }
   ],
   "source": [
    "threshold = 1.0\n",
    "\n",
    "optimizer = tf.compat.v1.train.GradientDescentOptimizer(learning_rate)\n",
    "grads_and_vars = optimizer.compute_gradients(loss)\n",
    "capped_gvs = [(tf.clip_by_value(grad, -threshold, threshold), var) for grad, var in grads_and_vars]\n",
    "training_op = optimizer.apply_gradients(capped_gvs)\n",
    "\n",
    "with tf.name_scope('eval'):\n",
    "    correct = tf.nn.in_top_k(y, logits, 1)\n",
    "    accuracy = tf.reduce_mean(tf.cast(correct, tf.float32), name='accuracy')\n",
    "    \n",
    "init = tf.compat.v1.global_variables_initializer()\n",
    "saver = tf.compat.v1.train.Saver()\n",
    "\n",
    "\n",
    "n_epochs = 20\n",
    "batch_size = 200\n",
    "\n",
    "\n",
    "with tf.compat.v1.Session() as sess:\n",
    "    init.run()\n",
    "    for epoch in range(n_epochs):\n",
    "        for X_batch, y_batch in shuffle_batch(X_train, y_train, batch_size):\n",
    "            sess.run(training_op, feed_dict={X: X_batch, y: y_batch})\n",
    "        accuracy_val = accuracy.eval(feed_dict={X: X_valid, y: y_valid})\n",
    "        print(epoch, 'Validation accuracy:', accuracy_val)\n",
    "\n",
    "    save_path = saver.save(sess, './my_model_final.ckpt')"
   ]
  },
  {
   "cell_type": "markdown",
   "metadata": {},
   "source": [
    "### Reutilizando um modelo TensorFlow"
   ]
  },
  {
   "cell_type": "markdown",
   "metadata": {},
   "source": [
    "#### Carrega a estrutura do grafo e lista as operações"
   ]
  },
  {
   "cell_type": "code",
   "execution_count": null,
   "metadata": {
    "ExecuteTime": {
     "end_time": "2021-01-14T10:43:25.371106Z",
     "start_time": "2021-01-14T10:43:25.254070Z"
    }
   },
   "outputs": [],
   "source": [
    "tf.compat.v1.reset_default_graph()\n",
    "\n",
    "saver = tf.compat.v1.train.import_meta_graph('./my_model_final.ckpt.meta')\n",
    "\n",
    "for op in tf.compat.v1.get_default_graph().get_operations():\n",
    "    print(op.name)"
   ]
  },
  {
   "cell_type": "markdown",
   "metadata": {},
   "source": [
    "#### Carrega as operações que serão utilizadas"
   ]
  },
  {
   "cell_type": "code",
   "execution_count": 8,
   "metadata": {
    "ExecuteTime": {
     "end_time": "2021-01-14T10:43:25.499669Z",
     "start_time": "2021-01-14T10:43:25.375369Z"
    }
   },
   "outputs": [],
   "source": [
    "X = tf.compat.v1.get_default_graph().get_tensor_by_name('X:0')\n",
    "y = tf.compat.v1.get_default_graph().get_tensor_by_name('y:0')\n",
    "\n",
    "accuracy = tf.compat.v1.get_default_graph().get_tensor_by_name('eval/accuracy:0')\n",
    "training_op = tf.compat.v1.get_default_graph().get_operation_by_name('GradientDescent')"
   ]
  },
  {
   "cell_type": "markdown",
   "metadata": {},
   "source": [
    "#### Criando uma coleção contendo todas as operações importantes"
   ]
  },
  {
   "cell_type": "code",
   "execution_count": 9,
   "metadata": {
    "ExecuteTime": {
     "end_time": "2021-01-14T10:43:25.717944Z",
     "start_time": "2021-01-14T10:43:25.504853Z"
    }
   },
   "outputs": [],
   "source": [
    "for op in (X, y, accuracy, training_op):\n",
    "    tf.compat.v1.add_to_collection('my_important_ops', op)"
   ]
  },
  {
   "cell_type": "code",
   "execution_count": 10,
   "metadata": {
    "ExecuteTime": {
     "end_time": "2021-01-14T10:43:25.825793Z",
     "start_time": "2021-01-14T10:43:25.723035Z"
    }
   },
   "outputs": [],
   "source": [
    "X, y, accuracy, training_op = tf.compat.v1.get_collection('my_important_ops')"
   ]
  },
  {
   "cell_type": "markdown",
   "metadata": {},
   "source": [
    "#### Inicia uma sessão, restaura o estado do modelo e continua treinando em seus dados:"
   ]
  },
  {
   "cell_type": "code",
   "execution_count": 11,
   "metadata": {
    "ExecuteTime": {
     "end_time": "2021-01-14T10:43:56.220341Z",
     "start_time": "2021-01-14T10:43:25.828812Z"
    }
   },
   "outputs": [
    {
     "name": "stdout",
     "output_type": "stream",
     "text": [
      "INFO:tensorflow:Restoring parameters from ./my_model_final.ckpt\n",
      "0 Validation accuracy: 0.965\n",
      "1 Validation accuracy: 0.9642\n",
      "2 Validation accuracy: 0.965\n",
      "3 Validation accuracy: 0.9696\n",
      "4 Validation accuracy: 0.9698\n",
      "5 Validation accuracy: 0.971\n",
      "6 Validation accuracy: 0.9698\n",
      "7 Validation accuracy: 0.9706\n",
      "8 Validation accuracy: 0.9712\n",
      "9 Validation accuracy: 0.97\n",
      "10 Validation accuracy: 0.9714\n",
      "11 Validation accuracy: 0.9722\n",
      "12 Validation accuracy: 0.973\n",
      "13 Validation accuracy: 0.9714\n",
      "14 Validation accuracy: 0.973\n",
      "15 Validation accuracy: 0.9732\n",
      "16 Validation accuracy: 0.9746\n",
      "17 Validation accuracy: 0.9744\n",
      "18 Validation accuracy: 0.9714\n",
      "19 Validation accuracy: 0.975\n"
     ]
    }
   ],
   "source": [
    "with tf.compat.v1.Session() as sess:\n",
    "    saver.restore(sess, './my_model_final.ckpt')\n",
    "\n",
    "    for epoch in range(n_epochs):\n",
    "        for X_batch, y_batch in shuffle_batch(X_train, y_train, batch_size):\n",
    "            sess.run(training_op, feed_dict={X: X_batch, y: y_batch})\n",
    "        accuracy_val = accuracy.eval(feed_dict={X: X_valid, y: y_valid})\n",
    "        print(epoch, 'Validation accuracy:', accuracy_val)\n",
    "\n",
    "    save_path = saver.save(sess, './my_new_model_final.ckpt')"
   ]
  },
  {
   "cell_type": "markdown",
   "metadata": {},
   "source": [
    "#### Adicionamos uma nova 4ª camada oculta no topo da 3ª camada pré-treinada"
   ]
  },
  {
   "cell_type": "code",
   "execution_count": 17,
   "metadata": {
    "ExecuteTime": {
     "end_time": "2021-01-14T10:56:04.831828Z",
     "start_time": "2021-01-14T10:56:04.592908Z"
    }
   },
   "outputs": [],
   "source": [
    "tf.compat.v1.reset_default_graph()\n",
    "\n",
    "n_hidden4 = 20  #nova camada\n",
    "n_outputs = 10  #nova camada\n",
    "\n",
    "saver = tf.compat.v1.train.import_meta_graph('./my_model_final.ckpt.meta')\n",
    "\n",
    "X = tf.compat.v1.get_default_graph().get_tensor_by_name('X:0')\n",
    "y = tf.compat.v1.get_default_graph().get_tensor_by_name('y:0')\n",
    "\n",
    "hidden3 = tf.compat.v1.get_default_graph().get_tensor_by_name('dnn/hidden3/Relu:0')\n",
    "\n",
    "new_hidden4 = tf.compat.v1.layers.dense(hidden3, n_hidden4, activation=tf.nn.relu, name='new_hidden4')\n",
    "new_logits = tf.compat.v1.layers.dense(new_hidden4, n_outputs, name='new_outputs')\n",
    "\n",
    "with tf.name_scope('new_loss'):\n",
    "    xentropy = tf.nn.sparse_softmax_cross_entropy_with_logits(labels=y, logits=new_logits)\n",
    "    loss = tf.reduce_mean(xentropy, name='loss')\n",
    "\n",
    "with tf.name_scope('new_eval'):\n",
    "    correct = tf.nn.in_top_k(y, new_logits, 1)\n",
    "    accuracy = tf.reduce_mean(tf.cast(correct, tf.float32), name='accuracy')\n",
    "\n",
    "with tf.name_scope('new_train'):\n",
    "    optimizer = tf.compat.v1.train.GradientDescentOptimizer(learning_rate)\n",
    "    training_op = optimizer.minimize(loss)\n",
    "\n",
    "init = tf.compat.v1.global_variables_initializer()\n",
    "new_saver = tf.compat.v1.train.Saver()"
   ]
  },
  {
   "cell_type": "code",
   "execution_count": 18,
   "metadata": {
    "ExecuteTime": {
     "end_time": "2021-01-14T10:57:26.136366Z",
     "start_time": "2021-01-14T10:56:58.569333Z"
    }
   },
   "outputs": [
    {
     "name": "stdout",
     "output_type": "stream",
     "text": [
      "INFO:tensorflow:Restoring parameters from ./my_model_final.ckpt\n",
      "0 Validation accuracy: 0.8996\n",
      "1 Validation accuracy: 0.9338\n",
      "2 Validation accuracy: 0.9466\n",
      "3 Validation accuracy: 0.9526\n",
      "4 Validation accuracy: 0.9536\n",
      "5 Validation accuracy: 0.9578\n",
      "6 Validation accuracy: 0.9602\n",
      "7 Validation accuracy: 0.9626\n",
      "8 Validation accuracy: 0.9628\n",
      "9 Validation accuracy: 0.9646\n",
      "10 Validation accuracy: 0.966\n",
      "11 Validation accuracy: 0.9676\n",
      "12 Validation accuracy: 0.9692\n",
      "13 Validation accuracy: 0.968\n",
      "14 Validation accuracy: 0.9708\n",
      "15 Validation accuracy: 0.9698\n",
      "16 Validation accuracy: 0.9724\n",
      "17 Validation accuracy: 0.9724\n",
      "18 Validation accuracy: 0.9732\n",
      "19 Validation accuracy: 0.9716\n"
     ]
    }
   ],
   "source": [
    "with tf.compat.v1.Session() as sess:\n",
    "    init.run()\n",
    "    saver.restore(sess, './my_model_final.ckpt')\n",
    "\n",
    "    for epoch in range(n_epochs):\n",
    "        for X_batch, y_batch in shuffle_batch(X_train, y_train, batch_size):\n",
    "            sess.run(training_op, feed_dict={X: X_batch, y: y_batch})\n",
    "        accuracy_val = accuracy.eval(feed_dict={X: X_valid, y: y_valid})\n",
    "        print(epoch, 'Validation accuracy:', accuracy_val)\n",
    "\n",
    "    save_path = new_saver.save(sess, './my_new_model_final.ckpt')"
   ]
  }
 ],
 "metadata": {
  "hide_input": false,
  "kernelspec": {
   "display_name": "Python 3",
   "language": "python",
   "name": "python3"
  },
  "language_info": {
   "codemirror_mode": {
    "name": "ipython",
    "version": 3
   },
   "file_extension": ".py",
   "mimetype": "text/x-python",
   "name": "python",
   "nbconvert_exporter": "python",
   "pygments_lexer": "ipython3",
   "version": "3.7.5"
  },
  "toc": {
   "base_numbering": 1,
   "nav_menu": {},
   "number_sections": true,
   "sideBar": true,
   "skip_h1_title": false,
   "title_cell": "Table of Contents",
   "title_sidebar": "Contents",
   "toc_cell": false,
   "toc_position": {},
   "toc_section_display": true,
   "toc_window_display": false
  },
  "varInspector": {
   "cols": {
    "lenName": 16,
    "lenType": 16,
    "lenVar": 40
   },
   "kernels_config": {
    "python": {
     "delete_cmd_postfix": "",
     "delete_cmd_prefix": "del ",
     "library": "var_list.py",
     "varRefreshCmd": "print(var_dic_list())"
    },
    "r": {
     "delete_cmd_postfix": ") ",
     "delete_cmd_prefix": "rm(",
     "library": "var_list.r",
     "varRefreshCmd": "cat(var_dic_list()) "
    }
   },
   "types_to_exclude": [
    "module",
    "function",
    "builtin_function_or_method",
    "instance",
    "_Feature"
   ],
   "window_display": false
  }
 },
 "nbformat": 4,
 "nbformat_minor": 4
}
