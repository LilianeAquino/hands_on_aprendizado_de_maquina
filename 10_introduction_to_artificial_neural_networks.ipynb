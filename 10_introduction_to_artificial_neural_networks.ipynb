{
 "cells": [
  {
   "cell_type": "markdown",
   "metadata": {},
   "source": [
    "# Redes Neurais Artificiais"
   ]
  },
  {
   "cell_type": "markdown",
   "metadata": {},
   "source": [
    "###  Bibliotecas básicas"
   ]
  },
  {
   "cell_type": "code",
   "execution_count": 1,
   "metadata": {
    "ExecuteTime": {
     "end_time": "2021-01-07T11:30:13.946855Z",
     "start_time": "2021-01-07T11:30:11.425890Z"
    }
   },
   "outputs": [
    {
     "name": "stdout",
     "output_type": "stream",
     "text": [
      "2.1.0\n"
     ]
    }
   ],
   "source": [
    "import numpy as np\n",
    "import pandas as pd\n",
    "import matplotlib as mpl\n",
    "import matplotlib.pyplot as plt\n",
    "\n",
    "%matplotlib inline\n",
    "\n",
    "import warnings\n",
    "warnings.filterwarnings('ignore')\n",
    "\n",
    "import tensorflow as tf\n",
    "print(tf.__version__)"
   ]
  },
  {
   "cell_type": "markdown",
   "metadata": {},
   "source": [
    "### Perceptrons"
   ]
  },
  {
   "cell_type": "code",
   "execution_count": 2,
   "metadata": {
    "ExecuteTime": {
     "end_time": "2021-01-07T11:30:14.342460Z",
     "start_time": "2021-01-07T11:30:13.950709Z"
    }
   },
   "outputs": [
    {
     "data": {
      "text/plain": [
       "array([1])"
      ]
     },
     "execution_count": 2,
     "metadata": {},
     "output_type": "execute_result"
    }
   ],
   "source": [
    "import numpy as np\n",
    "from sklearn.datasets import load_iris\n",
    "from sklearn.linear_model import Perceptron\n",
    "\n",
    "iris = load_iris()\n",
    "X = iris.data[:, (2, 3)]\n",
    "y = (iris.target == 0).astype(np.int)\n",
    "\n",
    "per_clf = Perceptron(max_iter=100, tol=-np.infty, random_state=42)\n",
    "per_clf.fit(X, y)\n",
    "\n",
    "y_pred = per_clf.predict([[2, 0.5]])\n",
    "y_pred"
   ]
  },
  {
   "cell_type": "code",
   "execution_count": 3,
   "metadata": {
    "ExecuteTime": {
     "end_time": "2021-01-07T11:30:14.856041Z",
     "start_time": "2021-01-07T11:30:14.345083Z"
    }
   },
   "outputs": [
    {
     "data": {
      "image/png": "[encoded data removed]",
      "text/plain": [
       "<Figure size 720x288 with 1 Axes>"
      ]
     },
     "metadata": {
      "needs_background": "light"
     },
     "output_type": "display_data"
    }
   ],
   "source": [
    "from matplotlib.colors import ListedColormap\n",
    "custom_cmap = ListedColormap(['#9898ff', '#fafab0'])\n",
    "\n",
    "a = -per_clf.coef_[0][0] / per_clf.coef_[0][1]\n",
    "b = -per_clf.intercept_ / per_clf.coef_[0][1]\n",
    "axes = [0, 5, 0, 2]\n",
    "\n",
    "x0, x1 = np.meshgrid(np.linspace(axes[0], axes[1], 500).reshape(-1, 1), np.linspace(axes[2], axes[3], 200).reshape(-1, 1))\n",
    "X_new = np.c_[x0.ravel(), x1.ravel()]\n",
    "y_predict = per_clf.predict(X_new)\n",
    "zz = y_predict.reshape(x0.shape)\n",
    "\n",
    "plt.figure(figsize=(10, 4))\n",
    "plt.plot(X[y==0, 0], X[y==0, 1], 'bs', label='Não é Iris-Setosa')\n",
    "plt.plot(X[y==1, 0], X[y==1, 1], 'yo', label='Iris-Setosa')\n",
    "plt.plot([axes[0], axes[1]], [a * axes[0] + b, a * axes[1] + b], 'k-', linewidth=3)\n",
    "plt.contourf(x0, x1, zz, cmap=custom_cmap)\n",
    "plt.title('Fronteira de decisão - Perceptron')\n",
    "plt.xlabel('Comprimento da pétala', fontsize=14)\n",
    "plt.ylabel('Largura da pétala', fontsize=14)\n",
    "plt.legend(loc='lower right', fontsize=14)\n",
    "plt.axis(axes)\n",
    "plt.show()"
   ]
  },
  {
   "cell_type": "markdown",
   "metadata": {},
   "source": [
    "### Treinando MLP com a API de alto nível do TensorFlow"
   ]
  },
  {
   "cell_type": "code",
   "execution_count": 4,
   "metadata": {
    "ExecuteTime": {
     "end_time": "2021-01-07T11:30:15.565508Z",
     "start_time": "2021-01-07T11:30:14.859270Z"
    }
   },
   "outputs": [],
   "source": [
    "(X_train, y_train), (X_test, y_test) = tf.keras.datasets.mnist.load_data()\n",
    "\n",
    "X_train = X_train.astype(np.float32).reshape(-1, 28*28) / 255.0\n",
    "X_test = X_test.astype(np.float32).reshape(-1, 28*28) / 255.0\n",
    "\n",
    "y_train = y_train.astype(np.int32)\n",
    "y_test = y_test.astype(np.int32)\n",
    "\n",
    "X_valid, X_train = X_train[:5000], X_train[5000:]\n",
    "y_valid, y_train = y_train[:5000], y_train[5000:]"
   ]
  },
  {
   "cell_type": "code",
   "execution_count": null,
   "metadata": {
    "ExecuteTime": {
     "end_time": "2021-01-07T11:32:45.501214Z",
     "start_time": "2021-01-07T11:30:15.572006Z"
    }
   },
   "outputs": [],
   "source": [
    "feature_cols = [tf.feature_column.numeric_column('X', shape=[28 * 28])]\n",
    "\n",
    "dnn_clf = tf.estimator.DNNClassifier(hidden_units=[300,100], n_classes=10, feature_columns=feature_cols)\n",
    "\n",
    "input_fn = tf.compat.v1.estimator.inputs.numpy_input_fn(x={'X': X_train}, y=y_train, num_epochs=40, batch_size=50, shuffle=True)\n",
    "dnn_clf.train(input_fn=input_fn)"
   ]
  },
  {
   "cell_type": "code",
   "execution_count": 6,
   "metadata": {
    "ExecuteTime": {
     "end_time": "2021-01-07T11:32:46.678248Z",
     "start_time": "2021-01-07T11:32:45.507235Z"
    }
   },
   "outputs": [
    {
     "name": "stdout",
     "output_type": "stream",
     "text": [
      "INFO:tensorflow:Calling model_fn.\n",
      "INFO:tensorflow:Done calling model_fn.\n",
      "INFO:tensorflow:Starting evaluation at 2021-01-07T08:32:45Z\n",
      "INFO:tensorflow:Graph was finalized.\n",
      "INFO:tensorflow:Restoring parameters from /tmp/tmpymo3qmiv/model.ckpt-44000\n",
      "INFO:tensorflow:Running local_init_op.\n",
      "INFO:tensorflow:Done running local_init_op.\n",
      "INFO:tensorflow:Inference Time : 0.58764s\n",
      "INFO:tensorflow:Finished evaluation at 2021-01-07-08:32:46\n",
      "INFO:tensorflow:Saving dict for global step 44000: accuracy = 0.949, average_loss = 0.18026508, global_step = 44000, loss = 0.1790233\n",
      "INFO:tensorflow:Saving 'checkpoint_path' summary for global step 44000: /tmp/tmpymo3qmiv/model.ckpt-44000\n"
     ]
    }
   ],
   "source": [
    "test_input_fn = tf.compat.v1.estimator.inputs.numpy_input_fn(x={'X': X_test}, y=y_test, shuffle=False)\n",
    "eval_results = dnn_clf.evaluate(input_fn=test_input_fn)"
   ]
  },
  {
   "cell_type": "code",
   "execution_count": 7,
   "metadata": {
    "ExecuteTime": {
     "end_time": "2021-01-07T11:32:46.689789Z",
     "start_time": "2021-01-07T11:32:46.681464Z"
    }
   },
   "outputs": [
    {
     "data": {
      "text/plain": [
       "{'accuracy': 0.949,\n",
       " 'average_loss': 0.18026508,\n",
       " 'loss': 0.1790233,\n",
       " 'global_step': 44000}"
      ]
     },
     "execution_count": 7,
     "metadata": {},
     "output_type": "execute_result"
    }
   ],
   "source": [
    "eval_results"
   ]
  },
  {
   "cell_type": "code",
   "execution_count": 8,
   "metadata": {
    "ExecuteTime": {
     "end_time": "2021-01-07T11:32:48.023351Z",
     "start_time": "2021-01-07T11:32:46.693378Z"
    }
   },
   "outputs": [
    {
     "name": "stdout",
     "output_type": "stream",
     "text": [
      "INFO:tensorflow:Calling model_fn.\n",
      "INFO:tensorflow:Done calling model_fn.\n",
      "INFO:tensorflow:Graph was finalized.\n",
      "INFO:tensorflow:Restoring parameters from /tmp/tmpymo3qmiv/model.ckpt-44000\n",
      "INFO:tensorflow:Running local_init_op.\n",
      "INFO:tensorflow:Done running local_init_op.\n",
      "{'logits': array([-3.2897203 , -4.054579  , -0.5177555 ,  0.64667684, -5.86211   ,\n",
      "       -1.927148  , -7.5822105 ,  7.3848577 , -3.5555332 , -1.2590994 ],\n",
      "      dtype=float32), 'probabilities': array([2.3082155e-05, 1.0742433e-05, 3.6908404e-04, 1.1825836e-03,\n",
      "       1.7623889e-06, 9.0164111e-05, 3.1555251e-07, 9.9812871e-01,\n",
      "       1.7694378e-05, 1.7585861e-04], dtype=float32), 'class_ids': array([7]), 'classes': array([b'7'], dtype=object), 'all_class_ids': array([0, 1, 2, 3, 4, 5, 6, 7, 8, 9], dtype=int32), 'all_classes': array([b'0', b'1', b'2', b'3', b'4', b'5', b'6', b'7', b'8', b'9'],\n",
      "      dtype=object)}\n"
     ]
    }
   ],
   "source": [
    "y_pred_iter = dnn_clf.predict(input_fn=test_input_fn)\n",
    "y_pred = list(y_pred_iter)\n",
    "print(y_pred[0])"
   ]
  },
  {
   "cell_type": "markdown",
   "metadata": {},
   "source": [
    "### Treinando uma DNN usando TensorFlow regular"
   ]
  },
  {
   "cell_type": "markdown",
   "metadata": {},
   "source": [
    "#### Fase de construção"
   ]
  },
  {
   "cell_type": "code",
   "execution_count": 16,
   "metadata": {
    "ExecuteTime": {
     "end_time": "2021-01-07T11:42:43.962629Z",
     "start_time": "2021-01-07T11:42:43.810080Z"
    }
   },
   "outputs": [],
   "source": [
    "tf.compat.v1.disable_eager_execution()\n",
    "\n",
    "n_inputs = 28*28  # MNIST\n",
    "n_hidden1 = 300\n",
    "n_hidden2 = 100\n",
    "n_outputs = 10\n",
    "\n",
    "tf.compat.v1.reset_default_graph()\n",
    "\n",
    "X = tf.compat.v1.placeholder(tf.float32, shape=(None, n_inputs), name='X')\n",
    "y = tf.compat.v1.placeholder(tf.int32, shape=(None), name='y')\n",
    "\n",
    "\n",
    "with tf.name_scope('dnn'):\n",
    "    hidden1 = tf.compat.v1.layers.dense(X, n_hidden1, name='hidden1', activation=tf.nn.relu)\n",
    "    hidden2 = tf.compat.v1.layers.dense(hidden1, n_hidden2, name='hidden2', activation=tf.nn.relu)\n",
    "    logits = tf.compat.v1.layers.dense(hidden2, n_outputs, name='outputs')\n",
    "    \n",
    "\n",
    "with tf.name_scope('loss'):\n",
    "    xentropy = tf.nn.sparse_softmax_cross_entropy_with_logits(labels=y, logits=logits)\n",
    "    loss = tf.reduce_mean(xentropy, name='loss')\n",
    "    \n",
    "    \n",
    "learning_rate = 0.01\n",
    "\n",
    "with tf.name_scope('train'):\n",
    "    optimizer = tf.compat.v1.train.GradientDescentOptimizer(learning_rate)\n",
    "    training_op = optimizer.minimize(loss)\n",
    "    \n",
    "with tf.name_scope('eval'):\n",
    "    correct = tf.nn.in_top_k(y, logits, 1)\n",
    "    accuracy = tf.reduce_mean(tf.cast(correct, tf.float32))\n",
    "    \n",
    "init = tf.compat.v1.global_variables_initializer()\n",
    "saver = tf.compat.v1.train.Saver()"
   ]
  },
  {
   "cell_type": "markdown",
   "metadata": {},
   "source": [
    "#### Fase de execução"
   ]
  },
  {
   "cell_type": "code",
   "execution_count": 17,
   "metadata": {
    "ExecuteTime": {
     "end_time": "2021-01-07T11:45:07.578544Z",
     "start_time": "2021-01-07T11:43:12.412697Z"
    }
   },
   "outputs": [
    {
     "name": "stdout",
     "output_type": "stream",
     "text": [
      "0 Batch accuracy: 0.88 Val accuracy: 0.9008\n",
      "1 Batch accuracy: 0.94 Val accuracy: 0.9242\n",
      "2 Batch accuracy: 0.94 Val accuracy: 0.9338\n",
      "3 Batch accuracy: 0.98 Val accuracy: 0.9422\n",
      "4 Batch accuracy: 0.98 Val accuracy: 0.9458\n",
      "5 Batch accuracy: 0.94 Val accuracy: 0.9504\n",
      "6 Batch accuracy: 0.96 Val accuracy: 0.9542\n",
      "7 Batch accuracy: 0.94 Val accuracy: 0.9578\n",
      "8 Batch accuracy: 0.94 Val accuracy: 0.9592\n",
      "9 Batch accuracy: 1.0 Val accuracy: 0.9626\n",
      "10 Batch accuracy: 0.94 Val accuracy: 0.9646\n",
      "11 Batch accuracy: 1.0 Val accuracy: 0.9676\n",
      "12 Batch accuracy: 0.94 Val accuracy: 0.9676\n",
      "13 Batch accuracy: 0.96 Val accuracy: 0.9684\n",
      "14 Batch accuracy: 1.0 Val accuracy: 0.9698\n",
      "15 Batch accuracy: 0.94 Val accuracy: 0.9706\n",
      "16 Batch accuracy: 1.0 Val accuracy: 0.9714\n",
      "17 Batch accuracy: 1.0 Val accuracy: 0.971\n",
      "18 Batch accuracy: 1.0 Val accuracy: 0.9738\n",
      "19 Batch accuracy: 1.0 Val accuracy: 0.9748\n",
      "20 Batch accuracy: 0.98 Val accuracy: 0.9736\n",
      "21 Batch accuracy: 0.98 Val accuracy: 0.975\n",
      "22 Batch accuracy: 1.0 Val accuracy: 0.9754\n",
      "23 Batch accuracy: 0.98 Val accuracy: 0.9772\n",
      "24 Batch accuracy: 1.0 Val accuracy: 0.9756\n",
      "25 Batch accuracy: 1.0 Val accuracy: 0.9766\n",
      "26 Batch accuracy: 1.0 Val accuracy: 0.9776\n",
      "27 Batch accuracy: 0.98 Val accuracy: 0.9768\n",
      "28 Batch accuracy: 0.98 Val accuracy: 0.9786\n",
      "29 Batch accuracy: 0.96 Val accuracy: 0.9776\n",
      "30 Batch accuracy: 1.0 Val accuracy: 0.9782\n",
      "31 Batch accuracy: 1.0 Val accuracy: 0.9784\n",
      "32 Batch accuracy: 1.0 Val accuracy: 0.9788\n",
      "33 Batch accuracy: 1.0 Val accuracy: 0.9788\n",
      "34 Batch accuracy: 0.98 Val accuracy: 0.979\n",
      "35 Batch accuracy: 1.0 Val accuracy: 0.9798\n",
      "36 Batch accuracy: 1.0 Val accuracy: 0.9794\n",
      "37 Batch accuracy: 0.98 Val accuracy: 0.9802\n",
      "38 Batch accuracy: 1.0 Val accuracy: 0.9792\n",
      "39 Batch accuracy: 1.0 Val accuracy: 0.9796\n"
     ]
    }
   ],
   "source": [
    "n_epochs = 40\n",
    "batch_size = 50\n",
    "\n",
    "def shuffle_batch(X, y, batch_size):\n",
    "    rnd_idx = np.random.permutation(len(X))\n",
    "    n_batches = len(X) // batch_size\n",
    "    for batch_idx in np.array_split(rnd_idx, n_batches):\n",
    "        X_batch, y_batch = X[batch_idx], y[batch_idx]\n",
    "        yield X_batch, y_batch\n",
    "        \n",
    "        \n",
    "with tf.compat.v1.Session() as sess:\n",
    "    init.run()\n",
    "    for epoch in range(n_epochs):\n",
    "        for X_batch, y_batch in shuffle_batch(X_train, y_train, batch_size):\n",
    "            sess.run(training_op, feed_dict={X: X_batch, y: y_batch})\n",
    "        acc_batch = accuracy.eval(feed_dict={X: X_batch, y: y_batch})\n",
    "        acc_val = accuracy.eval(feed_dict={X: X_valid, y: y_valid})\n",
    "        print(epoch, 'Batch accuracy:', acc_batch, 'Val accuracy:', acc_val)\n",
    "\n",
    "    save_path = saver.save(sess, '/tmp/my_model_final.ckpt')"
   ]
  },
  {
   "cell_type": "code",
   "execution_count": 18,
   "metadata": {
    "ExecuteTime": {
     "end_time": "2021-01-07T11:47:18.834913Z",
     "start_time": "2021-01-07T11:47:18.738449Z"
    }
   },
   "outputs": [
    {
     "name": "stdout",
     "output_type": "stream",
     "text": [
      "INFO:tensorflow:Restoring parameters from /tmp/my_model_final.ckpt\n",
      "Predicted classes: [7 2 1 0 4 1 4 9 6 9 0 6 9 0 1 5 9 7 3 4]\n",
      "Actual classes: [7 2 1 0 4 1 4 9 5 9 0 6 9 0 1 5 9 7 3 4]\n"
     ]
    }
   ],
   "source": [
    "with tf.compat.v1.Session() as sess:\n",
    "    saver.restore(sess, '/tmp/my_model_final.ckpt')\n",
    "    X_new_scaled = X_test[:20]\n",
    "    Z = logits.eval(feed_dict={X: X_new_scaled})\n",
    "    y_pred = np.argmax(Z, axis=1)\n",
    "    \n",
    "print('Predicted classes:', y_pred)\n",
    "print('Actual classes:', y_test[:20])"
   ]
  }
 ],
 "metadata": {
  "hide_input": false,
  "kernelspec": {
   "display_name": "Python 3",
   "language": "python",
   "name": "python3"
  },
  "language_info": {
   "codemirror_mode": {
    "name": "ipython",
    "version": 3
   },
   "file_extension": ".py",
   "mimetype": "text/x-python",
   "name": "python",
   "nbconvert_exporter": "python",
   "pygments_lexer": "ipython3",
   "version": "3.7.5"
  },
  "toc": {
   "base_numbering": 1,
   "nav_menu": {},
   "number_sections": true,
   "sideBar": true,
   "skip_h1_title": false,
   "title_cell": "Table of Contents",
   "title_sidebar": "Contents",
   "toc_cell": false,
   "toc_position": {},
   "toc_section_display": true,
   "toc_window_display": false
  },
  "varInspector": {
   "cols": {
    "lenName": 16,
    "lenType": 16,
    "lenVar": 40
   },
   "kernels_config": {
    "python": {
     "delete_cmd_postfix": "",
     "delete_cmd_prefix": "del ",
     "library": "var_list.py",
     "varRefreshCmd": "print(var_dic_list())"
    },
    "r": {
     "delete_cmd_postfix": ") ",
     "delete_cmd_prefix": "rm(",
     "library": "var_list.r",
     "varRefreshCmd": "cat(var_dic_list()) "
    }
   },
   "types_to_exclude": [
    "module",
    "function",
    "builtin_function_or_method",
    "instance",
    "_Feature"
   ],
   "window_display": false
  }
 },
 "nbformat": 4,
 "nbformat_minor": 4
}
