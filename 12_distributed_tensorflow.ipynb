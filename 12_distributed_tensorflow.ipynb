{
  "nbformat": 4,
  "nbformat_minor": 0,
  "metadata": {
    "hide_input": false,
    "kernelspec": {
      "display_name": "Python 3",
      "language": "python",
      "name": "python3"
    },
    "language_info": {
      "codemirror_mode": {
        "name": "ipython",
        "version": 3
      },
      "file_extension": ".py",
      "mimetype": "text/x-python",
      "name": "python",
      "nbconvert_exporter": "python",
      "pygments_lexer": "ipython3",
      "version": "3.7.5"
    },
    "toc": {
      "base_numbering": 1,
      "nav_menu": {},
      "number_sections": true,
      "sideBar": true,
      "skip_h1_title": false,
      "title_cell": "Table of Contents",
      "title_sidebar": "Contents",
      "toc_cell": false,
      "toc_position": {},
      "toc_section_display": true,
      "toc_window_display": false
    },
    "varInspector": {
      "cols": {
        "lenName": 16,
        "lenType": 16,
        "lenVar": 40
      },
      "kernels_config": {
        "python": {
          "delete_cmd_postfix": "",
          "delete_cmd_prefix": "del ",
          "library": "var_list.py",
          "varRefreshCmd": "print(var_dic_list())"
        },
        "r": {
          "delete_cmd_postfix": ") ",
          "delete_cmd_prefix": "rm(",
          "library": "var_list.r",
          "varRefreshCmd": "cat(var_dic_list()) "
        }
      },
      "types_to_exclude": [
        "module",
        "function",
        "builtin_function_or_method",
        "instance",
        "_Feature"
      ],
      "window_display": false
    },
    "colab": {
      "name": "12_distributed_tensorflow.ipynb",
      "provenance": [],
      "collapsed_sections": []
    },
    "accelerator": "GPU"
  },
  "cells": [
    {
      "cell_type": "markdown",
      "metadata": {
        "id": "kf-btQN3VCR3"
      },
      "source": [
        "# Distribuindo o TensorFlow por dispositivos e servidores"
      ]
    },
    {
      "cell_type": "markdown",
      "metadata": {
        "id": "_Ii_-XOiVCSC"
      },
      "source": [
        "### Bibliotecas básicas"
      ]
    },
    {
      "cell_type": "code",
      "metadata": {
        "ExecuteTime": {
          "end_time": "2021-01-20T09:57:18.275934Z",
          "start_time": "2021-01-20T09:56:36.091779Z"
        },
        "colab": {
          "base_uri": "https://localhost:8080/"
        },
        "id": "un4-TVdEVCSD",
        "outputId": "9927346f-5f1e-4eb0-a131-b176be768ab4"
      },
      "source": [
        "import numpy as np\n",
        "import pandas as pd\n",
        "from functools import partial\n",
        "import matplotlib.pyplot as plt\n",
        "%matplotlib inline\n",
        "\n",
        "import warnings\n",
        "warnings.filterwarnings('ignore')\n",
        "\n",
        "import tensorflow as tf\n",
        "print(tf.__version__)"
      ],
      "execution_count": 16,
      "outputs": [
        {
          "output_type": "stream",
          "text": [
            "2.4.0\n"
          ],
          "name": "stdout"
        }
      ]
    },
    {
      "cell_type": "code",
      "metadata": {
        "id": "FTyX5IwLWfuN"
      },
      "source": [
        "tf.compat.v1.disable_eager_execution()"
      ],
      "execution_count": 17,
      "outputs": []
    },
    {
      "cell_type": "markdown",
      "metadata": {
        "id": "fYR1EP0eVCSH"
      },
      "source": [
        "### Servidor Local"
      ]
    },
    {
      "cell_type": "code",
      "metadata": {
        "colab": {
          "base_uri": "https://localhost:8080/"
        },
        "id": "1y947Xz1WSrb",
        "outputId": "c5239f92-f5be-4260-cdaf-3b84cfeb145f"
      },
      "source": [
        "tf.compat.v1.reset_default_graph()\n",
        "\n",
        "c = tf.constant(\"Hello distributed TensorFlow!\")\n",
        "server = tf.compat.v1.train.Server.create_local_server()\n",
        "\n",
        "with tf.compat.v1.Session(server.target) as sess:\n",
        "    print(sess.run(c))"
      ],
      "execution_count": 18,
      "outputs": [
        {
          "output_type": "stream",
          "text": [
            "b'Hello distributed TensorFlow!'\n"
          ],
          "name": "stdout"
        }
      ]
    },
    {
      "cell_type": "markdown",
      "metadata": {
        "id": "vzEBnB85b7s9"
      },
      "source": [
        "#### Posicionamento Simples"
      ]
    },
    {
      "cell_type": "code",
      "metadata": {
        "colab": {
          "base_uri": "https://localhost:8080/"
        },
        "id": "5r53E62qWyvu",
        "outputId": "7eb576db-eba2-4c1f-d2fa-1b4af897ee54"
      },
      "source": [
        "with tf.compat.v1.device('/cpu:0'):\n",
        "  a = tf.Variable(3.0)\n",
        "  b = tf.constant(4.0)\n",
        "c = a * b\n",
        "\n",
        "config = tf.compat.v1.ConfigProto()\n",
        "config.log_device_placement = True\n",
        "\n",
        "sess = tf.compat.v1.Session(config=config)\n",
        "a.initializer.run(session=sess)\n",
        "sess.run(c)"
      ],
      "execution_count": 19,
      "outputs": [
        {
          "output_type": "stream",
          "text": [
            "Device mapping:\n",
            "/job:localhost/replica:0/task:0/device:GPU:0 -> device: 0, name: Tesla T4, pci bus id: 0000:00:04.0, compute capability: 7.5\n",
            "\n"
          ],
          "name": "stdout"
        },
        {
          "output_type": "execute_result",
          "data": {
            "text/plain": [
              "12.0"
            ]
          },
          "metadata": {
            "tags": []
          },
          "execution_count": 19
        }
      ]
    },
    {
      "cell_type": "markdown",
      "metadata": {
        "id": "FIKwynxFcEwL"
      },
      "source": [
        "#### Posicionamento dinâmico"
      ]
    },
    {
      "cell_type": "code",
      "metadata": {
        "colab": {
          "base_uri": "https://localhost:8080/"
        },
        "id": "2dSCmT2YbPyI",
        "outputId": "fe854d7f-d254-4d1d-8ff9-c095c48254fd"
      },
      "source": [
        "def variables_on_cpu(op):\n",
        "  if op.type == 'Variable':\n",
        "    return '/cpu:0'\n",
        "  else:\n",
        "    return '/gpu:0'\n",
        "\n",
        "with tf.compat.v1.device(variables_on_cpu):\n",
        "  a = tf.Variable(3.0)\n",
        "  b = tf.constant(4.0)\n",
        "c = a * b\n",
        "\n",
        "config = tf.compat.v1.ConfigProto()\n",
        "config.log_device_placement = True\n",
        "\n",
        "sess = tf.compat.v1.Session(config=config)\n",
        "a.initializer.run(session=sess)\n",
        "sess.run(c)"
      ],
      "execution_count": 20,
      "outputs": [
        {
          "output_type": "stream",
          "text": [
            "Device mapping:\n",
            "/job:localhost/replica:0/task:0/device:GPU:0 -> device: 0, name: Tesla T4, pci bus id: 0000:00:04.0, compute capability: 7.5\n",
            "\n"
          ],
          "name": "stdout"
        },
        {
          "output_type": "execute_result",
          "data": {
            "text/plain": [
              "12.0"
            ]
          },
          "metadata": {
            "tags": []
          },
          "execution_count": 20
        }
      ]
    },
    {
      "cell_type": "markdown",
      "metadata": {
        "id": "K3ec7gEacLW0"
      },
      "source": [
        "#### Posicionamento suave"
      ]
    },
    {
      "cell_type": "code",
      "metadata": {
        "colab": {
          "base_uri": "https://localhost:8080/"
        },
        "id": "h7TSlB3mcN4l",
        "outputId": "3a5f70fd-ee74-4c1a-fe2a-066e89528469"
      },
      "source": [
        "with tf.compat.v1.device('/gpu:0'):\n",
        "  a = tf.Variable(3)\n",
        "\n",
        "config = tf.compat.v1.ConfigProto()\n",
        "config.log_device_placement = True\n",
        "config.allow_soft_placement = True\n",
        "\n",
        "sess = tf.compat.v1.Session(config=config)\n",
        "sess.run(a.initializer)"
      ],
      "execution_count": 21,
      "outputs": [
        {
          "output_type": "stream",
          "text": [
            "Device mapping:\n",
            "/job:localhost/replica:0/task:0/device:GPU:0 -> device: 0, name: Tesla T4, pci bus id: 0000:00:04.0, compute capability: 7.5\n",
            "\n"
          ],
          "name": "stdout"
        }
      ]
    },
    {
      "cell_type": "markdown",
      "metadata": {
        "id": "HuCktBV5i998"
      },
      "source": [
        "#### Dependência de controle"
      ]
    },
    {
      "cell_type": "code",
      "metadata": {
        "id": "b-m9O24Ei9iM"
      },
      "source": [
        "a = tf.constant(1.0)\n",
        "b = a + 2.0\n",
        "\n",
        "with tf.compat.v1.control_dependencies([a, b]):\n",
        "  x = tf.constant(3.0)\n",
        "  y = tf.constant(4.0)\n",
        "z = x + y"
      ],
      "execution_count": 23,
      "outputs": []
    },
    {
      "cell_type": "markdown",
      "metadata": {
        "id": "kx55pQF9nkeZ"
      },
      "source": [
        "### Vários dispositivos em vários servidores"
      ]
    },
    {
      "cell_type": "code",
      "metadata": {
        "id": "4eYdIomOntcL"
      },
      "source": [
        "cluster_spec = tf.compat.v1.train.ClusterSpec({\n",
        "    'ps': [\n",
        "        '127.0.0.1:2221',\n",
        "        '127.0.0.1:2222'\n",
        "    ],\n",
        "    'worker': [\n",
        "        '127.0.0.1:2223',\n",
        "        '127.0.0.1:2224',\n",
        "        '127.0.0.1:2225'\n",
        "    ]})\n",
        "\n",
        "\n",
        "task_ps0 = tf.compat.v1.train.Server(cluster_spec, job_name='ps', task_index=0)\n",
        "task_ps1 = tf.compat.v1.train.Server(cluster_spec, job_name='ps', task_index=1)\n",
        "\n",
        "task_worker0 = tf.compat.v1.train.Server(cluster_spec, job_name='worker', task_index=0)\n",
        "task_worker1 = tf.compat.v1.train.Server(cluster_spec, job_name='worker', task_index=1)\n",
        "task_worker2 = tf.compat.v1.train.Server(cluster_spec, job_name='worker', task_index=2)"
      ],
      "execution_count": 27,
      "outputs": []
    },
    {
      "cell_type": "markdown",
      "metadata": {
        "id": "Oi62vYPHuzr8"
      },
      "source": [
        "#### Fixar operações em dispositivos e servidores"
      ]
    },
    {
      "cell_type": "code",
      "metadata": {
        "colab": {
          "base_uri": "https://localhost:8080/"
        },
        "id": "cax8XwIgu1AQ",
        "outputId": "45bc7a28-64b1-43cc-c38e-520b0618c175"
      },
      "source": [
        "tf.compat.v1.reset_default_graph()\n",
        "\n",
        "with tf.compat.v1.device('/job:ps'):\n",
        "    a = tf.Variable(1.0, name='a')\n",
        "\n",
        "with tf.compat.v1.device('/job:worker'):\n",
        "    b = a + 2\n",
        "\n",
        "with tf.compat.v1.device('/job:worker/task:1'):\n",
        "    c = a + b\n",
        "\n",
        "with tf.compat.v1.Session('grpc://127.0.0.1:2221') as sess:\n",
        "    sess.run(a.initializer)\n",
        "    print(c.eval())"
      ],
      "execution_count": 28,
      "outputs": [
        {
          "output_type": "stream",
          "text": [
            "4.0\n"
          ],
          "name": "stdout"
        }
      ]
    },
    {
      "cell_type": "markdown",
      "metadata": {
        "id": "16TG4oasw8tZ"
      },
      "source": [
        "#### Particionando as variáveis em múltiplos servidores"
      ]
    },
    {
      "cell_type": "code",
      "metadata": {
        "id": "0PgDIRwwxAc8"
      },
      "source": [
        "tf.compat.v1.reset_default_graph()\n",
        "\n",
        "with tf.compat.v1.device(tf.compat.v1.train.replica_device_setter(ps_tasks=2, ps_device='/job:ps', worker_device='/job:worker')):\n",
        "    v1 = tf.Variable(1.0, name='v1')\n",
        "    v2 = tf.Variable(2.0, name='v2')\n",
        "    v3 = tf.Variable(3.0, name='v3')\n",
        "    s = v1 + v2\n",
        "    with tf.compat.v1.device('/task:1'):\n",
        "        p1 = 2 * s\n",
        "        with tf.compat.v1.device('/cpu:0'):\n",
        "            p2 = 3 * s\n",
        "\n",
        "config = tf.compat.v1.ConfigProto()\n",
        "config.log_device_placement = True\n",
        "\n",
        "with tf.compat.v1.Session('grpc://127.0.0.1:2221', config=config) as sess:\n",
        "    v1.initializer.run()"
      ],
      "execution_count": 32,
      "outputs": []
    }
  ]
}