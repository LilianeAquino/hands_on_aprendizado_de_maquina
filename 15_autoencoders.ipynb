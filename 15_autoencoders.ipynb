{
  "nbformat": 4,
  "nbformat_minor": 0,
  "metadata": {
    "hide_input": false,
    "kernelspec": {
      "display_name": "Python 3",
      "language": "python",
      "name": "python3"
    },
    "language_info": {
      "codemirror_mode": {
        "name": "ipython",
        "version": 3
      },
      "file_extension": ".py",
      "mimetype": "text/x-python",
      "name": "python",
      "nbconvert_exporter": "python",
      "pygments_lexer": "ipython3",
      "version": "3.7.5"
    },
    "toc": {
      "base_numbering": 1,
      "nav_menu": {},
      "number_sections": true,
      "sideBar": true,
      "skip_h1_title": false,
      "title_cell": "Table of Contents",
      "title_sidebar": "Contents",
      "toc_cell": false,
      "toc_position": {},
      "toc_section_display": true,
      "toc_window_display": false
    },
    "varInspector": {
      "cols": {
        "lenName": 16,
        "lenType": 16,
        "lenVar": 40
      },
      "kernels_config": {
        "python": {
          "delete_cmd_postfix": "",
          "delete_cmd_prefix": "del ",
          "library": "var_list.py",
          "varRefreshCmd": "print(var_dic_list())"
        },
        "r": {
          "delete_cmd_postfix": ") ",
          "delete_cmd_prefix": "rm(",
          "library": "var_list.r",
          "varRefreshCmd": "cat(var_dic_list()) "
        }
      },
      "types_to_exclude": [
        "module",
        "function",
        "builtin_function_or_method",
        "instance",
        "_Feature"
      ],
      "window_display": false
    },
    "colab": {
      "name": "15_autoencoders.ipynb",
      "provenance": [],
      "collapsed_sections": []
    }
  },
  "cells": [
    {
      "cell_type": "markdown",
      "metadata": {
        "id": "SyoBfZ5XaZIb"
      },
      "source": [
        "# Autoencoders"
      ]
    },
    {
      "cell_type": "code",
      "metadata": {
        "colab": {
          "base_uri": "https://localhost:8080/"
        },
        "id": "k5Tn6LopfEal",
        "outputId": "4c8fb293-9d74-4995-deac-e3df8044fb7d"
      },
      "source": [
        "from google.colab import drive\n",
        "drive.mount('/content/drive')"
      ],
      "execution_count": 1,
      "outputs": [
        {
          "output_type": "stream",
          "text": [
            "Drive already mounted at /content/drive; to attempt to forcibly remount, call drive.mount(\"/content/drive\", force_remount=True).\n"
          ],
          "name": "stdout"
        }
      ]
    },
    {
      "cell_type": "markdown",
      "metadata": {
        "id": "draXPixfaZIm"
      },
      "source": [
        "### Bibliotecas básicas"
      ]
    },
    {
      "cell_type": "code",
      "metadata": {
        "ExecuteTime": {
          "end_time": "2021-02-09T10:37:53.993427Z",
          "start_time": "2021-02-09T10:37:51.625947Z"
        },
        "colab": {
          "base_uri": "https://localhost:8080/"
        },
        "id": "G3n9c_-eaZIn",
        "outputId": "e6148a8d-fe57-4074-f51c-2a43642be7d6"
      },
      "source": [
        "import numpy as np\n",
        "import pandas as pd\n",
        "from functools import partial\n",
        "import matplotlib.pyplot as plt\n",
        "%matplotlib inline\n",
        "\n",
        "import warnings\n",
        "warnings.filterwarnings('ignore')\n",
        "\n",
        "import tensorflow as tf\n",
        "print(tf.__version__)"
      ],
      "execution_count": 2,
      "outputs": [
        {
          "output_type": "stream",
          "text": [
            "2.4.1\n"
          ],
          "name": "stdout"
        }
      ]
    },
    {
      "cell_type": "code",
      "metadata": {
        "ExecuteTime": {
          "end_time": "2021-02-09T10:37:54.001579Z",
          "start_time": "2021-02-09T10:37:53.997073Z"
        },
        "id": "WUXNZCt4aZIp"
      },
      "source": [
        "tf.compat.v1.disable_eager_execution()"
      ],
      "execution_count": 3,
      "outputs": []
    },
    {
      "cell_type": "markdown",
      "metadata": {
        "id": "IFcdzEsOaZIq"
      },
      "source": [
        "### Funções utilitárias"
      ]
    },
    {
      "cell_type": "code",
      "metadata": {
        "ExecuteTime": {
          "end_time": "2021-02-09T10:37:54.246233Z",
          "start_time": "2021-02-09T10:37:54.005285Z"
        },
        "id": "s-6QCZnnaZIr"
      },
      "source": [
        "def plot_image(image, shape=[28, 28]):\n",
        "    plt.imshow(image.reshape(shape), cmap='Greys', interpolation='nearest')\n",
        "    plt.axis('off')\n",
        "\n",
        "\n",
        "\n",
        "def plot_multiple_images(images, n_rows, n_cols, pad=2):\n",
        "    images = images - images.min()\n",
        "    w,h = images.shape[1:]\n",
        "    image = np.zeros(((w+pad)*n_rows+pad, (h+pad)*n_cols+pad))\n",
        "    for y in range(n_rows):\n",
        "        for x in range(n_cols):\n",
        "            image[(y*(h+pad)+pad):(y*(h+pad)+pad+h),(x*(w+pad)+pad):(x*(w+pad)+pad+w)] = images[y*n_cols+x]\n",
        "    plt.imshow(image, cmap='Greys', interpolation='nearest')\n",
        "    plt.axis('off')\n",
        "    \n",
        "\n",
        "def shuffle_batch(X, y, batch_size):\n",
        "    rnd_idx = np.random.permutation(len(X))\n",
        "    n_batches = len(X) // batch_size\n",
        "    for batch_idx in np.array_split(rnd_idx, n_batches):\n",
        "        X_batch, y_batch = X[batch_idx], y[batch_idx]\n",
        "        yield X_batch, y_batch"
      ],
      "execution_count": 4,
      "outputs": []
    },
    {
      "cell_type": "markdown",
      "metadata": {
        "id": "iOhVFd9JaZIs"
      },
      "source": [
        "### PCA com um Autoencoder linear"
      ]
    },
    {
      "cell_type": "code",
      "metadata": {
        "ExecuteTime": {
          "end_time": "2021-02-09T10:37:54.687969Z",
          "start_time": "2021-02-09T10:37:54.250795Z"
        },
        "id": "0C-gzbCJaZIs"
      },
      "source": [
        "import numpy.random as rnd\n",
        "from sklearn.preprocessing import StandardScaler\n",
        "\n",
        "rnd.seed(4)\n",
        "m = 200\n",
        "w1, w2 = 0.1, 0.3\n",
        "noise = 0.1\n",
        "\n",
        "angles = rnd.rand(m) * 3 * np.pi / 2 - 0.5\n",
        "data = np.empty((m, 3))\n",
        "data[:, 0] = np.cos(angles) + np.sin(angles)/2 + noise * rnd.randn(m) / 2\n",
        "data[:, 1] = np.sin(angles) * 0.7 + noise * rnd.randn(m) / 2\n",
        "data[:, 2] = data[:, 0] * w1 + data[:, 1] * w2 + noise * rnd.randn(m)\n",
        "\n",
        "\n",
        "scaler = StandardScaler()\n",
        "X_train = scaler.fit_transform(data[:100])\n",
        "X_test = scaler.transform(data[100:])"
      ],
      "execution_count": 5,
      "outputs": []
    },
    {
      "cell_type": "code",
      "metadata": {
        "ExecuteTime": {
          "end_time": "2021-02-09T10:37:54.888784Z",
          "start_time": "2021-02-09T10:37:54.692893Z"
        },
        "id": "uq5eeVQ6aZIt"
      },
      "source": [
        "tf.compat.v1.reset_default_graph()\n",
        "\n",
        "n_inputs = 3\n",
        "n_hidden = 2\n",
        "n_outputs = n_inputs\n",
        "learning_rate = 0.01\n",
        "\n",
        "X = tf.compat.v1.placeholder(tf.float32, shape=[None, n_inputs])\n",
        "hidden = tf.compat.v1.layers.dense(X, n_hidden)\n",
        "outputs = tf.compat.v1.layers.dense(hidden, n_outputs)\n",
        "\n",
        "reconstruction_loss = tf.reduce_mean(tf.square(outputs - X))\n",
        "\n",
        "optimizer = tf.compat.v1.train.AdamOptimizer(learning_rate)\n",
        "training_op = optimizer.minimize(reconstruction_loss)\n",
        "\n",
        "init = tf.compat.v1.global_variables_initializer()"
      ],
      "execution_count": 6,
      "outputs": []
    },
    {
      "cell_type": "code",
      "metadata": {
        "ExecuteTime": {
          "end_time": "2021-02-09T10:37:56.365249Z",
          "start_time": "2021-02-09T10:37:54.893732Z"
        },
        "colab": {
          "base_uri": "https://localhost:8080/",
          "height": 232
        },
        "id": "TpFmJG7UaZIv",
        "outputId": "f649ff04-5924-4d67-ae9b-246c9ef1df8e"
      },
      "source": [
        "n_iterations = 1000\n",
        "codings = hidden\n",
        "\n",
        "with tf.compat.v1.Session() as sess:\n",
        "    init.run()\n",
        "    for iteration in range(n_iterations):\n",
        "        training_op.run(feed_dict={X: X_train})\n",
        "    codings_val = codings.eval(feed_dict={X: X_test})\n",
        "    \n",
        "fig = plt.figure(figsize=(4,3))\n",
        "plt.plot(codings_val[:,0], codings_val[:, 1], 'b.')\n",
        "plt.xlabel('$z_1$', fontsize=18)\n",
        "plt.ylabel('$z_2$', fontsize=18, rotation=0)\n",
        "plt.show()"
      ],
      "execution_count": 7,
      "outputs": [
        {
          "output_type": "display_data",
          "data": {
            "image/png": "[encoded data removed]",
            "text/plain": [
              "<Figure size 288x216 with 1 Axes>"
            ]
          },
          "metadata": {
            "tags": [],
            "needs_background": "light"
          }
        }
      ]
    },
    {
      "cell_type": "markdown",
      "metadata": {
        "id": "1dGScHH2aZIw"
      },
      "source": [
        "### Autoencoder empilhado"
      ]
    },
    {
      "cell_type": "code",
      "metadata": {
        "ExecuteTime": {
          "end_time": "2021-02-09T18:37:17.540418Z",
          "start_time": "2021-02-09T18:37:15.513423Z"
        },
        "id": "YgWOE2QiaZIx"
      },
      "source": [
        "(X_train, y_train), (X_test, y_test) = tf.keras.datasets.mnist.load_data()\n",
        "X_train = X_train.astype(np.float32).reshape(-1, 28*28) / 255.0\n",
        "X_test = X_test.astype(np.float32).reshape(-1, 28*28) / 255.0\n",
        "y_train = y_train.astype(np.int32)\n",
        "y_test = y_test.astype(np.int32)\n",
        "X_valid, X_train = X_train[:5000], X_train[5000:]\n",
        "y_valid, y_train = y_train[:5000], y_train[5000:]"
      ],
      "execution_count": 8,
      "outputs": []
    },
    {
      "cell_type": "code",
      "metadata": {
        "ExecuteTime": {
          "end_time": "2021-02-09T18:37:18.491334Z",
          "start_time": "2021-02-09T18:37:17.698943Z"
        },
        "id": "z1Y-ZynoaZIy"
      },
      "source": [
        "from functools import partial\n",
        "from tensorflow.keras.regularizers import l2\n",
        "\n",
        "tf.compat.v1.reset_default_graph()\n",
        "\n",
        "n_inputs = 28 * 28\n",
        "n_hidden1 = 300\n",
        "n_hidden2 = 150\n",
        "n_hidden3 = n_hidden1\n",
        "n_outputs = n_inputs\n",
        "learning_rate = 0.01\n",
        "l2_reg = 0.0001\n",
        "\n",
        "X = tf.compat.v1.placeholder(tf.float32, shape=[None, n_inputs])\n",
        "he_init = tf.compat.v1.variance_scaling_initializer()\n",
        "l2_regularizer = l2(l2_reg)\n",
        "\n",
        "my_dense_layer = partial(tf.compat.v1.layers.dense,\n",
        "                         activation=tf.nn.elu,\n",
        "                         kernel_initializer=he_init,\n",
        "                         kernel_regularizer=l2_regularizer)\n",
        "\n",
        "hidden1 = my_dense_layer(X, n_hidden1)\n",
        "hidden2 = my_dense_layer(hidden1, n_hidden2)\n",
        "hidden3 = my_dense_layer(hidden2, n_hidden3)\n",
        "outputs = my_dense_layer(hidden3, n_outputs, activation=None)\n",
        "\n",
        "reconstruction_loss = tf.reduce_mean(tf.square(outputs - X))\n",
        "\n",
        "reg_losses = tf.compat.v1.get_collection(tf.compat.v1.GraphKeys.REGULARIZATION_LOSSES)\n",
        "loss = tf.add_n([reconstruction_loss] + reg_losses)\n",
        "\n",
        "optimizer = tf.compat.v1.train.AdamOptimizer(learning_rate)\n",
        "training_op = optimizer.minimize(loss)\n",
        "\n",
        "init = tf.compat.v1.global_variables_initializer()\n",
        "saver = tf.compat.v1.train.Saver()"
      ],
      "execution_count": 9,
      "outputs": []
    },
    {
      "cell_type": "code",
      "metadata": {
        "ExecuteTime": {
          "end_time": "2021-02-09T20:28:44.679949Z",
          "start_time": "2021-02-09T18:37:18.658366Z"
        },
        "colab": {
          "base_uri": "https://localhost:8080/"
        },
        "id": "wbixl26naZIz",
        "outputId": "fa8d94a4-2854-4246-e192-9c61bb8d6db2"
      },
      "source": [
        "import sys\n",
        "\n",
        "n_epochs = 5\n",
        "batch_size = 150\n",
        "\n",
        "with tf.compat.v1.Session() as sess:\n",
        "    init.run()\n",
        "    for epoch in range(n_epochs):\n",
        "      for X_batch, y_batch in shuffle_batch(X_train, y_train, batch_size):\n",
        "        sess.run(training_op, feed_dict={X: X_batch})\n",
        "      loss_train = reconstruction_loss.eval(feed_dict={X: X_batch})\n",
        "      print(\"\\r{}\".format(epoch), 'Train MSE:', loss_train)\n",
        "      saver.save(sess, '/content/drive/MyDrive/Colab Notebooks/my_model_all_layers.ckpt')"
      ],
      "execution_count": 10,
      "outputs": [
        {
          "output_type": "stream",
          "text": [
            "0 Train MSE: 0.020049162\n",
            "1 Train MSE: 0.016049055\n",
            "2 Train MSE: 0.016169513\n",
            "3 Train MSE: 0.016536038\n",
            "4 Train MSE: 0.017584935\n"
          ],
          "name": "stdout"
        }
      ]
    },
    {
      "cell_type": "code",
      "metadata": {
        "ExecuteTime": {
          "end_time": "2021-02-09T20:28:47.820764Z",
          "start_time": "2021-02-09T20:28:45.108906Z"
        },
        "colab": {
          "base_uri": "https://localhost:8080/",
          "height": 374
        },
        "id": "KWlbl_C6aZI0",
        "outputId": "8f94656a-5762-4b74-b1cd-50495c0aaae6"
      },
      "source": [
        "def show_reconstructed_digits(X, X_test, outputs, model_path = None, n_test_digits = 2):\n",
        "    with tf.compat.v1.Session() as sess:\n",
        "        if model_path:\n",
        "            saver.restore(sess, model_path)\n",
        "        X_test = X_test[:n_test_digits]\n",
        "        outputs_val = outputs.eval(feed_dict={X: X_test})\n",
        "\n",
        "    fig = plt.figure(figsize=(8, 3 * n_test_digits))\n",
        "    for digit_index in range(n_test_digits):\n",
        "        plt.subplot(n_test_digits, 2, digit_index * 2 + 1)\n",
        "        plot_image(X_test[digit_index])\n",
        "        plt.subplot(n_test_digits, 2, digit_index * 2 + 2)\n",
        "        plot_image(outputs_val[digit_index])\n",
        "        plt.plot()\n",
        "        \n",
        "\n",
        "show_reconstructed_digits(X, X_test, outputs, '/content/drive/MyDrive/Colab Notebooks/my_model_all_layers.ckpt')"
      ],
      "execution_count": 11,
      "outputs": [
        {
          "output_type": "stream",
          "text": [
            "INFO:tensorflow:Restoring parameters from /content/drive/MyDrive/Colab Notebooks/my_model_all_layers.ckpt\n"
          ],
          "name": "stdout"
        },
        {
          "output_type": "display_data",
          "data": {
            "image/png": "[encoded data removed]",
            "text/plain": [
              "<Figure size 576x432 with 4 Axes>"
            ]
          },
          "metadata": {
            "tags": [],
            "needs_background": "light"
          }
        }
      ]
    },
    {
      "cell_type": "markdown",
      "metadata": {
        "id": "DDp16izBb5hY"
      },
      "source": [
        "### Amarrando os pesos"
      ]
    },
    {
      "cell_type": "code",
      "metadata": {
        "id": "tl0YC2Eib53g"
      },
      "source": [
        "tf.compat.v1.reset_default_graph()\n",
        "\n",
        "n_inputs = 28 * 28\n",
        "n_hidden1 = 300\n",
        "n_hidden2 = 150\n",
        "n_hidden3 = n_hidden1\n",
        "n_outputs = n_inputs\n",
        "learning_rate = 0.01\n",
        "l2_reg = 0.0005\n",
        "\n",
        "regularizer = l2(l2_reg)\n",
        "initializer = tf.compat.v1.variance_scaling_initializer()\n",
        "activation = tf.nn.elu\n",
        "\n",
        "X = tf.compat.v1.placeholder(tf.float32, shape=[None, n_inputs])\n",
        "\n",
        "weights1_init = initializer([n_inputs, n_hidden1])\n",
        "weights2_init = initializer([n_hidden1, n_hidden2])\n",
        "\n",
        "weights1 = tf.Variable(weights1_init, dtype=tf.float32, name='weights1')\n",
        "weights2 = tf.Variable(weights2_init, dtype=tf.float32, name='weights2')\n",
        "weights3 = tf.transpose(weights2, name='weights3')  # amarrando os pesos\n",
        "weights4 = tf.transpose(weights1, name='weights4')  # amarrando os pesos\n",
        "\n",
        "biases1 = tf.Variable(tf.zeros(n_hidden1), name='biases1')\n",
        "biases2 = tf.Variable(tf.zeros(n_hidden2), name='biases2')\n",
        "biases3 = tf.Variable(tf.zeros(n_hidden3), name='biases3')\n",
        "biases4 = tf.Variable(tf.zeros(n_outputs), name='biases4')\n",
        "\n",
        "hidden1 = activation(tf.matmul(X, weights1) + biases1)\n",
        "hidden2 = activation(tf.matmul(hidden1, weights2) + biases2)\n",
        "hidden3 = activation(tf.matmul(hidden2, weights3) + biases3)\n",
        "outputs = tf.matmul(hidden3, weights4) + biases4\n",
        "\n",
        "reconstruction_loss = tf.reduce_mean(tf.square(outputs - X))\n",
        "reg_loss = regularizer(weights1) + regularizer(weights2)\n",
        "loss = reconstruction_loss + reg_loss\n",
        "\n",
        "optimizer = tf.compat.v1.train.AdamOptimizer(learning_rate)\n",
        "training_op = optimizer.minimize(loss)\n",
        "\n",
        "init = tf.compat.v1.global_variables_initializer()\n",
        "saver = tf.compat.v1.train.Saver()"
      ],
      "execution_count": 19,
      "outputs": []
    },
    {
      "cell_type": "code",
      "metadata": {
        "colab": {
          "base_uri": "https://localhost:8080/"
        },
        "id": "qH8MKPJ2c5-B",
        "outputId": "77271c17-ae7a-4f83-8345-53575f48c1eb"
      },
      "source": [
        "n_epochs = 5\n",
        "batch_size = 150\n",
        "\n",
        "with tf.compat.v1.Session() as sess:\n",
        "    init.run()\n",
        "    for epoch in range(n_epochs):\n",
        "      for X_batch, y_batch in shuffle_batch(X_train, y_train, batch_size):\n",
        "        sess.run(training_op, feed_dict={X: X_batch})\n",
        "      loss_train = reconstruction_loss.eval(feed_dict={X: X_batch})\n",
        "      print(\"\\r{}\".format(epoch), 'Train MSE:', loss_train)\n",
        "      saver.save(sess, '/content/drive/MyDrive/Colab Notebooks/my_model_tying_weights.ckpt')"
      ],
      "execution_count": 20,
      "outputs": [
        {
          "output_type": "stream",
          "text": [
            "0 Train MSE: 0.025851537\n",
            "1 Train MSE: 0.027224058\n",
            "2 Train MSE: 0.027181795\n",
            "3 Train MSE: 0.026340336\n",
            "4 Train MSE: 0.026856996\n"
          ],
          "name": "stdout"
        }
      ]
    },
    {
      "cell_type": "code",
      "metadata": {
        "colab": {
          "base_uri": "https://localhost:8080/",
          "height": 374
        },
        "id": "9eouBpJ0dHY0",
        "outputId": "80cc3e55-9158-4ae1-95db-cbc83252104c"
      },
      "source": [
        "show_reconstructed_digits(X, X_test, outputs, '/content/drive/MyDrive/Colab Notebooks/my_model_tying_weights.ckpt')"
      ],
      "execution_count": 21,
      "outputs": [
        {
          "output_type": "stream",
          "text": [
            "INFO:tensorflow:Restoring parameters from /content/drive/MyDrive/Colab Notebooks/my_model_tying_weights.ckpt\n"
          ],
          "name": "stdout"
        },
        {
          "output_type": "display_data",
          "data": {
            "image/png": "[encoded data removed]",
            "text/plain": [
              "<Figure size 576x432 with 4 Axes>"
            ]
          },
          "metadata": {
            "tags": [],
            "needs_background": "light"
          }
        }
      ]
    },
    {
      "cell_type": "markdown",
      "metadata": {
        "id": "ouV79uoudqr4"
      },
      "source": [
        "### Visualizando reconstruções"
      ]
    },
    {
      "cell_type": "code",
      "metadata": {
        "colab": {
          "base_uri": "https://localhost:8080/",
          "height": 265
        },
        "id": "p0FBhxLGgj5b",
        "outputId": "575ebbde-ccc0-42ec-81d3-bdfb4ea69151"
      },
      "source": [
        "n_test_digits = 2\n",
        "X_test = X_test[:n_test_digits]\n",
        "\n",
        "with tf.compat.v1.Session() as sess:\n",
        "    saver.restore(sess, '/content/drive/MyDrive/Colab Notebooks/my_model_tying_weights.ckpt')\n",
        "    outputs_val = outputs.eval(feed_dict={X: X_test})\n",
        "\n",
        "def plot_image(image, shape=[28, 28]):\n",
        "    plt.imshow(image.reshape(shape), cmap='Greys', interpolation='nearest')\n",
        "    plt.axis('off')\n",
        "\n",
        "for digit_index in range(n_test_digits):\n",
        "    plt.subplot(n_test_digits, 2, digit_index * 2 + 1)\n",
        "    plot_image(X_test[digit_index])\n",
        "    plt.subplot(n_test_digits, 2, digit_index * 2 + 2)\n",
        "    plot_image(outputs_val[digit_index])"
      ],
      "execution_count": 22,
      "outputs": [
        {
          "output_type": "stream",
          "text": [
            "INFO:tensorflow:Restoring parameters from /content/drive/MyDrive/Colab Notebooks/my_model_tying_weights.ckpt\n"
          ],
          "name": "stdout"
        },
        {
          "output_type": "display_data",
          "data": {
            "image/png": "[encoded data removed]",
            "text/plain": [
              "<Figure size 432x288 with 4 Axes>"
            ]
          },
          "metadata": {
            "tags": [],
            "needs_background": "light"
          }
        }
      ]
    },
    {
      "cell_type": "markdown",
      "metadata": {
        "id": "_JIlGsFseC8E"
      },
      "source": [
        "### Visualizando características"
      ]
    },
    {
      "cell_type": "code",
      "metadata": {
        "colab": {
          "base_uri": "https://localhost:8080/",
          "height": 106
        },
        "id": "vIptinizgzZS",
        "outputId": "04fc74b6-cc0e-4900-f0b1-4896839163f0"
      },
      "source": [
        "with tf.compat.v1.Session() as sess:\n",
        "    saver.restore(sess, '/content/drive/MyDrive/Colab Notebooks/my_model_tying_weights.ckpt')\n",
        "    weights1_val = weights1.eval()\n",
        "\n",
        "for i in range(5):\n",
        "    plt.subplot(1, 5, i + 1)\n",
        "    plot_image(weights1_val.T[i])\n",
        "plt.show()"
      ],
      "execution_count": 24,
      "outputs": [
        {
          "output_type": "stream",
          "text": [
            "INFO:tensorflow:Restoring parameters from /content/drive/MyDrive/Colab Notebooks/my_model_tying_weights.ckpt\n"
          ],
          "name": "stdout"
        },
        {
          "output_type": "display_data",
          "data": {
            "image/png": "[encoded data removed]",
            "text/plain": [
              "<Figure size 432x288 with 5 Axes>"
            ]
          },
          "metadata": {
            "tags": [],
            "needs_background": "light"
          }
        }
      ]
    },
    {
      "cell_type": "markdown",
      "metadata": {
        "id": "Og-eYATPhFDc"
      },
      "source": [
        "### Pré-treinamento não supervisionado"
      ]
    },
    {
      "cell_type": "code",
      "metadata": {
        "id": "-D4mJfubhFPT"
      },
      "source": [
        "tf.compat.v1.reset_default_graph()\n",
        "\n",
        "n_inputs = 28 * 28\n",
        "n_hidden1 = 300\n",
        "n_hidden2 = 150\n",
        "n_outputs = 10\n",
        "learning_rate = 0.01\n",
        "l2_reg = 0.0005\n",
        "\n",
        "activation = tf.nn.elu\n",
        "regularizer = l2(l2_reg)\n",
        "initializer = tf.compat.v1.variance_scaling_initializer()\n",
        "\n",
        "X = tf.compat.v1.placeholder(tf.float32, shape=[None, n_inputs])\n",
        "y = tf.compat.v1.placeholder(tf.int32, shape=[None])\n",
        "\n",
        "weights1_init = initializer([n_inputs, n_hidden1])\n",
        "weights2_init = initializer([n_hidden1, n_hidden2])\n",
        "weights3_init = initializer([n_hidden2, n_outputs])\n",
        "\n",
        "weights1 = tf.Variable(weights1_init, dtype=tf.float32, name='weights1')\n",
        "weights2 = tf.Variable(weights2_init, dtype=tf.float32, name='weights2')\n",
        "weights3 = tf.Variable(weights3_init, dtype=tf.float32, name='weights3')\n",
        "\n",
        "biases1 = tf.Variable(tf.zeros(n_hidden1), name='biases1')\n",
        "biases2 = tf.Variable(tf.zeros(n_hidden2), name='biases2')\n",
        "biases3 = tf.Variable(tf.zeros(n_outputs), name='biases3')\n",
        "\n",
        "hidden1 = activation(tf.matmul(X, weights1) + biases1)\n",
        "hidden2 = activation(tf.matmul(hidden1, weights2) + biases2)\n",
        "logits = tf.matmul(hidden2, weights3) + biases3\n",
        "\n",
        "cross_entropy = tf.compat.v1.nn.sparse_softmax_cross_entropy_with_logits(labels=y, logits=logits)\n",
        "reg_loss = regularizer(weights1) + regularizer(weights2) + regularizer(weights3)\n",
        "loss = cross_entropy + reg_loss\n",
        "\n",
        "optimizer = tf.compat.v1.train.AdamOptimizer(learning_rate)\n",
        "training_op = optimizer.minimize(loss)\n",
        "\n",
        "correct = tf.compat.v1.nn.in_top_k(logits, y, 1)\n",
        "accuracy = tf.reduce_mean(tf.cast(correct, tf.float32))\n",
        "\n",
        "init = tf.compat.v1.global_variables_initializer()\n",
        "pretrain_saver = tf.compat.v1.train.Saver([weights1, weights2, biases1, biases2])\n",
        "saver = tf.compat.v1.train.Saver()"
      ],
      "execution_count": 25,
      "outputs": []
    },
    {
      "cell_type": "markdown",
      "metadata": {
        "id": "_SoNQMnYnF7n"
      },
      "source": [
        "#### Treinamento regular"
      ]
    },
    {
      "cell_type": "code",
      "metadata": {
        "colab": {
          "base_uri": "https://localhost:8080/"
        },
        "id": "SZpm2RrPhJx-",
        "outputId": "ea72f3bb-50be-4c96-d9f1-9426a411fbda"
      },
      "source": [
        "n_epochs = 4\n",
        "batch_size = 150\n",
        "n_labeled_instances = 20000\n",
        "\n",
        "with tf.compat.v1.Session() as sess:\n",
        "    init.run()\n",
        "    for epoch in range(n_epochs):\n",
        "      indices = rnd.permutation(n_labeled_instances)[:batch_size]\n",
        "      for X_batch, y_batch in shuffle_batch(X_train, y_train, batch_size):\n",
        "        sess.run(training_op, feed_dict={X: X_batch, y: y_batch})\n",
        "      accuracy_val = accuracy.eval(feed_dict={X: X_batch, y: y_batch})\n",
        "      print('\\r{}'.format(epoch), 'Train accuracy:', accuracy_val)   \n",
        "      saver.save(sess, '/content/drive/MyDrive/Colab Notebooks/my_model_supervised.ckpt')"
      ],
      "execution_count": 35,
      "outputs": [
        {
          "output_type": "stream",
          "text": [
            "0 Train accuracy: 0.96\n",
            "1 Train accuracy: 0.98\n",
            "2 Train accuracy: 0.93333334\n",
            "3 Train accuracy: 0.9266667\n"
          ],
          "name": "stdout"
        }
      ]
    },
    {
      "cell_type": "markdown",
      "metadata": {
        "id": "CQJvdL0nnKjI"
      },
      "source": [
        "#### Treinamento reutilizando as duas primeiras camadas pré-treinadas"
      ]
    },
    {
      "cell_type": "code",
      "metadata": {
        "colab": {
          "base_uri": "https://localhost:8080/"
        },
        "id": "zzZRA7XnnT9c",
        "outputId": "ad3096f0-a4e7-4512-8405-4b04921282f8"
      },
      "source": [
        "n_epochs = 4\n",
        "batch_size = 150\n",
        "n_labeled_instances = 20000\n",
        "\n",
        "training_op = optimizer.minimize(loss, var_list=[weights3, biases3])\n",
        "\n",
        "with tf.compat.v1.Session() as sess:\n",
        "    init.run()\n",
        "    pretrain_saver.restore(sess, '/content/drive/MyDrive/Colab Notebooks/my_model_supervised.ckpt')\n",
        "    for epoch in range(n_epochs):\n",
        "      indices = rnd.permutation(n_labeled_instances)[:batch_size]\n",
        "      for X_batch, y_batch in shuffle_batch(X_train, y_train, batch_size):\n",
        "        sess.run(training_op, feed_dict={X: X_batch, y: y_batch})\n",
        "      accuracy_val = accuracy.eval(feed_dict={X: X_batch, y: y_batch})\n",
        "      print('\\r{}'.format(epoch), 'Train accuracy:', accuracy_val)   \n",
        "      saver.save(sess, '/content/drive/MyDrive/Colab Notebooks/my_model_supervised_pretrained.ckpt')"
      ],
      "execution_count": 38,
      "outputs": [
        {
          "output_type": "stream",
          "text": [
            "INFO:tensorflow:Restoring parameters from /content/drive/MyDrive/Colab Notebooks/my_model_supervised.ckpt\n",
            "0 Train accuracy: 0.98\n",
            "1 Train accuracy: 0.9866667\n",
            "2 Train accuracy: 0.98\n",
            "3 Train accuracy: 0.97333336\n"
          ],
          "name": "stdout"
        }
      ]
    }
  ]
}