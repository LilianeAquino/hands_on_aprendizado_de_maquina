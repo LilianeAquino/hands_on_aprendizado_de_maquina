{
 "cells": [
  {
   "cell_type": "markdown",
   "metadata": {
    "id": "SyoBfZ5XaZIb"
   },
   "source": [
    "# Autoencoders"
   ]
  },
  {
   "cell_type": "markdown",
   "metadata": {
    "id": "draXPixfaZIm"
   },
   "source": [
    "### Bibliotecas básicas"
   ]
  },
  {
   "cell_type": "code",
   "execution_count": 1,
   "metadata": {
    "ExecuteTime": {
     "end_time": "2021-02-11T11:07:23.717581Z",
     "start_time": "2021-02-11T11:07:21.340337Z"
    },
    "colab": {
     "base_uri": "https://localhost:8080/"
    },
    "id": "G3n9c_-eaZIn",
    "outputId": "e6148a8d-fe57-4074-f51c-2a43642be7d6"
   },
   "outputs": [
    {
     "name": "stdout",
     "output_type": "stream",
     "text": [
      "2.1.0\n"
     ]
    }
   ],
   "source": [
    "import numpy as np\n",
    "import pandas as pd\n",
    "from functools import partial\n",
    "import matplotlib.pyplot as plt\n",
    "%matplotlib inline\n",
    "\n",
    "import warnings\n",
    "warnings.filterwarnings('ignore')\n",
    "\n",
    "import tensorflow as tf\n",
    "print(tf.__version__)"
   ]
  },
  {
   "cell_type": "code",
   "execution_count": 2,
   "metadata": {
    "ExecuteTime": {
     "end_time": "2021-02-11T11:07:23.725435Z",
     "start_time": "2021-02-11T11:07:23.720819Z"
    },
    "id": "WUXNZCt4aZIp"
   },
   "outputs": [],
   "source": [
    "tf.compat.v1.disable_eager_execution()"
   ]
  },
  {
   "cell_type": "markdown",
   "metadata": {
    "id": "IFcdzEsOaZIq"
   },
   "source": [
    "### Funções utilitárias"
   ]
  },
  {
   "cell_type": "code",
   "execution_count": 3,
   "metadata": {
    "ExecuteTime": {
     "end_time": "2021-02-11T11:07:23.963991Z",
     "start_time": "2021-02-11T11:07:23.730572Z"
    },
    "id": "s-6QCZnnaZIr"
   },
   "outputs": [],
   "source": [
    "def plot_image(image, shape=[28, 28]):\n",
    "    plt.imshow(image.reshape(shape), cmap='Greys', interpolation='nearest')\n",
    "    plt.axis('off')\n",
    "\n",
    "\n",
    "\n",
    "def plot_multiple_images(images, n_rows, n_cols, pad=2):\n",
    "    images = images - images.min()\n",
    "    w,h = images.shape[1:]\n",
    "    image = np.zeros(((w+pad)*n_rows+pad, (h+pad)*n_cols+pad))\n",
    "    for y in range(n_rows):\n",
    "        for x in range(n_cols):\n",
    "            image[(y*(h+pad)+pad):(y*(h+pad)+pad+h),(x*(w+pad)+pad):(x*(w+pad)+pad+w)] = images[y*n_cols+x]\n",
    "    plt.imshow(image, cmap='Greys', interpolation='nearest')\n",
    "    plt.axis('off')\n",
    "    \n",
    "\n",
    "def shuffle_batch(X, y, batch_size):\n",
    "    rnd_idx = np.random.permutation(len(X))\n",
    "    n_batches = len(X) // batch_size\n",
    "    for batch_idx in np.array_split(rnd_idx, n_batches):\n",
    "        X_batch, y_batch = X[batch_idx], y[batch_idx]\n",
    "        yield X_batch, y_batch\n",
    "        \n",
    "\n",
    "def show_reconstructed_digits(X, X_test, outputs, model_path = None, n_test_digits = 2):\n",
    "    with tf.compat.v1.Session() as sess:\n",
    "        if model_path:\n",
    "            saver.restore(sess, model_path)\n",
    "        X_test = X_test[:n_test_digits]\n",
    "        outputs_val = outputs.eval(feed_dict={X: X_test})\n",
    "\n",
    "    fig = plt.figure(figsize=(8, 3 * n_test_digits))\n",
    "    for digit_index in range(n_test_digits):\n",
    "        plt.subplot(n_test_digits, 2, digit_index * 2 + 1)\n",
    "        plot_image(X_test[digit_index])\n",
    "        plt.subplot(n_test_digits, 2, digit_index * 2 + 2)\n",
    "        plot_image(outputs_val[digit_index])\n",
    "        plt.plot()"
   ]
  },
  {
   "cell_type": "markdown",
   "metadata": {
    "id": "iOhVFd9JaZIs"
   },
   "source": [
    "### PCA com um Autoencoder linear"
   ]
  },
  {
   "cell_type": "code",
   "execution_count": 4,
   "metadata": {
    "ExecuteTime": {
     "end_time": "2021-02-11T11:07:24.408870Z",
     "start_time": "2021-02-11T11:07:23.969381Z"
    },
    "id": "0C-gzbCJaZIs"
   },
   "outputs": [],
   "source": [
    "import numpy.random as rnd\n",
    "from sklearn.preprocessing import StandardScaler\n",
    "\n",
    "rnd.seed(4)\n",
    "m = 200\n",
    "w1, w2 = 0.1, 0.3\n",
    "noise = 0.1\n",
    "\n",
    "angles = rnd.rand(m) * 3 * np.pi / 2 - 0.5\n",
    "data = np.empty((m, 3))\n",
    "data[:, 0] = np.cos(angles) + np.sin(angles)/2 + noise * rnd.randn(m) / 2\n",
    "data[:, 1] = np.sin(angles) * 0.7 + noise * rnd.randn(m) / 2\n",
    "data[:, 2] = data[:, 0] * w1 + data[:, 1] * w2 + noise * rnd.randn(m)\n",
    "\n",
    "\n",
    "scaler = StandardScaler()\n",
    "X_train = scaler.fit_transform(data[:100])\n",
    "X_test = scaler.transform(data[100:])"
   ]
  },
  {
   "cell_type": "code",
   "execution_count": 5,
   "metadata": {
    "ExecuteTime": {
     "end_time": "2021-02-11T11:07:24.606265Z",
     "start_time": "2021-02-11T11:07:24.411770Z"
    },
    "id": "uq5eeVQ6aZIt"
   },
   "outputs": [
    {
     "name": "stdout",
     "output_type": "stream",
     "text": [
      "WARNING:tensorflow:From <ipython-input-5-e5d3e5946d7f>:9: dense (from tensorflow.python.layers.core) is deprecated and will be removed in a future version.\n",
      "Instructions for updating:\n",
      "Use keras.layers.Dense instead.\n",
      "WARNING:tensorflow:From /home/liliane-hop/anaconda3/lib/python3.7/site-packages/tensorflow_core/python/layers/core.py:187: Layer.apply (from tensorflow.python.keras.engine.base_layer) is deprecated and will be removed in a future version.\n",
      "Instructions for updating:\n",
      "Please use `layer.__call__` method instead.\n",
      "WARNING:tensorflow:From /home/liliane-hop/anaconda3/lib/python3.7/site-packages/tensorflow_core/python/ops/resource_variable_ops.py:1635: calling BaseResourceVariable.__init__ (from tensorflow.python.ops.resource_variable_ops) with constraint is deprecated and will be removed in a future version.\n",
      "Instructions for updating:\n",
      "If using Keras pass *_constraint arguments to layers.\n"
     ]
    }
   ],
   "source": [
    "tf.compat.v1.reset_default_graph()\n",
    "\n",
    "n_inputs = 3\n",
    "n_hidden = 2\n",
    "n_outputs = n_inputs\n",
    "learning_rate = 0.01\n",
    "\n",
    "X = tf.compat.v1.placeholder(tf.float32, shape=[None, n_inputs])\n",
    "hidden = tf.compat.v1.layers.dense(X, n_hidden)\n",
    "outputs = tf.compat.v1.layers.dense(hidden, n_outputs)\n",
    "\n",
    "reconstruction_loss = tf.reduce_mean(tf.square(outputs - X))\n",
    "\n",
    "optimizer = tf.compat.v1.train.AdamOptimizer(learning_rate)\n",
    "training_op = optimizer.minimize(reconstruction_loss)\n",
    "\n",
    "init = tf.compat.v1.global_variables_initializer()"
   ]
  },
  {
   "cell_type": "code",
   "execution_count": 6,
   "metadata": {
    "ExecuteTime": {
     "end_time": "2021-02-11T11:07:26.024471Z",
     "start_time": "2021-02-11T11:07:24.608514Z"
    },
    "colab": {
     "base_uri": "https://localhost:8080/",
     "height": 232
    },
    "id": "TpFmJG7UaZIv",
    "outputId": "f649ff04-5924-4d67-ae9b-246c9ef1df8e"
   },
   "outputs": [
    {
     "data": {
      "image/png": "[encoded data removed]",
      "text/plain": [
       "<Figure size 288x216 with 1 Axes>"
      ]
     },
     "metadata": {
      "needs_background": "light"
     },
     "output_type": "display_data"
    }
   ],
   "source": [
    "n_iterations = 1000\n",
    "codings = hidden\n",
    "\n",
    "with tf.compat.v1.Session() as sess:\n",
    "    init.run()\n",
    "    for iteration in range(n_iterations):\n",
    "        training_op.run(feed_dict={X: X_train})\n",
    "    codings_val = codings.eval(feed_dict={X: X_test})\n",
    "    \n",
    "fig = plt.figure(figsize=(4,3))\n",
    "plt.plot(codings_val[:,0], codings_val[:, 1], 'b.')\n",
    "plt.xlabel('$z_1$', fontsize=18)\n",
    "plt.ylabel('$z_2$', fontsize=18, rotation=0)\n",
    "plt.show()"
   ]
  },
  {
   "cell_type": "markdown",
   "metadata": {
    "id": "1dGScHH2aZIw"
   },
   "source": [
    "### Autoencoder empilhado"
   ]
  },
  {
   "cell_type": "code",
   "execution_count": 7,
   "metadata": {
    "ExecuteTime": {
     "end_time": "2021-02-11T11:07:26.677972Z",
     "start_time": "2021-02-11T11:07:26.027172Z"
    },
    "id": "YgWOE2QiaZIx"
   },
   "outputs": [],
   "source": [
    "(X_train, y_train), (X_test, y_test) = tf.keras.datasets.mnist.load_data()\n",
    "X_train = X_train.astype(np.float32).reshape(-1, 28*28) / 255.0\n",
    "X_test = X_test.astype(np.float32).reshape(-1, 28*28) / 255.0\n",
    "y_train = y_train.astype(np.int32)\n",
    "y_test = y_test.astype(np.int32)\n",
    "X_valid, X_train = X_train[:5000], X_train[5000:]\n",
    "y_valid, y_train = y_train[:5000], y_train[5000:]"
   ]
  },
  {
   "cell_type": "code",
   "execution_count": 8,
   "metadata": {
    "ExecuteTime": {
     "end_time": "2021-02-11T11:07:27.112754Z",
     "start_time": "2021-02-11T11:07:26.680608Z"
    },
    "id": "z1Y-ZynoaZIy"
   },
   "outputs": [],
   "source": [
    "from functools import partial\n",
    "from tensorflow.keras.regularizers import l2\n",
    "\n",
    "tf.compat.v1.reset_default_graph()\n",
    "\n",
    "n_inputs = 28 * 28\n",
    "n_hidden1 = 300\n",
    "n_hidden2 = 150\n",
    "n_hidden3 = n_hidden1\n",
    "n_outputs = n_inputs\n",
    "learning_rate = 0.01\n",
    "l2_reg = 0.0001\n",
    "\n",
    "X = tf.compat.v1.placeholder(tf.float32, shape=[None, n_inputs])\n",
    "he_init = tf.compat.v1.variance_scaling_initializer()\n",
    "l2_regularizer = l2(l2_reg)\n",
    "\n",
    "my_dense_layer = partial(tf.compat.v1.layers.dense,\n",
    "                         activation=tf.nn.elu,\n",
    "                         kernel_initializer=he_init,\n",
    "                         kernel_regularizer=l2_regularizer)\n",
    "\n",
    "hidden1 = my_dense_layer(X, n_hidden1)\n",
    "hidden2 = my_dense_layer(hidden1, n_hidden2)\n",
    "hidden3 = my_dense_layer(hidden2, n_hidden3)\n",
    "outputs = my_dense_layer(hidden3, n_outputs, activation=None)\n",
    "\n",
    "reconstruction_loss = tf.reduce_mean(tf.square(outputs - X))\n",
    "\n",
    "reg_losses = tf.compat.v1.get_collection(tf.compat.v1.GraphKeys.REGULARIZATION_LOSSES)\n",
    "loss = tf.add_n([reconstruction_loss] + reg_losses)\n",
    "\n",
    "optimizer = tf.compat.v1.train.AdamOptimizer(learning_rate)\n",
    "training_op = optimizer.minimize(loss)\n",
    "\n",
    "init = tf.compat.v1.global_variables_initializer()\n",
    "saver = tf.compat.v1.train.Saver()"
   ]
  },
  {
   "cell_type": "code",
   "execution_count": 9,
   "metadata": {
    "ExecuteTime": {
     "end_time": "2021-02-11T11:07:42.438721Z",
     "start_time": "2021-02-11T11:07:27.115229Z"
    },
    "colab": {
     "base_uri": "https://localhost:8080/"
    },
    "id": "wbixl26naZIz",
    "outputId": "fa8d94a4-2854-4246-e192-9c61bb8d6db2"
   },
   "outputs": [
    {
     "name": "stdout",
     "output_type": "stream",
     "text": [
      "0 Train MSE: 0.020910986\n",
      "1 Train MSE: 0.015722847\n",
      "2 Train MSE: 0.015605824\n",
      "3 Train MSE: 0.015891755\n",
      "4 Train MSE: 0.01707118\n"
     ]
    }
   ],
   "source": [
    "import sys\n",
    "\n",
    "n_epochs = 5\n",
    "batch_size = 150\n",
    "\n",
    "with tf.compat.v1.Session() as sess:\n",
    "    init.run()\n",
    "    for epoch in range(n_epochs):\n",
    "        for X_batch, y_batch in shuffle_batch(X_train, y_train, batch_size):\n",
    "            sess.run(training_op, feed_dict={X: X_batch})\n",
    "        loss_train = reconstruction_loss.eval(feed_dict={X: X_batch})\n",
    "        print(\"\\r{}\".format(epoch), 'Train MSE:', loss_train)\n",
    "        saver.save(sess, 'models/my_model_all_layers.ckpt')"
   ]
  },
  {
   "cell_type": "code",
   "execution_count": 10,
   "metadata": {
    "ExecuteTime": {
     "end_time": "2021-02-11T11:07:42.813923Z",
     "start_time": "2021-02-11T11:07:42.441882Z"
    },
    "colab": {
     "base_uri": "https://localhost:8080/",
     "height": 374
    },
    "id": "KWlbl_C6aZI0",
    "outputId": "8f94656a-5762-4b74-b1cd-50495c0aaae6"
   },
   "outputs": [
    {
     "name": "stdout",
     "output_type": "stream",
     "text": [
      "INFO:tensorflow:Restoring parameters from models/my_model_all_layers.ckpt\n"
     ]
    },
    {
     "data": {
      "image/png": "[encoded data removed]",
      "text/plain": [
       "<Figure size 576x432 with 4 Axes>"
      ]
     },
     "metadata": {
      "needs_background": "light"
     },
     "output_type": "display_data"
    }
   ],
   "source": [
    "show_reconstructed_digits(X, X_test, outputs, 'models/my_model_all_layers.ckpt')"
   ]
  },
  {
   "cell_type": "markdown",
   "metadata": {
    "id": "DDp16izBb5hY"
   },
   "source": [
    "### Amarrando os pesos"
   ]
  },
  {
   "cell_type": "code",
   "execution_count": 11,
   "metadata": {
    "ExecuteTime": {
     "end_time": "2021-02-11T11:07:43.147766Z",
     "start_time": "2021-02-11T11:07:42.816933Z"
    },
    "id": "tl0YC2Eib53g"
   },
   "outputs": [],
   "source": [
    "tf.compat.v1.reset_default_graph()\n",
    "\n",
    "n_inputs = 28 * 28\n",
    "n_hidden1 = 300\n",
    "n_hidden2 = 150\n",
    "n_hidden3 = n_hidden1\n",
    "n_outputs = n_inputs\n",
    "learning_rate = 0.01\n",
    "l2_reg = 0.0005\n",
    "\n",
    "regularizer = l2(l2_reg)\n",
    "initializer = tf.compat.v1.variance_scaling_initializer()\n",
    "activation = tf.nn.elu\n",
    "\n",
    "X = tf.compat.v1.placeholder(tf.float32, shape=[None, n_inputs])\n",
    "\n",
    "weights1_init = initializer([n_inputs, n_hidden1])\n",
    "weights2_init = initializer([n_hidden1, n_hidden2])\n",
    "\n",
    "weights1 = tf.Variable(weights1_init, dtype=tf.float32, name='weights1')\n",
    "weights2 = tf.Variable(weights2_init, dtype=tf.float32, name='weights2')\n",
    "weights3 = tf.transpose(weights2, name='weights3')  # amarrando os pesos\n",
    "weights4 = tf.transpose(weights1, name='weights4')  # amarrando os pesos\n",
    "\n",
    "biases1 = tf.Variable(tf.zeros(n_hidden1), name='biases1')\n",
    "biases2 = tf.Variable(tf.zeros(n_hidden2), name='biases2')\n",
    "biases3 = tf.Variable(tf.zeros(n_hidden3), name='biases3')\n",
    "biases4 = tf.Variable(tf.zeros(n_outputs), name='biases4')\n",
    "\n",
    "hidden1 = activation(tf.matmul(X, weights1) + biases1)\n",
    "hidden2 = activation(tf.matmul(hidden1, weights2) + biases2)\n",
    "hidden3 = activation(tf.matmul(hidden2, weights3) + biases3)\n",
    "outputs = tf.matmul(hidden3, weights4) + biases4\n",
    "\n",
    "reconstruction_loss = tf.reduce_mean(tf.square(outputs - X))\n",
    "reg_loss = regularizer(weights1) + regularizer(weights2)\n",
    "loss = reconstruction_loss + reg_loss\n",
    "\n",
    "optimizer = tf.compat.v1.train.AdamOptimizer(learning_rate)\n",
    "training_op = optimizer.minimize(loss)\n",
    "\n",
    "init = tf.compat.v1.global_variables_initializer()\n",
    "saver = tf.compat.v1.train.Saver()"
   ]
  },
  {
   "cell_type": "code",
   "execution_count": 12,
   "metadata": {
    "ExecuteTime": {
     "end_time": "2021-02-11T11:07:57.932953Z",
     "start_time": "2021-02-11T11:07:43.150514Z"
    },
    "colab": {
     "base_uri": "https://localhost:8080/"
    },
    "id": "qH8MKPJ2c5-B",
    "outputId": "77271c17-ae7a-4f83-8345-53575f48c1eb"
   },
   "outputs": [
    {
     "name": "stdout",
     "output_type": "stream",
     "text": [
      "0 Train MSE: 0.027487524\n",
      "1 Train MSE: 0.028513562\n",
      "2 Train MSE: 0.027602447\n",
      "3 Train MSE: 0.026915673\n",
      "4 Train MSE: 0.026888415\n"
     ]
    }
   ],
   "source": [
    "n_epochs = 5\n",
    "batch_size = 150\n",
    "\n",
    "with tf.compat.v1.Session() as sess:\n",
    "    init.run()\n",
    "    for epoch in range(n_epochs):\n",
    "        for X_batch, y_batch in shuffle_batch(X_train, y_train, batch_size):\n",
    "            sess.run(training_op, feed_dict={X: X_batch})\n",
    "        loss_train = reconstruction_loss.eval(feed_dict={X: X_batch})\n",
    "        print(\"\\r{}\".format(epoch), 'Train MSE:', loss_train)\n",
    "        saver.save(sess, 'models/my_model_tying_weights.ckpt')"
   ]
  },
  {
   "cell_type": "code",
   "execution_count": 13,
   "metadata": {
    "ExecuteTime": {
     "end_time": "2021-02-11T11:07:58.337956Z",
     "start_time": "2021-02-11T11:07:57.937560Z"
    },
    "colab": {
     "base_uri": "https://localhost:8080/",
     "height": 374
    },
    "id": "9eouBpJ0dHY0",
    "outputId": "80cc3e55-9158-4ae1-95db-cbc83252104c"
   },
   "outputs": [
    {
     "name": "stdout",
     "output_type": "stream",
     "text": [
      "INFO:tensorflow:Restoring parameters from models/my_model_tying_weights.ckpt\n"
     ]
    },
    {
     "data": {
      "image/png": "[encoded data removed]",
      "text/plain": [
       "<Figure size 576x432 with 4 Axes>"
      ]
     },
     "metadata": {
      "needs_background": "light"
     },
     "output_type": "display_data"
    }
   ],
   "source": [
    "show_reconstructed_digits(X, X_test, outputs, 'models/my_model_tying_weights.ckpt')"
   ]
  },
  {
   "cell_type": "markdown",
   "metadata": {
    "id": "ouV79uoudqr4"
   },
   "source": [
    "### Visualizando reconstruções"
   ]
  },
  {
   "cell_type": "code",
   "execution_count": 14,
   "metadata": {
    "ExecuteTime": {
     "end_time": "2021-02-11T11:07:58.744769Z",
     "start_time": "2021-02-11T11:07:58.341644Z"
    },
    "colab": {
     "base_uri": "https://localhost:8080/",
     "height": 265
    },
    "id": "p0FBhxLGgj5b",
    "outputId": "575ebbde-ccc0-42ec-81d3-bdfb4ea69151"
   },
   "outputs": [
    {
     "name": "stdout",
     "output_type": "stream",
     "text": [
      "INFO:tensorflow:Restoring parameters from models/my_model_tying_weights.ckpt\n"
     ]
    },
    {
     "data": {
      "image/png": "[encoded data removed]",
      "text/plain": [
       "<Figure size 432x288 with 4 Axes>"
      ]
     },
     "metadata": {
      "needs_background": "light"
     },
     "output_type": "display_data"
    }
   ],
   "source": [
    "n_test_digits = 2\n",
    "X_test = X_test[:n_test_digits]\n",
    "\n",
    "with tf.compat.v1.Session() as sess:\n",
    "    saver.restore(sess, 'models/my_model_tying_weights.ckpt')\n",
    "    outputs_val = outputs.eval(feed_dict={X: X_test})\n",
    "\n",
    "def plot_image(image, shape=[28, 28]):\n",
    "    plt.imshow(image.reshape(shape), cmap='Greys', interpolation='nearest')\n",
    "    plt.axis('off')\n",
    "\n",
    "for digit_index in range(n_test_digits):\n",
    "    plt.subplot(n_test_digits, 2, digit_index * 2 + 1)\n",
    "    plot_image(X_test[digit_index])\n",
    "    plt.subplot(n_test_digits, 2, digit_index * 2 + 2)\n",
    "    plot_image(outputs_val[digit_index])"
   ]
  },
  {
   "cell_type": "markdown",
   "metadata": {
    "id": "_JIlGsFseC8E"
   },
   "source": [
    "### Visualizando características"
   ]
  },
  {
   "cell_type": "code",
   "execution_count": 15,
   "metadata": {
    "ExecuteTime": {
     "end_time": "2021-02-11T11:07:59.081248Z",
     "start_time": "2021-02-11T11:07:58.748545Z"
    },
    "colab": {
     "base_uri": "https://localhost:8080/",
     "height": 106
    },
    "id": "vIptinizgzZS",
    "outputId": "04fc74b6-cc0e-4900-f0b1-4896839163f0"
   },
   "outputs": [
    {
     "name": "stdout",
     "output_type": "stream",
     "text": [
      "INFO:tensorflow:Restoring parameters from models/my_model_tying_weights.ckpt\n"
     ]
    },
    {
     "data": {
      "image/png": "[encoded data removed]",
      "text/plain": [
       "<Figure size 432x288 with 5 Axes>"
      ]
     },
     "metadata": {
      "needs_background": "light"
     },
     "output_type": "display_data"
    }
   ],
   "source": [
    "with tf.compat.v1.Session() as sess:\n",
    "    saver.restore(sess, 'models/my_model_tying_weights.ckpt')\n",
    "    weights1_val = weights1.eval()\n",
    "\n",
    "for i in range(5):\n",
    "    plt.subplot(1, 5, i + 1)\n",
    "    plot_image(weights1_val.T[i])\n",
    "plt.show()"
   ]
  },
  {
   "cell_type": "markdown",
   "metadata": {
    "id": "Og-eYATPhFDc"
   },
   "source": [
    "### Pré-treinamento não supervisionado"
   ]
  },
  {
   "cell_type": "code",
   "execution_count": 16,
   "metadata": {
    "ExecuteTime": {
     "end_time": "2021-02-11T11:07:59.435195Z",
     "start_time": "2021-02-11T11:07:59.084119Z"
    },
    "id": "-D4mJfubhFPT"
   },
   "outputs": [],
   "source": [
    "tf.compat.v1.reset_default_graph()\n",
    "\n",
    "n_inputs = 28 * 28\n",
    "n_hidden1 = 300\n",
    "n_hidden2 = 150\n",
    "n_outputs = 10\n",
    "learning_rate = 0.01\n",
    "l2_reg = 0.0005\n",
    "\n",
    "activation = tf.nn.elu\n",
    "regularizer = l2(l2_reg)\n",
    "initializer = tf.compat.v1.variance_scaling_initializer()\n",
    "\n",
    "X = tf.compat.v1.placeholder(tf.float32, shape=[None, n_inputs])\n",
    "y = tf.compat.v1.placeholder(tf.int32, shape=[None])\n",
    "\n",
    "weights1_init = initializer([n_inputs, n_hidden1])\n",
    "weights2_init = initializer([n_hidden1, n_hidden2])\n",
    "weights3_init = initializer([n_hidden2, n_outputs])\n",
    "\n",
    "weights1 = tf.Variable(weights1_init, dtype=tf.float32, name='weights1')\n",
    "weights2 = tf.Variable(weights2_init, dtype=tf.float32, name='weights2')\n",
    "weights3 = tf.Variable(weights3_init, dtype=tf.float32, name='weights3')\n",
    "\n",
    "biases1 = tf.Variable(tf.zeros(n_hidden1), name='biases1')\n",
    "biases2 = tf.Variable(tf.zeros(n_hidden2), name='biases2')\n",
    "biases3 = tf.Variable(tf.zeros(n_outputs), name='biases3')\n",
    "\n",
    "hidden1 = activation(tf.matmul(X, weights1) + biases1)\n",
    "hidden2 = activation(tf.matmul(hidden1, weights2) + biases2)\n",
    "logits = tf.matmul(hidden2, weights3) + biases3\n",
    "\n",
    "cross_entropy = tf.compat.v1.nn.sparse_softmax_cross_entropy_with_logits(labels=y, logits=logits)\n",
    "reg_loss = regularizer(weights1) + regularizer(weights2) + regularizer(weights3)\n",
    "loss = cross_entropy + reg_loss\n",
    "\n",
    "optimizer = tf.compat.v1.train.AdamOptimizer(learning_rate)\n",
    "training_op = optimizer.minimize(loss)\n",
    "\n",
    "correct = tf.compat.v1.nn.in_top_k(logits, y, 1)\n",
    "accuracy = tf.reduce_mean(tf.cast(correct, tf.float32))\n",
    "\n",
    "init = tf.compat.v1.global_variables_initializer()\n",
    "pretrain_saver = tf.compat.v1.train.Saver([weights1, weights2, biases1, biases2])\n",
    "saver = tf.compat.v1.train.Saver()"
   ]
  },
  {
   "cell_type": "markdown",
   "metadata": {
    "id": "_SoNQMnYnF7n"
   },
   "source": [
    "#### Treinamento regular"
   ]
  },
  {
   "cell_type": "code",
   "execution_count": 17,
   "metadata": {
    "ExecuteTime": {
     "end_time": "2021-02-11T11:08:07.357959Z",
     "start_time": "2021-02-11T11:07:59.437735Z"
    },
    "colab": {
     "base_uri": "https://localhost:8080/"
    },
    "id": "SZpm2RrPhJx-",
    "outputId": "ea72f3bb-50be-4c96-d9f1-9426a411fbda"
   },
   "outputs": [
    {
     "name": "stdout",
     "output_type": "stream",
     "text": [
      "0 Train accuracy: 0.96\n",
      "1 Train accuracy: 0.9866667\n",
      "2 Train accuracy: 0.97333336\n",
      "3 Train accuracy: 0.9533333\n"
     ]
    }
   ],
   "source": [
    "n_epochs = 4\n",
    "batch_size = 150\n",
    "n_labeled_instances = 20000\n",
    "\n",
    "with tf.compat.v1.Session() as sess:\n",
    "    init.run()\n",
    "    for epoch in range(n_epochs):\n",
    "        indices = rnd.permutation(n_labeled_instances)[:batch_size]\n",
    "        for X_batch, y_batch in shuffle_batch(X_train, y_train, batch_size):\n",
    "            sess.run(training_op, feed_dict={X: X_batch, y: y_batch})\n",
    "        accuracy_val = accuracy.eval(feed_dict={X: X_batch, y: y_batch})\n",
    "        print('\\r{}'.format(epoch), 'Train accuracy:', accuracy_val)   \n",
    "        saver.save(sess, 'models/my_model_supervised.ckpt')"
   ]
  },
  {
   "cell_type": "markdown",
   "metadata": {
    "id": "CQJvdL0nnKjI"
   },
   "source": [
    "#### Treinamento reutilizando as duas primeiras camadas pré-treinadas"
   ]
  },
  {
   "cell_type": "code",
   "execution_count": 18,
   "metadata": {
    "ExecuteTime": {
     "end_time": "2021-02-11T11:08:13.657377Z",
     "start_time": "2021-02-11T11:08:07.363131Z"
    },
    "colab": {
     "base_uri": "https://localhost:8080/"
    },
    "id": "zzZRA7XnnT9c",
    "outputId": "ad3096f0-a4e7-4512-8405-4b04921282f8"
   },
   "outputs": [
    {
     "name": "stdout",
     "output_type": "stream",
     "text": [
      "INFO:tensorflow:Restoring parameters from models/my_model_supervised.ckpt\n",
      "0 Train accuracy: 0.98\n",
      "1 Train accuracy: 0.98\n",
      "2 Train accuracy: 0.96\n",
      "3 Train accuracy: 0.97333336\n"
     ]
    }
   ],
   "source": [
    "n_epochs = 4\n",
    "batch_size = 150\n",
    "n_labeled_instances = 20000\n",
    "\n",
    "training_op = optimizer.minimize(loss, var_list=[weights3, biases3])\n",
    "\n",
    "with tf.compat.v1.Session() as sess:\n",
    "    init.run()\n",
    "    pretrain_saver.restore(sess, 'models/my_model_supervised.ckpt')\n",
    "    for epoch in range(n_epochs):\n",
    "        indices = rnd.permutation(n_labeled_instances)[:batch_size]\n",
    "        for X_batch, y_batch in shuffle_batch(X_train, y_train, batch_size):\n",
    "            sess.run(training_op, feed_dict={X: X_batch, y: y_batch})\n",
    "        accuracy_val = accuracy.eval(feed_dict={X: X_batch, y: y_batch})\n",
    "        print('\\r{}'.format(epoch), 'Train accuracy:', accuracy_val)   \n",
    "        saver.save(sess, 'models/my_model_supervised_pretrained.ckpt')"
   ]
  },
  {
   "cell_type": "markdown",
   "metadata": {},
   "source": [
    "### Autoencoders de remoção de ruído"
   ]
  },
  {
   "cell_type": "markdown",
   "metadata": {},
   "source": [
    "#### Ruído gaussiano"
   ]
  },
  {
   "cell_type": "code",
   "execution_count": 19,
   "metadata": {
    "ExecuteTime": {
     "end_time": "2021-02-11T11:08:14.059288Z",
     "start_time": "2021-02-11T11:08:13.660591Z"
    }
   },
   "outputs": [],
   "source": [
    "tf.compat.v1.reset_default_graph()\n",
    "\n",
    "n_inputs = 28 * 28\n",
    "n_hidden1 = 300\n",
    "n_hidden2 = 150\n",
    "n_hidden3 = n_hidden1\n",
    "n_outputs = n_inputs\n",
    "learning_rate = 0.01\n",
    "noise_level = 1.0\n",
    "\n",
    "X = tf.compat.v1.placeholder(tf.float32, shape=[None, n_inputs])\n",
    "X_noisy = X + noise_level * tf.compat.v1.random_normal(tf.shape(X)) #adiciona ruído à entrada\n",
    "\n",
    "hidden1 = tf.compat.v1.layers.dense(X_noisy, n_hidden1, activation=tf.nn.relu, name='hidden1')\n",
    "hidden2 = tf.compat.v1.layers.dense(hidden1, n_hidden2, activation=tf.nn.relu, name='hidden2')\n",
    "hidden3 = tf.compat.v1.layers.dense(hidden2, n_hidden3, activation=tf.nn.relu, name='hidden3')\n",
    "outputs = tf.compat.v1.layers.dense(hidden3, n_outputs, name='outputs')\n",
    "\n",
    "reconstruction_loss = tf.reduce_mean(tf.square(outputs - X))\n",
    "\n",
    "optimizer = tf.compat.v1.train.AdamOptimizer(learning_rate)\n",
    "training_op = optimizer.minimize(reconstruction_loss)\n",
    "    \n",
    "init = tf.compat.v1.global_variables_initializer()\n",
    "saver = tf.compat.v1.train.Saver()"
   ]
  },
  {
   "cell_type": "code",
   "execution_count": 20,
   "metadata": {
    "ExecuteTime": {
     "end_time": "2021-02-11T11:08:46.398672Z",
     "start_time": "2021-02-11T11:08:14.061947Z"
    }
   },
   "outputs": [
    {
     "name": "stdout",
     "output_type": "stream",
     "text": [
      "0 Train MSE: 0.040125564\n",
      "1 Train MSE: 0.040533166\n",
      "2 Train MSE: 0.040195465\n",
      "3 Train MSE: 0.039673954\n",
      "4 Train MSE: 0.03848823\n",
      "5 Train MSE: 0.041479923\n",
      "6 Train MSE: 0.03995979\n",
      "7 Train MSE: 0.03956004\n",
      "8 Train MSE: 0.040841524\n",
      "9 Train MSE: 0.041032042\n"
     ]
    }
   ],
   "source": [
    "n_epochs = 10\n",
    "batch_size = 150\n",
    "\n",
    "with tf.compat.v1.Session() as sess:\n",
    "    init.run()\n",
    "    for epoch in range(n_epochs):\n",
    "        for X_batch, y_batch in shuffle_batch(X_train, y_train, batch_size):\n",
    "            sess.run(training_op, feed_dict={X: X_batch})\n",
    "        loss_train = reconstruction_loss.eval(feed_dict={X: X_batch})\n",
    "        print('\\r{}'.format(epoch), 'Train MSE:', loss_train)\n",
    "        saver.save(sess, 'models/my_model_stacked_denoising_gaussian.ckpt')"
   ]
  },
  {
   "cell_type": "markdown",
   "metadata": {},
   "source": [
    "#### Com dropout"
   ]
  },
  {
   "cell_type": "code",
   "execution_count": 21,
   "metadata": {
    "ExecuteTime": {
     "end_time": "2021-02-11T11:08:46.823662Z",
     "start_time": "2021-02-11T11:08:46.401916Z"
    }
   },
   "outputs": [
    {
     "name": "stdout",
     "output_type": "stream",
     "text": [
      "WARNING:tensorflow:From <ipython-input-21-be283b2dfa21>:14: dropout (from tensorflow.python.layers.core) is deprecated and will be removed in a future version.\n",
      "Instructions for updating:\n",
      "Use keras.layers.dropout instead.\n"
     ]
    }
   ],
   "source": [
    "tf.compat.v1.reset_default_graph()\n",
    "\n",
    "n_inputs = 28 * 28\n",
    "n_hidden1 = 300\n",
    "n_hidden2 = 150\n",
    "n_hidden3 = n_hidden1\n",
    "n_outputs = n_inputs\n",
    "learning_rate = 0.01\n",
    "dropout_rate = 0.3\n",
    "\n",
    "training = tf.compat.v1.placeholder_with_default(False, shape=(), name='training')\n",
    "\n",
    "X = tf.compat.v1.placeholder(tf.float32, shape=[None, n_inputs])\n",
    "X_drop = tf.compat.v1.layers.dropout(X, dropout_rate, training=training)\n",
    "\n",
    "hidden1 = tf.compat.v1.layers.dense(X_drop, n_hidden1, activation=tf.nn.relu,  name='hidden1')\n",
    "hidden2 = tf.compat.v1.layers.dense(hidden1, n_hidden2, activation=tf.nn.relu, name='hidden2')\n",
    "hidden3 = tf.compat.v1.layers.dense(hidden2, n_hidden3, activation=tf.nn.relu, name='hidden3')\n",
    "outputs = tf.compat.v1.layers.dense(hidden3, n_outputs, name='outputs')\n",
    "\n",
    "reconstruction_loss = tf.reduce_mean(tf.square(outputs - X))\n",
    "\n",
    "optimizer = tf.compat.v1.train.AdamOptimizer(learning_rate)\n",
    "training_op = optimizer.minimize(reconstruction_loss)\n",
    "    \n",
    "init = tf.compat.v1.global_variables_initializer()\n",
    "saver = tf.compat.v1.train.Saver()"
   ]
  },
  {
   "cell_type": "code",
   "execution_count": 22,
   "metadata": {
    "ExecuteTime": {
     "end_time": "2021-02-11T11:09:20.980216Z",
     "start_time": "2021-02-11T11:08:46.826295Z"
    }
   },
   "outputs": [
    {
     "name": "stdout",
     "output_type": "stream",
     "text": [
      "0 Train MSE: 0.027045395\n",
      "1 Train MSE: 0.026575105\n",
      "2 Train MSE: 0.024887197\n",
      "3 Train MSE: 0.023318654\n",
      "4 Train MSE: 0.024527581\n",
      "5 Train MSE: 0.024261083\n",
      "6 Train MSE: 0.023881724\n",
      "7 Train MSE: 0.02390978\n",
      "8 Train MSE: 0.023898132\n",
      "9 Train MSE: 0.021940293\n"
     ]
    }
   ],
   "source": [
    "n_epochs = 10\n",
    "batch_size = 150\n",
    "\n",
    "with tf.compat.v1.Session() as sess:\n",
    "    init.run()\n",
    "    for epoch in range(n_epochs):\n",
    "        for X_batch, y_batch in shuffle_batch(X_train, y_train, batch_size):\n",
    "            sess.run(training_op, feed_dict={X: X_batch, training: True})\n",
    "        loss_train = reconstruction_loss.eval(feed_dict={X: X_batch})\n",
    "        print('\\r{}'.format(epoch), 'Train MSE:', loss_train)\n",
    "        saver.save(sess, 'models/my_model_stacked_denoising_dropout.ckpt')"
   ]
  },
  {
   "cell_type": "code",
   "execution_count": 23,
   "metadata": {
    "ExecuteTime": {
     "end_time": "2021-02-11T11:09:21.367563Z",
     "start_time": "2021-02-11T11:09:20.984633Z"
    }
   },
   "outputs": [
    {
     "name": "stdout",
     "output_type": "stream",
     "text": [
      "INFO:tensorflow:Restoring parameters from models/my_model_stacked_denoising_dropout.ckpt\n"
     ]
    },
    {
     "data": {
      "image/png": "[encoded data removed]",
      "text/plain": [
       "<Figure size 576x432 with 4 Axes>"
      ]
     },
     "metadata": {
      "needs_background": "light"
     },
     "output_type": "display_data"
    }
   ],
   "source": [
    "show_reconstructed_digits(X, X_test, outputs, 'models/my_model_stacked_denoising_dropout.ckpt')"
   ]
  },
  {
   "cell_type": "markdown",
   "metadata": {},
   "source": [
    "### Autoencoder esparso"
   ]
  },
  {
   "cell_type": "code",
   "execution_count": 24,
   "metadata": {
    "ExecuteTime": {
     "end_time": "2021-02-11T11:09:21.642457Z",
     "start_time": "2021-02-11T11:09:21.370631Z"
    }
   },
   "outputs": [
    {
     "data": {
      "image/png": "[encoded data removed]",
      "text/plain": [
       "<Figure size 432x288 with 1 Axes>"
      ]
     },
     "metadata": {
      "needs_background": "light"
     },
     "output_type": "display_data"
    }
   ],
   "source": [
    "p = 0.1\n",
    "q = np.linspace(0.001, 0.999, 500)\n",
    "\n",
    "kl_div = p * np.log(p / q) + (1 - p) * np.log((1 - p) / (1 - q))\n",
    "mse = (p - q)**2\n",
    "\n",
    "plt.plot([p, p], [0, 0.3], \"k:\")\n",
    "plt.text(0.05, 0.32, 'Esparsidade\\nalvo', fontsize=14)\n",
    "plt.plot(q, kl_div, 'b-', label='Divergência KL')\n",
    "plt.plot(q, mse, 'r--', label='MSE')\n",
    "\n",
    "plt.Figure(figsize=[12, 6])\n",
    "plt.title('Perda de esparsidade', fontsize=16)\n",
    "plt.legend(loc='upper left')\n",
    "plt.xlabel('Esparsidade real')\n",
    "plt.ylabel('Custo', rotation=0)\n",
    "plt.axis([0, 1, 0, 0.95])\n",
    "plt.show()"
   ]
  },
  {
   "cell_type": "code",
   "execution_count": 25,
   "metadata": {
    "ExecuteTime": {
     "end_time": "2021-02-11T11:09:21.991863Z",
     "start_time": "2021-02-11T11:09:21.645305Z"
    }
   },
   "outputs": [],
   "source": [
    "tf.compat.v1.reset_default_graph()\n",
    "\n",
    "n_inputs = 28 * 28\n",
    "n_hidden1 = 1000\n",
    "n_outputs = n_inputs\n",
    "\n",
    "\n",
    "def kl_divergence(p, q):\n",
    "    return p * tf.math.log(p / q) + (1 - p) * tf.math.log((1 - p) / (1 - q))\n",
    "\n",
    "learning_rate = 0.01\n",
    "sparsity_target = 0.1\n",
    "sparsity_weight = 0.2\n",
    "\n",
    "X = tf.compat.v1.placeholder(tf.float32, shape=[None, n_inputs])\n",
    "\n",
    "hidden1 = tf.compat.v1.layers.dense(X, n_hidden1, activation=tf.nn.sigmoid)\n",
    "outputs = tf.compat.v1.layers.dense(hidden1, n_outputs)\n",
    "\n",
    "hidden1_mean = tf.reduce_mean(hidden1, axis=0) # lote médio\n",
    "sparsity_loss = tf.reduce_sum(kl_divergence(sparsity_target, hidden1_mean))\n",
    "\n",
    "reconstruction_loss = tf.reduce_mean(tf.square(outputs - X))\n",
    "loss = reconstruction_loss + sparsity_weight * sparsity_loss\n",
    "\n",
    "optimizer = tf.compat.v1.train.AdamOptimizer(learning_rate)\n",
    "training_op = optimizer.minimize(loss)\n",
    "\n",
    "init = tf.compat.v1.global_variables_initializer()\n",
    "saver = tf.compat.v1.train.Saver()"
   ]
  },
  {
   "cell_type": "code",
   "execution_count": 26,
   "metadata": {
    "ExecuteTime": {
     "end_time": "2021-02-11T11:15:41.554046Z",
     "start_time": "2021-02-11T11:09:21.994446Z"
    }
   },
   "outputs": [
    {
     "name": "stdout",
     "output_type": "stream",
     "text": [
      "Epoch: 0\n",
      "Train MSE: 0.13878581 \tSparsity loss: 0.5579046 \tTotal loss: 0.25036675\n",
      "Epoch: 10\n",
      "Train MSE: 0.027638234 \tSparsity loss: 0.06696398 \tTotal loss: 0.04103103\n",
      "Epoch: 20\n",
      "Train MSE: 0.016263714 \tSparsity loss: 0.07300292 \tTotal loss: 0.030864298\n",
      "Epoch: 30\n",
      "Train MSE: 0.013510336 \tSparsity loss: 0.055990875 \tTotal loss: 0.024708511\n",
      "Epoch: 40\n",
      "Train MSE: 0.014091983 \tSparsity loss: 0.15624483 \tTotal loss: 0.045340948\n",
      "Epoch: 50\n",
      "Train MSE: 0.011731104 \tSparsity loss: 0.22869381 \tTotal loss: 0.057469867\n",
      "Epoch: 60\n",
      "Train MSE: 0.01307029 \tSparsity loss: 0.18859872 \tTotal loss: 0.050790034\n",
      "Epoch: 70\n",
      "Train MSE: 0.021346018 \tSparsity loss: 0.4644586 \tTotal loss: 0.11423774\n",
      "Epoch: 80\n",
      "Train MSE: 0.016133286 \tSparsity loss: 0.33816016 \tTotal loss: 0.08376532\n",
      "Epoch: 90\n",
      "Train MSE: 0.012817886 \tSparsity loss: 0.7490146 \tTotal loss: 0.16262081\n"
     ]
    }
   ],
   "source": [
    "n_epochs = 100\n",
    "batch_size = 1000\n",
    "\n",
    "with tf.compat.v1.Session() as sess:\n",
    "    init.run()\n",
    "    for epoch in range(n_epochs):\n",
    "        for X_batch, y_batch in shuffle_batch(X_train, y_train, batch_size):\n",
    "            sess.run(training_op, feed_dict={X: X_batch})\n",
    "        reconstruction_loss_val, sparsity_loss_val, loss_val = sess.run([reconstruction_loss, sparsity_loss, loss], \n",
    "                                                                        feed_dict={X: X_batch})\n",
    "        if epoch % 10 == 0:\n",
    "            print('Epoch: {}'.format(epoch))\n",
    "            print('Train MSE:', reconstruction_loss_val, '\\tSparsity loss:', sparsity_loss_val, '\\tTotal loss:', loss_val)\n",
    "        saver.save(sess, 'models/my_model_sparse.ckpt')"
   ]
  },
  {
   "cell_type": "code",
   "execution_count": 27,
   "metadata": {
    "ExecuteTime": {
     "end_time": "2021-02-11T11:15:41.907475Z",
     "start_time": "2021-02-11T11:15:41.557757Z"
    }
   },
   "outputs": [
    {
     "name": "stdout",
     "output_type": "stream",
     "text": [
      "INFO:tensorflow:Restoring parameters from models/my_model_sparse.ckpt\n"
     ]
    },
    {
     "data": {
      "image/png": "[encoded data removed]",
      "text/plain": [
       "<Figure size 576x432 with 4 Axes>"
      ]
     },
     "metadata": {
      "needs_background": "light"
     },
     "output_type": "display_data"
    }
   ],
   "source": [
    "show_reconstructed_digits(X, X_test, outputs, 'models/my_model_sparse.ckpt')"
   ]
  }
 ],
 "metadata": {
  "colab": {
   "collapsed_sections": [],
   "name": "15_autoencoders.ipynb",
   "provenance": []
  },
  "hide_input": false,
  "kernelspec": {
   "display_name": "Python 3",
   "language": "python",
   "name": "python3"
  },
  "language_info": {
   "codemirror_mode": {
    "name": "ipython",
    "version": 3
   },
   "file_extension": ".py",
   "mimetype": "text/x-python",
   "name": "python",
   "nbconvert_exporter": "python",
   "pygments_lexer": "ipython3",
   "version": "3.7.5"
  },
  "toc": {
   "base_numbering": 1,
   "nav_menu": {},
   "number_sections": true,
   "sideBar": true,
   "skip_h1_title": false,
   "title_cell": "Table of Contents",
   "title_sidebar": "Contents",
   "toc_cell": false,
   "toc_position": {},
   "toc_section_display": true,
   "toc_window_display": false
  },
  "varInspector": {
   "cols": {
    "lenName": 16,
    "lenType": 16,
    "lenVar": 40
   },
   "kernels_config": {
    "python": {
     "delete_cmd_postfix": "",
     "delete_cmd_prefix": "del ",
     "library": "var_list.py",
     "varRefreshCmd": "print(var_dic_list())"
    },
    "r": {
     "delete_cmd_postfix": ") ",
     "delete_cmd_prefix": "rm(",
     "library": "var_list.r",
     "varRefreshCmd": "cat(var_dic_list()) "
    }
   },
   "types_to_exclude": [
    "module",
    "function",
    "builtin_function_or_method",
    "instance",
    "_Feature"
   ],
   "window_display": false
  }
 },
 "nbformat": 4,
 "nbformat_minor": 1
}
