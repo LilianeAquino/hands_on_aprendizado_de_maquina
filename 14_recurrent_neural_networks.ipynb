{
 "cells": [
  {
   "cell_type": "markdown",
   "metadata": {},
   "source": [
    "# Redes neurais Recorrentes (RNN)"
   ]
  },
  {
   "cell_type": "markdown",
   "metadata": {},
   "source": [
    "### Bibliotecas básicas"
   ]
  },
  {
   "cell_type": "code",
   "execution_count": 1,
   "metadata": {
    "ExecuteTime": {
     "end_time": "2021-02-07T12:17:40.218123Z",
     "start_time": "2021-02-07T12:17:02.810944Z"
    }
   },
   "outputs": [
    {
     "name": "stdout",
     "output_type": "stream",
     "text": [
      "2.1.0\n"
     ]
    }
   ],
   "source": [
    "import numpy as np\n",
    "import pandas as pd\n",
    "from functools import partial\n",
    "import matplotlib.pyplot as plt\n",
    "%matplotlib inline\n",
    "\n",
    "import warnings\n",
    "warnings.filterwarnings('ignore')\n",
    "\n",
    "import tensorflow as tf\n",
    "print(tf.__version__)"
   ]
  },
  {
   "cell_type": "code",
   "execution_count": 2,
   "metadata": {
    "ExecuteTime": {
     "end_time": "2021-02-07T12:17:40.240234Z",
     "start_time": "2021-02-07T12:17:40.236715Z"
    }
   },
   "outputs": [],
   "source": [
    "tf.compat.v1.disable_eager_execution()"
   ]
  },
  {
   "cell_type": "markdown",
   "metadata": {},
   "source": [
    "### RNN básica - implementação manual"
   ]
  },
  {
   "cell_type": "code",
   "execution_count": 3,
   "metadata": {
    "ExecuteTime": {
     "end_time": "2021-02-02T10:29:28.503661Z",
     "start_time": "2021-02-02T10:29:21.872195Z"
    }
   },
   "outputs": [
    {
     "name": "stdout",
     "output_type": "stream",
     "text": [
      "WARNING:tensorflow:From /home/liliane-hop/anaconda3/lib/python3.7/site-packages/tensorflow_core/python/ops/resource_variable_ops.py:1635: calling BaseResourceVariable.__init__ (from tensorflow.python.ops.resource_variable_ops) with constraint is deprecated and will be removed in a future version.\n",
      "Instructions for updating:\n",
      "If using Keras pass *_constraint arguments to layers.\n"
     ]
    }
   ],
   "source": [
    "tf.compat.v1.reset_default_graph()\n",
    "\n",
    "n_inputs = 3\n",
    "n_neurons = 5\n",
    "\n",
    "X0 = tf.compat.v1.placeholder(tf.float32, [None, n_inputs])\n",
    "X1 = tf.compat.v1.placeholder(tf.float32, [None, n_inputs])\n",
    "\n",
    "Wx = tf.Variable(tf.compat.v1.random_normal(shape=[n_inputs, n_neurons], dtype=tf.float32))\n",
    "Wy = tf.Variable(tf.compat.v1.random_normal(shape=[n_neurons, n_neurons], dtype=tf.float32))\n",
    "b = tf.Variable(tf.zeros([1, n_neurons], dtype=tf.float32))\n",
    "\n",
    "Y0 = tf.math.tanh(tf.matmul(X0, Wx) + b)\n",
    "Y1 = tf.math.tanh(tf.matmul(Y0, Wy) + tf.matmul(X1, Wx) + b)\n",
    "\n",
    "init = tf.compat.v1.global_variables_initializer()\n",
    "\n",
    "X0_batch = np.array([[0, 1, 2], [3, 4, 5], [6, 7, 8], [9, 0, 1]]) # t = 0\n",
    "X1_batch = np.array([[9, 8, 7], [0, 0, 0], [6, 5, 4], [3, 2, 1]]) # t = 1\n",
    "\n",
    "with tf.compat.v1.Session() as sess:\n",
    "    init.run()\n",
    "    Y0_val, Y1_val = sess.run([Y0, Y1], feed_dict={X0: X0_batch, X1: X1_batch})"
   ]
  },
  {
   "cell_type": "markdown",
   "metadata": {},
   "source": [
    "#### Saída da rede em ambos intervalos para todos os neurônios e todas as instâncias no minilote:"
   ]
  },
  {
   "cell_type": "code",
   "execution_count": 4,
   "metadata": {
    "ExecuteTime": {
     "end_time": "2021-02-02T10:29:28.521095Z",
     "start_time": "2021-02-02T10:29:28.510076Z"
    }
   },
   "outputs": [
    {
     "name": "stdout",
     "output_type": "stream",
     "text": [
      "[[-0.9292309   0.21474057 -0.12915571  0.48339853 -0.12168597]\n",
      " [-0.9453479   0.9924072  -0.9528377   0.9893008  -0.32115355]\n",
      " [-0.9578743   0.9999551  -0.9984886   0.999834   -0.4956883 ]\n",
      " [ 1.          0.9999924  -0.9999964   0.99982053 -0.81004506]]\n"
     ]
    }
   ],
   "source": [
    "print(Y0_val)"
   ]
  },
  {
   "cell_type": "code",
   "execution_count": 5,
   "metadata": {
    "ExecuteTime": {
     "end_time": "2021-02-02T10:29:28.753582Z",
     "start_time": "2021-02-02T10:29:28.534933Z"
    }
   },
   "outputs": [
    {
     "name": "stdout",
     "output_type": "stream",
     "text": [
      "[[ 0.4526714   0.99998546 -0.9997825   0.99997705 -0.98249745]\n",
      " [-0.8092     -0.99118733  0.9938392  -0.9163951  -0.8390757 ]\n",
      " [ 0.27587575  0.98118156 -0.1959674   0.9657002  -0.92443734]\n",
      " [ 0.8012901   0.9927326   0.9985852  -0.05828086  0.9561478 ]]\n"
     ]
    }
   ],
   "source": [
    "print(Y1_val)"
   ]
  },
  {
   "cell_type": "markdown",
   "metadata": {},
   "source": [
    "### Desenrolamento estático através do tempo"
   ]
  },
  {
   "cell_type": "code",
   "execution_count": 6,
   "metadata": {
    "ExecuteTime": {
     "end_time": "2021-02-02T10:29:29.711228Z",
     "start_time": "2021-02-02T10:29:28.761657Z"
    }
   },
   "outputs": [
    {
     "name": "stdout",
     "output_type": "stream",
     "text": [
      "WARNING:tensorflow:From <ipython-input-6-f473b0140bcd>:9: BasicRNNCell.__init__ (from tensorflow.python.ops.rnn_cell_impl) is deprecated and will be removed in a future version.\n",
      "Instructions for updating:\n",
      "This class is equivalent as tf.keras.layers.SimpleRNNCell, and will be replaced by that in Tensorflow 2.0.\n",
      "WARNING:tensorflow:From <ipython-input-6-f473b0140bcd>:10: static_rnn (from tensorflow.python.ops.rnn) is deprecated and will be removed in a future version.\n",
      "Instructions for updating:\n",
      "Please use `keras.layers.RNN(cell, unroll=True)`, which is equivalent to this API\n",
      "WARNING:tensorflow:From /home/liliane-hop/anaconda3/lib/python3.7/site-packages/tensorflow_core/python/ops/rnn_cell_impl.py:456: Layer.add_variable (from tensorflow.python.keras.engine.base_layer) is deprecated and will be removed in a future version.\n",
      "Instructions for updating:\n",
      "Please use `layer.add_weight` method instead.\n",
      "WARNING:tensorflow:From /home/liliane-hop/anaconda3/lib/python3.7/site-packages/tensorflow_core/python/ops/rnn_cell_impl.py:460: calling Zeros.__init__ (from tensorflow.python.ops.init_ops) with dtype is deprecated and will be removed in a future version.\n",
      "Instructions for updating:\n",
      "Call initializer instance with the dtype argument instead of passing it to the constructor\n"
     ]
    }
   ],
   "source": [
    "tf.compat.v1.reset_default_graph()\n",
    "\n",
    "n_inputs = 3\n",
    "n_neurons = 5\n",
    "\n",
    "X0 = tf.compat.v1.placeholder(tf.float32, [None, n_inputs])\n",
    "X1 = tf.compat.v1.placeholder(tf.float32, [None, n_inputs])\n",
    "\n",
    "basic_cell = tf.compat.v1.nn.rnn_cell.BasicRNNCell(num_units=n_neurons)\n",
    "output_seqs, states = tf.compat.v1.nn.static_rnn(basic_cell, [X0, X1], dtype=tf.float32)\n",
    "Y0, Y1 = output_seqs\n",
    "\n",
    "init = tf.compat.v1.global_variables_initializer()\n",
    "\n",
    "X0_batch = np.array([[0, 1, 2], [3, 4, 5], [6, 7, 8], [9, 0, 1]])\n",
    "X1_batch = np.array([[9, 8, 7], [0, 0, 0], [6, 5, 4], [3, 2, 1]])\n",
    "\n",
    "with tf.compat.v1.Session() as sess:\n",
    "    init.run()\n",
    "    Y0_val, Y1_val = sess.run([Y0, Y1], feed_dict={X0: X0_batch, X1: X1_batch})"
   ]
  },
  {
   "cell_type": "code",
   "execution_count": 7,
   "metadata": {
    "ExecuteTime": {
     "end_time": "2021-02-02T10:29:29.729328Z",
     "start_time": "2021-02-02T10:29:29.717402Z"
    }
   },
   "outputs": [
    {
     "name": "stdout",
     "output_type": "stream",
     "text": [
      "[[-0.75895983  0.3400113   0.94230473  0.52180266 -0.24049175]\n",
      " [-0.99932796  0.8492658   0.99848884  0.9842553  -0.4880398 ]\n",
      " [-0.9999983   0.97337997  0.99996144  0.99959934 -0.67597884]\n",
      " [-0.9995692  -0.7197753  -0.9989893   0.9990812   0.34861642]]\n"
     ]
    }
   ],
   "source": [
    "print(Y0_val)"
   ]
  },
  {
   "cell_type": "code",
   "execution_count": 8,
   "metadata": {
    "ExecuteTime": {
     "end_time": "2021-02-02T10:29:30.000663Z",
     "start_time": "2021-02-02T10:29:29.737252Z"
    }
   },
   "outputs": [
    {
     "name": "stdout",
     "output_type": "stream",
     "text": [
      "[[-0.9999998   0.9668398   0.9989235   0.99952376 -0.716678  ]\n",
      " [-0.9176656  -0.4178842   0.1343207  -0.6269127  -0.20180708]\n",
      " [-0.9999971   0.7315453   0.9682632   0.9812145  -0.51459897]\n",
      " [-0.9713243   0.6028014   0.6579353   0.9050441   0.28244194]]\n"
     ]
    }
   ],
   "source": [
    "print(Y1_val)"
   ]
  },
  {
   "cell_type": "markdown",
   "metadata": {},
   "source": [
    "### Desenrolamento dinâmico através do tempo"
   ]
  },
  {
   "cell_type": "code",
   "execution_count": 9,
   "metadata": {
    "ExecuteTime": {
     "end_time": "2021-02-02T10:29:31.198418Z",
     "start_time": "2021-02-02T10:29:30.009091Z"
    }
   },
   "outputs": [
    {
     "name": "stdout",
     "output_type": "stream",
     "text": [
      "WARNING:tensorflow:From <ipython-input-9-d4f8e4306e00>:10: dynamic_rnn (from tensorflow.python.ops.rnn) is deprecated and will be removed in a future version.\n",
      "Instructions for updating:\n",
      "Please use `keras.layers.RNN(cell)`, which is equivalent to this API\n",
      "[[[ 0.51700026 -0.53753775  0.80512583 -0.28706634 -0.55653304]\n",
      "  [-0.7321642  -0.99993515  0.23379648 -0.74560183 -0.9999998 ]]\n",
      "\n",
      " [[ 0.39513594 -0.9901547   0.94781274 -0.705881   -0.99836606]\n",
      "  [-0.13300234  0.6276108  -0.86745507  0.33607927 -0.67801356]]\n",
      "\n",
      " [[ 0.25757223 -0.9998373   0.9867889  -0.89813447 -0.9999953 ]\n",
      "  [-0.82658786 -0.990005   -0.8405862  -0.5952307  -0.99999267]]\n",
      "\n",
      " [[-0.9453138  -0.9930309  -0.99824226 -0.9850142  -0.99621993]\n",
      "  [-0.9082471  -0.77422476 -0.8328735  -0.87709147 -0.9963527 ]]]\n"
     ]
    }
   ],
   "source": [
    "n_steps = 2\n",
    "n_inputs = 3\n",
    "n_neurons = 5\n",
    "\n",
    "tf.compat.v1.reset_default_graph()\n",
    "\n",
    "X = tf.compat.v1.placeholder(tf.float32, [None, n_steps, n_inputs])\n",
    "\n",
    "basic_cell = tf.compat.v1.nn.rnn_cell.BasicRNNCell(num_units=n_neurons)\n",
    "outputs, states = tf.compat.v1.nn.dynamic_rnn(basic_cell, X, dtype=tf.float32)\n",
    "\n",
    "init = tf.compat.v1.global_variables_initializer()\n",
    "\n",
    "X_batch = np.array([\n",
    "        [[0, 1, 2], [9, 8, 7]], # instância 1\n",
    "        [[3, 4, 5], [0, 0, 0]], # instância 2\n",
    "        [[6, 7, 8], [6, 5, 4]], # instância 3\n",
    "        [[9, 0, 1], [3, 2, 1]], # instância 4\n",
    "    ])\n",
    "\n",
    "with tf.compat.v1.Session() as sess:\n",
    "    init.run()\n",
    "    outputs_val = outputs.eval(feed_dict={X: X_batch})\n",
    "\n",
    "print(outputs_val)"
   ]
  },
  {
   "cell_type": "markdown",
   "metadata": {},
   "source": [
    "### Manipulando sentenças de entrada de comprimento variável"
   ]
  },
  {
   "cell_type": "code",
   "execution_count": 10,
   "metadata": {
    "ExecuteTime": {
     "end_time": "2021-02-02T10:29:31.917007Z",
     "start_time": "2021-02-02T10:29:31.204513Z"
    }
   },
   "outputs": [
    {
     "name": "stdout",
     "output_type": "stream",
     "text": [
      "[[[ 0.93458766 -0.7193072   0.31245053 -0.76001716 -0.923558  ]\n",
      "  [ 1.         -0.9561068   0.97031444 -0.9994637  -1.        ]]\n",
      "\n",
      " [[ 0.9999978  -0.95408326  0.7066738  -0.9949294  -0.9999828 ]\n",
      "  [ 0.          0.          0.          0.          0.        ]]\n",
      "\n",
      " [[ 1.         -0.9932587   0.8932454  -0.9999052  -1.        ]\n",
      "  [ 0.9999999  -0.69140786  0.9328227  -0.933578   -0.99999595]]\n",
      "\n",
      " [[ 0.9999765   0.9915666  -0.9528005  -0.99862623 -0.9998361 ]\n",
      "  [ 0.99659544 -0.6414234   0.6648374  -0.6759344  -0.9990536 ]]]\n"
     ]
    }
   ],
   "source": [
    "n_steps = 2\n",
    "n_inputs = 3\n",
    "n_neurons = 5\n",
    "\n",
    "tf.compat.v1.reset_default_graph()\n",
    "\n",
    "X = tf.compat.v1.placeholder(tf.float32, [None, n_steps, n_inputs])\n",
    "seq_length = tf.compat.v1.placeholder(tf.int32, [None])\n",
    "\n",
    "basic_cell = tf.compat.v1.nn.rnn_cell.BasicRNNCell(num_units=n_neurons)\n",
    "outputs, states = tf.compat.v1.nn.dynamic_rnn(basic_cell, X, dtype=tf.float32, sequence_length=seq_length)\n",
    "\n",
    "init = tf.compat.v1.global_variables_initializer()\n",
    "\n",
    "X_batch = np.array([\n",
    "        #step 0     step 1\n",
    "        [[0, 1, 2], [9, 8, 7]], # instância 1\n",
    "        [[3, 4, 5], [0, 0, 0]], # instância 2 (preenchido com vetor de zeros)\n",
    "        [[6, 7, 8], [6, 5, 4]], # instância 3\n",
    "        [[9, 0, 1], [3, 2, 1]], # instância 4\n",
    "    ])\n",
    "\n",
    "seq_length_batch = np.array([2, 1, 2, 2])\n",
    "\n",
    "with tf.compat.v1.Session() as sess:\n",
    "    init.run()\n",
    "    outputs_val, states_val = sess.run([outputs, states], feed_dict={X: X_batch, seq_length: seq_length_batch})\n",
    "\n",
    "print(outputs_val)"
   ]
  },
  {
   "cell_type": "markdown",
   "metadata": {},
   "source": [
    "### Treinando um classificador de sequência"
   ]
  },
  {
   "cell_type": "code",
   "execution_count": 6,
   "metadata": {
    "ExecuteTime": {
     "end_time": "2021-02-03T11:00:02.897639Z",
     "start_time": "2021-02-03T11:00:01.024239Z"
    }
   },
   "outputs": [
    {
     "name": "stdout",
     "output_type": "stream",
     "text": [
      "WARNING:tensorflow:From <ipython-input-6-905f5fa067ca>:13: BasicRNNCell.__init__ (from tensorflow.python.ops.rnn_cell_impl) is deprecated and will be removed in a future version.\n",
      "Instructions for updating:\n",
      "This class is equivalent as tf.keras.layers.SimpleRNNCell, and will be replaced by that in Tensorflow 2.0.\n",
      "WARNING:tensorflow:From <ipython-input-6-905f5fa067ca>:14: dynamic_rnn (from tensorflow.python.ops.rnn) is deprecated and will be removed in a future version.\n",
      "Instructions for updating:\n",
      "Please use `keras.layers.RNN(cell)`, which is equivalent to this API\n",
      "WARNING:tensorflow:From /home/liliane-hop/anaconda3/lib/python3.7/site-packages/tensorflow_core/python/ops/rnn_cell_impl.py:456: Layer.add_variable (from tensorflow.python.keras.engine.base_layer) is deprecated and will be removed in a future version.\n",
      "Instructions for updating:\n",
      "Please use `layer.add_weight` method instead.\n",
      "WARNING:tensorflow:From /home/liliane-hop/anaconda3/lib/python3.7/site-packages/tensorflow_core/python/ops/resource_variable_ops.py:1635: calling BaseResourceVariable.__init__ (from tensorflow.python.ops.resource_variable_ops) with constraint is deprecated and will be removed in a future version.\n",
      "Instructions for updating:\n",
      "If using Keras pass *_constraint arguments to layers.\n",
      "WARNING:tensorflow:From /home/liliane-hop/anaconda3/lib/python3.7/site-packages/tensorflow_core/python/ops/rnn_cell_impl.py:460: calling Zeros.__init__ (from tensorflow.python.ops.init_ops) with dtype is deprecated and will be removed in a future version.\n",
      "Instructions for updating:\n",
      "Call initializer instance with the dtype argument instead of passing it to the constructor\n",
      "WARNING:tensorflow:From <ipython-input-6-905f5fa067ca>:16: dense (from tensorflow.python.layers.core) is deprecated and will be removed in a future version.\n",
      "Instructions for updating:\n",
      "Use keras.layers.Dense instead.\n",
      "WARNING:tensorflow:From /home/liliane-hop/anaconda3/lib/python3.7/site-packages/tensorflow_core/python/layers/core.py:187: Layer.apply (from tensorflow.python.keras.engine.base_layer) is deprecated and will be removed in a future version.\n",
      "Instructions for updating:\n",
      "Please use `layer.__call__` method instead.\n"
     ]
    }
   ],
   "source": [
    "tf.compat.v1.reset_default_graph()\n",
    "\n",
    "n_steps = 28\n",
    "n_inputs = 28\n",
    "n_neurons = 150\n",
    "n_outputs = 10\n",
    "\n",
    "learning_rate = 0.001\n",
    "\n",
    "X = tf.compat.v1.placeholder(tf.float32, [None, n_steps, n_inputs])\n",
    "y = tf.compat.v1.placeholder(tf.int32, [None])\n",
    "\n",
    "basic_cell = tf.compat.v1.nn.rnn_cell.BasicRNNCell(num_units=n_neurons)\n",
    "outputs, states = tf.compat.v1.nn.dynamic_rnn(basic_cell, X, dtype=tf.float32)\n",
    "\n",
    "logits = tf.compat.v1.layers.dense(states, n_outputs)\n",
    "xentropy = tf.compat.v1.nn.sparse_softmax_cross_entropy_with_logits(labels=y, logits=logits)\n",
    "loss = tf.reduce_mean(xentropy)\n",
    "\n",
    "optimizer = tf.compat.v1.train.AdamOptimizer(learning_rate=learning_rate)\n",
    "training_op = optimizer.minimize(loss)\n",
    "\n",
    "correct = tf.compat.v1.nn.in_top_k(logits, y, 1)\n",
    "accuracy = tf.reduce_mean(tf.cast(correct, tf.float32))\n",
    "\n",
    "init = tf.compat.v1.global_variables_initializer()"
   ]
  },
  {
   "cell_type": "code",
   "execution_count": 7,
   "metadata": {
    "ExecuteTime": {
     "end_time": "2021-02-03T11:00:03.898112Z",
     "start_time": "2021-02-03T11:00:02.929731Z"
    }
   },
   "outputs": [],
   "source": [
    "def shuffle_batch(X, y, batch_size):\n",
    "    rnd_idx = np.random.permutation(len(X))\n",
    "    n_batches = len(X) // batch_size\n",
    "    for batch_idx in np.array_split(rnd_idx, n_batches):\n",
    "        X_batch, y_batch = X[batch_idx], y[batch_idx]\n",
    "        yield X_batch, y_batch\n",
    "        \n",
    "(X_train, y_train), (X_test, y_test) = tf.keras.datasets.mnist.load_data()\n",
    "X_train = X_train.astype(np.float32).reshape(-1, 28*28) / 255.0\n",
    "X_test = X_test.astype(np.float32).reshape(-1, 28*28) / 255.0\n",
    "y_train = y_train.astype(np.int32)\n",
    "y_test = y_test.astype(np.int32)\n",
    "X_valid, X_train = X_train[:5000], X_train[5000:]\n",
    "y_valid, y_train = y_train[:5000], y_train[5000:]\n",
    "\n",
    "X_test = X_test.reshape((-1, n_steps, n_inputs))"
   ]
  },
  {
   "cell_type": "code",
   "execution_count": 13,
   "metadata": {
    "ExecuteTime": {
     "end_time": "2021-02-02T10:42:28.954420Z",
     "start_time": "2021-02-02T10:29:35.619106Z"
    }
   },
   "outputs": [
    {
     "name": "stdout",
     "output_type": "stream",
     "text": [
      "0 Last batch accuracy: 0.91333336 Test accuracy: 0.9212\n",
      "10 Last batch accuracy: 1.0 Test accuracy: 0.9741\n",
      "20 Last batch accuracy: 0.9866667 Test accuracy: 0.9739\n",
      "30 Last batch accuracy: 1.0 Test accuracy: 0.9793\n",
      "40 Last batch accuracy: 0.98 Test accuracy: 0.977\n",
      "50 Last batch accuracy: 1.0 Test accuracy: 0.9786\n",
      "60 Last batch accuracy: 0.99333334 Test accuracy: 0.9773\n",
      "70 Last batch accuracy: 0.97333336 Test accuracy: 0.9777\n",
      "80 Last batch accuracy: 1.0 Test accuracy: 0.9791\n",
      "90 Last batch accuracy: 0.9866667 Test accuracy: 0.9771\n"
     ]
    }
   ],
   "source": [
    "n_epochs = 100\n",
    "batch_size = 150\n",
    "\n",
    "with tf.compat.v1.Session() as sess:\n",
    "    init.run()\n",
    "    for epoch in range(n_epochs):\n",
    "        for X_batch, y_batch in shuffle_batch(X_train, y_train, batch_size):\n",
    "            X_batch = X_batch.reshape((-1, n_steps, n_inputs))\n",
    "            sess.run(training_op, feed_dict={X: X_batch, y: y_batch})\n",
    "        if epoch % 10 == 0:\n",
    "            acc_batch = accuracy.eval(feed_dict={X: X_batch, y: y_batch})\n",
    "            acc_test = accuracy.eval(feed_dict={X: X_test, y: y_test})\n",
    "            print(epoch, 'Last batch accuracy:', acc_batch, 'Test accuracy:', acc_test)"
   ]
  },
  {
   "cell_type": "markdown",
   "metadata": {
    "ExecuteTime": {
     "end_time": "2021-02-01T11:10:57.345785Z",
     "start_time": "2021-02-01T11:10:57.342794Z"
    }
   },
   "source": [
    "### Prevendo Séries temporais"
   ]
  },
  {
   "cell_type": "code",
   "execution_count": 5,
   "metadata": {
    "ExecuteTime": {
     "end_time": "2021-02-03T10:19:05.799223Z",
     "start_time": "2021-02-03T10:19:05.782394Z"
    }
   },
   "outputs": [],
   "source": [
    "t_min, t_max = 0, 30\n",
    "resolution = 0.1\n",
    "\n",
    "def time_series(t):\n",
    "    return t * np.sin(t) / 3 + 2 * np.sin(t*5)\n",
    "\n",
    "def next_batch(batch_size, n_steps):\n",
    "    t0 = np.random.rand(batch_size, 1) * (t_max - t_min - n_steps * resolution)\n",
    "    Ts = t0 + np.arange(0., n_steps + 1) * resolution\n",
    "    ys = time_series(Ts)\n",
    "    return ys[:, :-1].reshape(-1, n_steps, 1), ys[:, 1:].reshape(-1, n_steps, 1)"
   ]
  },
  {
   "cell_type": "code",
   "execution_count": 16,
   "metadata": {
    "ExecuteTime": {
     "end_time": "2021-02-02T10:49:28.154646Z",
     "start_time": "2021-02-02T10:49:15.836134Z"
    }
   },
   "outputs": [
    {
     "name": "stdout",
     "output_type": "stream",
     "text": [
      "0 \tMSE: 20.400679\n",
      "100 \tMSE: 0.6562308\n",
      "200 \tMSE: 0.2516394\n",
      "300 \tMSE: 0.099226914\n",
      "400 \tMSE: 0.079162315\n",
      "500 \tMSE: 0.060888298\n",
      "600 \tMSE: 0.049327023\n",
      "700 \tMSE: 0.053943075\n",
      "800 \tMSE: 0.04837853\n",
      "900 \tMSE: 0.05036985\n",
      "1000 \tMSE: 0.044962913\n",
      "1100 \tMSE: 0.051766038\n",
      "1200 \tMSE: 0.042916216\n",
      "1300 \tMSE: 0.043102656\n",
      "1400 \tMSE: 0.046322674\n"
     ]
    },
    {
     "data": {
      "text/plain": [
       "array([[[-3.4285395 ],\n",
       "        [-2.4873607 ],\n",
       "        [-1.1441462 ],\n",
       "        [ 0.64267945],\n",
       "        [ 2.1547513 ],\n",
       "        [ 3.0455828 ],\n",
       "        [ 3.5083144 ],\n",
       "        [ 3.4149559 ],\n",
       "        [ 2.8399527 ],\n",
       "        [ 2.1580863 ],\n",
       "        [ 1.6326289 ],\n",
       "        [ 1.5457834 ],\n",
       "        [ 1.9189045 ],\n",
       "        [ 2.7590277 ],\n",
       "        [ 3.8841624 ],\n",
       "        [ 5.085305  ],\n",
       "        [ 6.0726795 ],\n",
       "        [ 6.618793  ],\n",
       "        [ 6.60153   ],\n",
       "        [ 6.0408335 ]]], dtype=float32)"
      ]
     },
     "execution_count": 16,
     "metadata": {},
     "output_type": "execute_result"
    }
   ],
   "source": [
    "tf.compat.v1.reset_default_graph()\n",
    "\n",
    "n_steps = 20\n",
    "n_inputs = 1\n",
    "n_neurons = 100\n",
    "\n",
    "X = tf.compat.v1.placeholder(tf.float32, [None, n_steps, n_inputs])\n",
    "y = tf.compat.v1.placeholder(tf.float32, [None, n_steps, n_outputs])\n",
    "\n",
    "cell = tf.compat.v1.nn.rnn_cell.BasicRNNCell(num_units=n_neurons, activation=tf.nn.relu)\n",
    "rnn_outputs, states = tf.compat.v1.nn.dynamic_rnn(cell, X, dtype=tf.float32)\n",
    "\n",
    "n_outputs = 1\n",
    "learning_rate = 0.001\n",
    "\n",
    "stacked_rnn_outputs = tf.reshape(rnn_outputs, [-1, n_neurons])\n",
    "stacked_outputs = tf.compat.v1.layers.dense(stacked_rnn_outputs, n_outputs)\n",
    "outputs = tf.reshape(stacked_outputs, [-1, n_steps, n_outputs])\n",
    "\n",
    "loss = tf.reduce_mean(tf.square(outputs - y))\n",
    "optimizer = tf.compat.v1.train.AdamOptimizer(learning_rate=learning_rate)\n",
    "training_op = optimizer.minimize(loss)\n",
    "\n",
    "init = tf.compat.v1.global_variables_initializer()\n",
    "saver = tf.compat.v1.train.Saver()\n",
    "\n",
    "n_iterations = 1500\n",
    "batch_size = 50\n",
    "t_instance = np.linspace(12.2, 12.2 + resolution * (n_steps + 1), n_steps + 1)\n",
    "\n",
    "with tf.compat.v1.Session() as sess:\n",
    "    init.run()\n",
    "    for iteration in range(n_iterations):\n",
    "        X_batch, y_batch = next_batch(batch_size, n_steps)\n",
    "        sess.run(training_op, feed_dict={X: X_batch, y: y_batch})\n",
    "        if iteration % 100 == 0:\n",
    "            mse = loss.eval(feed_dict={X: X_batch, y: y_batch})\n",
    "            print(iteration, '\\tMSE:', mse)\n",
    "    \n",
    "    X_new = time_series(np.array(t_instance[:-1].reshape(-1, n_steps, n_inputs)))\n",
    "    y_pred = sess.run(outputs, feed_dict={X: X_new})    \n",
    "    saver.save(sess, 'model/my_time_series_model')\n",
    "    \n",
    "y_pred"
   ]
  },
  {
   "cell_type": "markdown",
   "metadata": {},
   "source": [
    "### Rnn criativa"
   ]
  },
  {
   "cell_type": "code",
   "execution_count": 18,
   "metadata": {
    "ExecuteTime": {
     "end_time": "2021-02-02T10:50:56.546754Z",
     "start_time": "2021-02-02T10:50:55.553424Z"
    }
   },
   "outputs": [
    {
     "name": "stdout",
     "output_type": "stream",
     "text": [
      "INFO:tensorflow:Restoring parameters from model/my_time_series_model\n"
     ]
    },
    {
     "data": {
      "image/png": "[encoded data removed]",
      "text/plain": [
       "<Figure size 576x288 with 1 Axes>"
      ]
     },
     "metadata": {
      "needs_background": "light"
     },
     "output_type": "display_data"
    }
   ],
   "source": [
    "t = np.linspace(t_min, t_max, int((t_max - t_min) / resolution))\n",
    "\n",
    "with tf.compat.v1.Session() as sess:\n",
    "    saver.restore(sess, 'model/my_time_series_model')\n",
    "\n",
    "    sequence = [0.] * n_steps\n",
    "    for iteration in range(300):\n",
    "        X_batch = np.array(sequence[-n_steps:]).reshape(1, n_steps, 1)\n",
    "        y_pred = sess.run(outputs, feed_dict={X: X_batch})\n",
    "        sequence.append(y_pred[0, -1, 0])\n",
    "        \n",
    "        \n",
    "plt.figure(figsize=(8,4))\n",
    "plt.plot(np.arange(len(sequence)), sequence, 'b-')\n",
    "plt.plot(t[:n_steps], sequence[:n_steps], 'b-', linewidth=3)\n",
    "plt.xlabel('Tempo')\n",
    "plt.ylabel('Valor')\n",
    "plt.title('Sequências criativas com uma instância')\n",
    "plt.show()"
   ]
  },
  {
   "cell_type": "markdown",
   "metadata": {},
   "source": [
    "### MultiRNNCell"
   ]
  },
  {
   "cell_type": "code",
   "execution_count": 19,
   "metadata": {
    "ExecuteTime": {
     "end_time": "2021-02-02T10:54:02.435886Z",
     "start_time": "2021-02-02T10:54:02.093363Z"
    }
   },
   "outputs": [
    {
     "name": "stdout",
     "output_type": "stream",
     "text": [
      "WARNING:tensorflow:From <ipython-input-19-114349a1dd8b>:11: MultiRNNCell.__init__ (from tensorflow.python.ops.rnn_cell_impl) is deprecated and will be removed in a future version.\n",
      "Instructions for updating:\n",
      "This class is equivalent as tf.keras.layers.StackedRNNCells, and will be replaced by that in Tensorflow 2.0.\n"
     ]
    },
    {
     "data": {
      "text/plain": [
       "(2, 5, 100)"
      ]
     },
     "execution_count": 19,
     "metadata": {},
     "output_type": "execute_result"
    }
   ],
   "source": [
    "tf.compat.v1.reset_default_graph()\n",
    "\n",
    "n_inputs = 2\n",
    "n_steps = 5\n",
    "n_neurons = 100\n",
    "n_layers = 3\n",
    "\n",
    "X = tf.compat.v1.placeholder(tf.float32, [None, n_steps, n_inputs])\n",
    "\n",
    "layers = [tf.compat.v1.nn.rnn_cell.BasicRNNCell(num_units=n_neurons) for layer in range(n_layers)]\n",
    "multi_layer_cell = tf.compat.v1.nn.rnn_cell.MultiRNNCell(layers)\n",
    "outputs, states = tf.compat.v1.nn.dynamic_rnn(multi_layer_cell, X, dtype=tf.float32)\n",
    "\n",
    "init = tf.compat.v1.global_variables_initializer()\n",
    "X_batch = np.random.rand(2, n_steps, n_inputs)\n",
    "                                    \n",
    "with tf.compat.v1.Session() as sess:\n",
    "    init.run()\n",
    "    outputs_val, states_val = sess.run([outputs, states], feed_dict={X: X_batch})                                \n",
    "\n",
    "outputs_val.shape"
   ]
  },
  {
   "cell_type": "markdown",
   "metadata": {},
   "source": [
    "### Distribuindo a Rnn em vários dispositivos"
   ]
  },
  {
   "cell_type": "code",
   "execution_count": 24,
   "metadata": {
    "ExecuteTime": {
     "end_time": "2021-02-02T10:59:13.197479Z",
     "start_time": "2021-02-02T10:59:13.181413Z"
    }
   },
   "outputs": [],
   "source": [
    "class DeviceCellWrapper(tf.compat.v1.nn.rnn_cell.RNNCell):\n",
    "    def __init__(self, device, cell):\n",
    "        self._cell = cell\n",
    "        self._device = device\n",
    "\n",
    "    @property\n",
    "    def state_size(self):\n",
    "        return self._cell.state_size\n",
    "\n",
    "    @property\n",
    "    def output_size(self):\n",
    "        return self._cell.output_size\n",
    "\n",
    "    def __call__(self, inputs, state, scope=None):\n",
    "        with tf.compat.v1.device(self._device):\n",
    "            return self._cell(inputs, state, scope)"
   ]
  },
  {
   "cell_type": "code",
   "execution_count": 25,
   "metadata": {
    "ExecuteTime": {
     "end_time": "2021-02-02T10:59:22.811983Z",
     "start_time": "2021-02-02T10:59:22.489155Z"
    }
   },
   "outputs": [
    {
     "name": "stdout",
     "output_type": "stream",
     "text": [
      "[[[-0.01024527  0.07738794  0.08025952 ...  0.04309902  0.06226901\n",
      "    0.17012335]\n",
      "  [-0.10363811  0.07130952  0.06840975 ... -0.07937907  0.15951197\n",
      "    0.1989244 ]\n",
      "  [-0.22273828  0.3853796   0.16764209 ... -0.10228992 -0.08637314\n",
      "    0.55426055]\n",
      "  ...\n",
      "  [-0.35417774  0.43440124  0.589108   ...  0.24293865 -0.29663736\n",
      "    0.67660517]\n",
      "  [-0.20899323  0.76148987  0.5711088  ...  0.33963224 -0.40183413\n",
      "    0.7646412 ]\n",
      "  [-0.26786032  0.78920597  0.7057781  ...  0.4577092  -0.20650735\n",
      "    0.7924192 ]]\n",
      "\n",
      " [[ 0.04816885  0.01231821  0.10429928 ...  0.01952618  0.17488609\n",
      "    0.24252082]\n",
      "  [ 0.02891437  0.06223075  0.04770555 ...  0.00692777  0.00486861\n",
      "    0.18008871]\n",
      "  [-0.2625509   0.03996788  0.02360102 ... -0.12231635  0.01540499\n",
      "    0.6129265 ]\n",
      "  ...\n",
      "  [ 0.00960766  0.5359742   0.65483624 ...  0.04890637 -0.30614293\n",
      "    0.66255796]\n",
      "  [-0.2794039   0.63816893  0.5565458  ...  0.07458118 -0.38590625\n",
      "    0.7760383 ]\n",
      "  [-0.40246484  0.6730824   0.68278944 ...  0.15472138 -0.2615908\n",
      "    0.7825849 ]]]\n"
     ]
    }
   ],
   "source": [
    "tf.compat.v1.reset_default_graph()\n",
    "\n",
    "n_inputs = 5\n",
    "n_steps = 20\n",
    "n_neurons = 100\n",
    "\n",
    "X = tf.compat.v1.placeholder(tf.float32, shape=[None, n_steps, n_inputs])\n",
    "\n",
    "devices = ['/cpu:0', '/cpu:0', '/cpu:0']\n",
    "cells = [DeviceCellWrapper(dev,tf.compat.v1.nn.rnn_cell.BasicRNNCell(num_units=n_neurons)) for dev in devices]\n",
    "\n",
    "multi_layer_cell = tf.compat.v1.nn.rnn_cell.MultiRNNCell(cells)\n",
    "outputs, states = tf.compat.v1.nn.dynamic_rnn(multi_layer_cell, X, dtype=tf.float32)\n",
    "\n",
    "init = tf.compat.v1.global_variables_initializer()\n",
    "\n",
    "with tf.compat.v1.Session() as sess:\n",
    "    init.run()\n",
    "    print(sess.run(outputs, feed_dict={X: np.random.rand(2, n_steps, n_inputs)}))"
   ]
  },
  {
   "cell_type": "markdown",
   "metadata": {},
   "source": [
    "### Dropout"
   ]
  },
  {
   "cell_type": "code",
   "execution_count": 26,
   "metadata": {
    "ExecuteTime": {
     "end_time": "2021-02-02T11:03:58.964636Z",
     "start_time": "2021-02-02T11:03:28.796557Z"
    }
   },
   "outputs": [
    {
     "name": "stdout",
     "output_type": "stream",
     "text": [
      "0 Training MSE: 18.4021\n",
      "100 Training MSE: 4.9550595\n",
      "200 Training MSE: 4.0437274\n",
      "300 Training MSE: 3.4854348\n",
      "400 Training MSE: 3.5706801\n",
      "500 Training MSE: 3.703458\n",
      "600 Training MSE: 3.7963727\n",
      "700 Training MSE: 3.2222974\n",
      "800 Training MSE: 3.5320468\n",
      "900 Training MSE: 3.281272\n",
      "1000 Training MSE: 3.546964\n",
      "1100 Training MSE: 4.739721\n",
      "1200 Training MSE: 3.359603\n",
      "1300 Training MSE: 4.3955126\n",
      "1400 Training MSE: 3.721893\n"
     ]
    }
   ],
   "source": [
    "tf.compat.v1.reset_default_graph()\n",
    "\n",
    "n_inputs = 1\n",
    "n_neurons = 100\n",
    "n_layers = 3\n",
    "n_steps = 20\n",
    "n_outputs = 1\n",
    "\n",
    "X = tf.compat.v1.placeholder(tf.float32, [None, n_steps, n_inputs])\n",
    "y = tf.compat.v1.placeholder(tf.float32, [None, n_steps, n_outputs])\n",
    "\n",
    "keep_prob = tf.compat.v1.placeholder_with_default(1.0, shape=())\n",
    "\n",
    "cells = [tf.compat.v1.nn.rnn_cell.BasicRNNCell(num_units=n_neurons) for layer in range(n_layers)]\n",
    "cells_drop = [tf.compat.v1.nn.rnn_cell.DropoutWrapper(cell, input_keep_prob=keep_prob) for cell in cells]\n",
    "\n",
    "multi_layer_cell = tf.compat.v1.nn.rnn_cell.MultiRNNCell(cells_drop)\n",
    "rnn_outputs, states = tf.compat.v1.nn.dynamic_rnn(multi_layer_cell, X, dtype=tf.float32)\n",
    "\n",
    "\n",
    "learning_rate = 0.01\n",
    "\n",
    "stacked_rnn_outputs = tf.reshape(rnn_outputs, [-1, n_neurons])\n",
    "stacked_outputs = tf.compat.v1.layers.dense(stacked_rnn_outputs, n_outputs)\n",
    "outputs = tf.reshape(stacked_outputs, [-1, n_steps, n_outputs])\n",
    "\n",
    "loss = tf.reduce_mean(tf.square(outputs - y))\n",
    "optimizer = tf.compat.v1.train.AdamOptimizer(learning_rate=learning_rate)\n",
    "training_op = optimizer.minimize(loss)\n",
    "\n",
    "init = tf.compat.v1.global_variables_initializer()\n",
    "saver = tf.compat.v1.train.Saver()\n",
    "\n",
    "n_iterations = 1500\n",
    "batch_size = 50\n",
    "train_keep_prob = 0.5\n",
    "\n",
    "with tf.compat.v1.Session() as sess:\n",
    "    init.run()\n",
    "    for iteration in range(n_iterations):\n",
    "        X_batch, y_batch = next_batch(batch_size, n_steps)\n",
    "        _, mse = sess.run([training_op, loss], feed_dict={X: X_batch, y: y_batch, keep_prob: train_keep_prob})\n",
    "        if iteration % 100 == 0:\n",
    "            print(iteration, 'Training MSE:', mse)\n",
    "    \n",
    "    saver.save(sess, 'model/my_dropout_time_series_model')"
   ]
  },
  {
   "cell_type": "code",
   "execution_count": 31,
   "metadata": {
    "ExecuteTime": {
     "end_time": "2021-02-02T11:07:17.694940Z",
     "start_time": "2021-02-02T11:07:17.138706Z"
    }
   },
   "outputs": [
    {
     "name": "stdout",
     "output_type": "stream",
     "text": [
      "INFO:tensorflow:Restoring parameters from model/my_dropout_time_series_model\n"
     ]
    },
    {
     "data": {
      "image/png": "[encoded data removed]",
      "text/plain": [
       "<Figure size 432x288 with 1 Axes>"
      ]
     },
     "metadata": {
      "needs_background": "light"
     },
     "output_type": "display_data"
    }
   ],
   "source": [
    "with tf.compat.v1.Session() as sess:\n",
    "    saver.restore(sess, 'model/my_dropout_time_series_model')\n",
    "\n",
    "    X_new = time_series(np.array(t_instance[:-1].reshape(-1, n_steps, n_inputs)))\n",
    "    y_pred = sess.run(outputs, feed_dict={X: X_new})\n",
    "    \n",
    "    \n",
    "plt.title('Testando o modelo', fontsize=14)\n",
    "plt.plot(t_instance[:-1], time_series(t_instance[:-1]), 'bo', markersize=10, label='instância')\n",
    "plt.plot(t_instance[1:], time_series(t_instance[1:]), 'c*', markersize=10, label='alvo')\n",
    "plt.plot(t_instance[1:], y_pred[0,:,0], 'r.', markersize=10, label='predição')\n",
    "plt.legend(loc='upper left')\n",
    "plt.xlabel('Tempo')\n",
    "plt.show()"
   ]
  },
  {
   "cell_type": "markdown",
   "metadata": {},
   "source": [
    "### LSTM"
   ]
  },
  {
   "cell_type": "code",
   "execution_count": 10,
   "metadata": {
    "ExecuteTime": {
     "end_time": "2021-02-03T11:19:42.035487Z",
     "start_time": "2021-02-03T11:10:06.863785Z"
    }
   },
   "outputs": [
    {
     "name": "stdout",
     "output_type": "stream",
     "text": [
      "0 Last batch accuracy: 0.97333336 Test accuracy: 0.9542\n",
      "1 Last batch accuracy: 0.97333336 Test accuracy: 0.9688\n",
      "2 Last batch accuracy: 0.97333336 Test accuracy: 0.9781\n",
      "3 Last batch accuracy: 0.99333334 Test accuracy: 0.9818\n",
      "4 Last batch accuracy: 0.9866667 Test accuracy: 0.9848\n",
      "5 Last batch accuracy: 0.99333334 Test accuracy: 0.9857\n",
      "6 Last batch accuracy: 1.0 Test accuracy: 0.9878\n",
      "7 Last batch accuracy: 1.0 Test accuracy: 0.9862\n",
      "8 Last batch accuracy: 0.99333334 Test accuracy: 0.9873\n",
      "9 Last batch accuracy: 1.0 Test accuracy: 0.9875\n"
     ]
    }
   ],
   "source": [
    "tf.compat.v1.reset_default_graph()\n",
    "\n",
    "n_steps = 28\n",
    "n_inputs = 28\n",
    "n_neurons = 150\n",
    "n_outputs = 10\n",
    "n_layers = 3\n",
    "\n",
    "learning_rate = 0.001\n",
    "\n",
    "X = tf.compat.v1.placeholder(tf.float32, [None, n_steps, n_inputs])\n",
    "y = tf.compat.v1.placeholder(tf.int32, [None])\n",
    "\n",
    "lstm_cells = [tf.compat.v1.nn.rnn_cell.BasicLSTMCell(num_units=n_neurons) for layer in range(n_layers)]\n",
    "multi_cell = tf.compat.v1.nn.rnn_cell.MultiRNNCell(lstm_cells)\n",
    "\n",
    "outputs, states = tf.compat.v1.nn.dynamic_rnn(multi_cell, X, dtype=tf.float32)\n",
    "top_layer_h_state = states[-1][1]\n",
    "\n",
    "logits = tf.compat.v1.layers.dense(top_layer_h_state, n_outputs, name='softmax')\n",
    "xentropy = tf.compat.v1.nn.sparse_softmax_cross_entropy_with_logits(labels=y, logits=logits)\n",
    "loss = tf.reduce_mean(xentropy, name='loss')\n",
    "\n",
    "optimizer = tf.compat.v1.train.AdamOptimizer(learning_rate=learning_rate)\n",
    "training_op = optimizer.minimize(loss)\n",
    "\n",
    "correct = tf.compat.v1.nn.in_top_k(logits, y, 1)\n",
    "accuracy = tf.reduce_mean(tf.cast(correct, tf.float32))\n",
    "    \n",
    "init = tf.compat.v1.global_variables_initializer()\n",
    "\n",
    "n_epochs = 10\n",
    "batch_size = 150\n",
    "\n",
    "with tf.compat.v1.Session() as sess:\n",
    "    init.run()\n",
    "    for epoch in range(n_epochs):\n",
    "        for X_batch, y_batch in shuffle_batch(X_train, y_train, batch_size):\n",
    "            X_batch = X_batch.reshape((-1, n_steps, n_inputs))\n",
    "            sess.run(training_op, feed_dict={X: X_batch, y: y_batch})\n",
    "        acc_batch = accuracy.eval(feed_dict={X: X_batch, y: y_batch})\n",
    "        acc_test = accuracy.eval(feed_dict={X: X_test, y: y_test})\n",
    "        print(epoch, 'Last batch accuracy:', acc_batch, 'Test accuracy:', acc_test)"
   ]
  },
  {
   "cell_type": "markdown",
   "metadata": {},
   "source": [
    "### Embeddings"
   ]
  },
  {
   "cell_type": "markdown",
   "metadata": {},
   "source": [
    "#### Busque os dados"
   ]
  },
  {
   "cell_type": "code",
   "execution_count": 3,
   "metadata": {
    "ExecuteTime": {
     "end_time": "2021-02-04T10:04:33.649259Z",
     "start_time": "2021-02-04T10:04:33.638865Z"
    }
   },
   "outputs": [],
   "source": [
    "from six.moves import urllib\n",
    "import errno\n",
    "import os\n",
    "import zipfile\n",
    "\n",
    "WORDS_PATH = 'datasets/words'\n",
    "WORDS_URL = 'http://mattmahoney.net/dc/text8.zip'\n",
    "\n",
    "def mkdir_p(path):\n",
    "    try:\n",
    "        os.makedirs(path)\n",
    "    except OSError as exc:\n",
    "        if exc.errno == errno.EEXIST and os.path.isdir(path):\n",
    "            pass\n",
    "        else:\n",
    "            raise\n",
    "\n",
    "\n",
    "def fetch_words_data(words_url=WORDS_URL, words_path=WORDS_PATH):\n",
    "    os.makedirs(words_path, exist_ok=True)\n",
    "    zip_path = os.path.join(words_path, 'words.zip')\n",
    "    if not os.path.exists(zip_path):\n",
    "        urllib.request.urlretrieve(words_url, zip_path)\n",
    "    with zipfile.ZipFile(zip_path) as f:\n",
    "        data = f.read(f.namelist()[0])\n",
    "    return data.decode('ascii').split()"
   ]
  },
  {
   "cell_type": "code",
   "execution_count": 4,
   "metadata": {
    "ExecuteTime": {
     "end_time": "2021-02-04T10:11:37.422273Z",
     "start_time": "2021-02-04T10:04:50.338399Z"
    }
   },
   "outputs": [
    {
     "data": {
      "text/plain": [
       "['anarchism', 'originated', 'as', 'a', 'term']"
      ]
     },
     "execution_count": 4,
     "metadata": {},
     "output_type": "execute_result"
    }
   ],
   "source": [
    "words = fetch_words_data()\n",
    "words[:5]"
   ]
  },
  {
   "cell_type": "markdown",
   "metadata": {},
   "source": [
    "#### Construa o dicionário"
   ]
  },
  {
   "cell_type": "code",
   "execution_count": 6,
   "metadata": {
    "ExecuteTime": {
     "end_time": "2021-02-04T10:14:40.920399Z",
     "start_time": "2021-02-04T10:14:28.537334Z"
    }
   },
   "outputs": [],
   "source": [
    "from collections import Counter\n",
    "\n",
    "vocabulary_size = 50000\n",
    "\n",
    "vocabulary = [('UNK', None)] + Counter(words).most_common(vocabulary_size - 1)\n",
    "vocabulary = np.array([word for word, _ in vocabulary])\n",
    "dictionary = {word: code for code, word in enumerate(vocabulary)}\n",
    "data = np.array([dictionary.get(word, 0) for word in words])"
   ]
  },
  {
   "cell_type": "code",
   "execution_count": 7,
   "metadata": {
    "ExecuteTime": {
     "end_time": "2021-02-04T10:14:47.253926Z",
     "start_time": "2021-02-04T10:14:47.240982Z"
    }
   },
   "outputs": [
    {
     "data": {
      "text/plain": [
       "('anarchism originated as a term of abuse first used',\n",
       " array([5234, 3081,   12,    6,  195,    2, 3134,   46,   59]))"
      ]
     },
     "execution_count": 7,
     "metadata": {},
     "output_type": "execute_result"
    }
   ],
   "source": [
    "' '.join(words[:9]), data[:9]"
   ]
  },
  {
   "cell_type": "code",
   "execution_count": 8,
   "metadata": {
    "ExecuteTime": {
     "end_time": "2021-02-04T10:14:52.315352Z",
     "start_time": "2021-02-04T10:14:52.302034Z"
    }
   },
   "outputs": [
    {
     "data": {
      "text/plain": [
       "'cycles originated as a term of abuse first used'"
      ]
     },
     "execution_count": 8,
     "metadata": {},
     "output_type": "execute_result"
    }
   ],
   "source": [
    "\" \".join([vocabulary[word_index] for word_index in [5241, 3081, 12, 6, 195, 2, 3134, 46, 59]])"
   ]
  },
  {
   "cell_type": "code",
   "execution_count": 9,
   "metadata": {
    "ExecuteTime": {
     "end_time": "2021-02-04T10:14:57.381472Z",
     "start_time": "2021-02-04T10:14:57.373486Z"
    }
   },
   "outputs": [
    {
     "data": {
      "text/plain": [
       "('culottes', 0)"
      ]
     },
     "execution_count": 9,
     "metadata": {},
     "output_type": "execute_result"
    }
   ],
   "source": [
    "words[24], data[24]"
   ]
  },
  {
   "cell_type": "markdown",
   "metadata": {},
   "source": [
    "#### Gere lotes"
   ]
  },
  {
   "cell_type": "code",
   "execution_count": 10,
   "metadata": {
    "ExecuteTime": {
     "end_time": "2021-02-04T10:15:02.626380Z",
     "start_time": "2021-02-04T10:15:02.570723Z"
    }
   },
   "outputs": [],
   "source": [
    "from collections import deque\n",
    "\n",
    "def generate_batch(batch_size, num_skips, skip_window):\n",
    "    global data_index\n",
    "    assert batch_size % num_skips == 0\n",
    "    assert num_skips <= 2 * skip_window\n",
    "    batch = np.ndarray(shape=[batch_size], dtype=np.int32)\n",
    "    labels = np.ndarray(shape=[batch_size, 1], dtype=np.int32)\n",
    "    span = 2 * skip_window + 1\n",
    "    buffer = deque(maxlen=span)\n",
    "    for _ in range(span):\n",
    "        buffer.append(data[data_index])\n",
    "        data_index = (data_index + 1) % len(data)\n",
    "    for i in range(batch_size // num_skips):\n",
    "        target = skip_window\n",
    "        targets_to_avoid = [ skip_window ]\n",
    "        for j in range(num_skips):\n",
    "            while target in targets_to_avoid:\n",
    "                target = np.random.randint(0, span)\n",
    "            targets_to_avoid.append(target)\n",
    "            batch[i * num_skips + j] = buffer[skip_window]\n",
    "            labels[i * num_skips + j, 0] = buffer[target]\n",
    "        buffer.append(data[data_index])\n",
    "        data_index = (data_index + 1) % len(data)\n",
    "    return batch, labels\n",
    "\n",
    "\n",
    "np.random.seed(42)\n",
    "data_index = 0\n",
    "batch, labels = generate_batch(8, 2, 1)"
   ]
  },
  {
   "cell_type": "code",
   "execution_count": 11,
   "metadata": {
    "ExecuteTime": {
     "end_time": "2021-02-04T10:15:07.770553Z",
     "start_time": "2021-02-04T10:15:07.763271Z"
    }
   },
   "outputs": [
    {
     "data": {
      "text/plain": [
       "(array([3081, 3081,   12,   12,    6,    6,  195,  195], dtype=int32),\n",
       " ['originated', 'originated', 'as', 'as', 'a', 'a', 'term', 'term'])"
      ]
     },
     "execution_count": 11,
     "metadata": {},
     "output_type": "execute_result"
    }
   ],
   "source": [
    "batch, [vocabulary[word] for word in batch]"
   ]
  },
  {
   "cell_type": "code",
   "execution_count": 12,
   "metadata": {
    "ExecuteTime": {
     "end_time": "2021-02-04T10:15:12.861705Z",
     "start_time": "2021-02-04T10:15:12.854727Z"
    }
   },
   "outputs": [
    {
     "data": {
      "text/plain": [
       "(array([[  12],\n",
       "        [5234],\n",
       "        [   6],\n",
       "        [3081],\n",
       "        [  12],\n",
       "        [ 195],\n",
       "        [   2],\n",
       "        [   6]], dtype=int32),\n",
       " ['as', 'anarchism', 'a', 'originated', 'as', 'term', 'of', 'a'])"
      ]
     },
     "execution_count": 12,
     "metadata": {},
     "output_type": "execute_result"
    }
   ],
   "source": [
    "labels, [vocabulary[word] for word in labels[:, 0]]"
   ]
  },
  {
   "cell_type": "markdown",
   "metadata": {},
   "source": [
    "#### Construa o modelo"
   ]
  },
  {
   "cell_type": "code",
   "execution_count": 14,
   "metadata": {
    "ExecuteTime": {
     "end_time": "2021-02-04T10:17:23.390924Z",
     "start_time": "2021-02-04T10:17:22.119360Z"
    }
   },
   "outputs": [],
   "source": [
    "batch_size = 128\n",
    "embedding_size = 128\n",
    "skip_window = 1\n",
    "num_skips = 2\n",
    "valid_size = 16\n",
    "valid_window = 100\n",
    "valid_examples = np.random.choice(valid_window, valid_size, replace=False)\n",
    "num_sampled = 64\n",
    "learning_rate = 0.01\n",
    "\n",
    "tf.compat.v1.reset_default_graph()\n",
    "\n",
    "\n",
    "train_labels = tf.compat.v1.placeholder(tf.int32, shape=[batch_size, 1])\n",
    "valid_dataset = tf.constant(valid_examples, dtype=tf.int32)\n",
    "\n",
    "vocabulary_size = 50000\n",
    "embedding_size = 150\n",
    "\n",
    "init_embeds = tf.compat.v1.random_uniform([vocabulary_size, embedding_size], -1.0, 1.0)\n",
    "embeddings = tf.Variable(init_embeds)\n",
    "\n",
    "train_inputs = tf.compat.v1.placeholder(tf.int32, shape=[None])\n",
    "embed = tf.compat.v1.nn.embedding_lookup(embeddings, train_inputs)\n",
    "\n",
    "nce_weights = tf.Variable(tf.compat.v1.truncated_normal([vocabulary_size, embedding_size], stddev=1.0 / np.sqrt(embedding_size)))\n",
    "nce_biases = tf.Variable(tf.zeros([vocabulary_size]))\n",
    "\n",
    "loss = tf.reduce_mean(tf.compat.v1.nn.nce_loss(nce_weights, nce_biases, train_labels, embed, num_sampled, vocabulary_size))\n",
    "\n",
    "optimizer = tf.compat.v1.train.AdamOptimizer(learning_rate)\n",
    "training_op = optimizer.minimize(loss)\n",
    "\n",
    "norm = tf.compat.v1.sqrt(tf.reduce_sum(tf.square(embeddings), axis=1, keepdims=True))\n",
    "normalized_embeddings = embeddings / norm\n",
    "valid_embeddings = tf.compat.v1.nn.embedding_lookup(normalized_embeddings, valid_dataset)\n",
    "similarity = tf.matmul(valid_embeddings, normalized_embeddings, transpose_b=True)\n",
    "\n",
    "init = tf.compat.v1.global_variables_initializer()"
   ]
  },
  {
   "cell_type": "markdown",
   "metadata": {},
   "source": [
    "#### Treine o modelo"
   ]
  },
  {
   "cell_type": "code",
   "execution_count": 15,
   "metadata": {
    "ExecuteTime": {
     "end_time": "2021-02-04T10:35:11.720920Z",
     "start_time": "2021-02-04T10:19:17.239644Z"
    }
   },
   "outputs": [
    {
     "name": "stdout",
     "output_type": "stream",
     "text": [
      "Iteration: 0\tAverage loss at step  0 :  279.81097412109375\n",
      "Nearest to often: chew, hatches, awarded, humanae, munich, documentary, sharpe, beale,\n",
      "Nearest to s: mitigated, carolina, devastation, seamless, tenji, orientational, chromosomal, privileged,\n",
      "Nearest to his: jalal, discworld, hijacked, designer, betrayed, gallbladder, uat, twenties,\n",
      "Nearest to three: quarters, executioner, applauded, blaine, openbsd, lowell, catalonia, divergences,\n",
      "Nearest to years: vil, march, vicinity, adjudication, publicize, cassius, strathclyde, eduard,\n",
      "Nearest to united: fetching, sayyaf, lima, archons, saumur, admirable, goldfish, outlets,\n",
      "Nearest to may: rapcore, dendrites, showcased, monoamine, cohorts, heinkel, playoff, iai,\n",
      "Nearest to some: nec, solids, claudine, sparing, preserve, patience, westinghouse, parting,\n",
      "Nearest to that: colonised, deceive, black, bing, kinsmen, upgrading, anhalt, asquith,\n",
      "Nearest to its: helped, spiny, concepci, deutscher, buick, tuba, formidable, sgi,\n",
      "Nearest to these: flooding, massachusetts, doublet, skeletons, disagreement, tailback, turtledove, transl,\n",
      "Nearest to people: painterly, characterises, yat, signification, duopoly, duddy, wants, croats,\n",
      "Nearest to been: trichomes, hur, nominee, rehearsal, partner, cups, cleanup, gepids,\n",
      "Nearest to between: loudness, appleseed, offs, optimize, marl, hp, swampy, substrates,\n",
      "Nearest to will: toolkits, gillian, epicurean, disoriented, munster, drunkenness, mitigation, dhamma,\n",
      "Nearest to also: melanesia, maryland, correlated, archons, yom, numbered, addition, ninhursag,\n",
      "Iteration: 2000\tAverage loss at step  2000 :  131.25713835334778\n",
      "Iteration: 4000\tAverage loss at step  4000 :  62.98237965631485\n",
      "Iteration: 6000\tAverage loss at step  6000 :  41.620014220237735\n",
      "Iteration: 8000\tAverage loss at step  8000 :  30.98470211648941\n",
      "Iteration: 10000\tAverage loss at step  10000 :  25.65026391005516\n",
      "Nearest to often: gathered, sparing, setter, aziz, antisymmetric, lenoir, wines, reflectance,\n",
      "Nearest to s: and, the, zero, four, ik, recall, arif, of,\n",
      "Nearest to his: the, zf, gravitation, fabian, delegates, tillich, hephaestus, paradox,\n",
      "Nearest to three: two, zero, one, four, eight, five, nine, six,\n",
      "Nearest to years: terrace, four, decades, urchin, craters, two, messagepad, howard,\n",
      "Nearest to united: u, empiricist, state, nationale, actinium, tr, confiscated, guyana,\n",
      "Nearest to may: is, markov, americana, habit, overseas, benny, boeing, granular,\n",
      "Nearest to some: zeros, aalborg, acupuncture, ankh, electrolysis, cook, imprisonment, nuclei,\n",
      "Nearest to that: actinium, this, aruba, which, flex, tarkovsky, and, kano,\n",
      "Nearest to its: the, mileva, alarms, copenhagen, nen, seq, facilities, cahiers,\n",
      "Nearest to these: rebuked, aryans, ambient, condoms, are, skeleton, argon, antigua,\n",
      "Nearest to people: lindsay, bellows, cola, chadic, actinium, mouthwash, qutb, legality,\n",
      "Nearest to been: conformation, grass, aegean, alarms, have, sampras, pus, candidiasis,\n",
      "Nearest to between: adobe, quests, hephaestion, slovene, deuterostomes, upheld, ataxia, nine,\n",
      "Nearest to will: can, clarendon, reciprocating, centered, if, clothing, bohemia, markov,\n",
      "Nearest to also: a, and, baku, palestine, who, asparagus, aalborg, sometimes,\n"
     ]
    }
   ],
   "source": [
    "num_steps = 10001\n",
    "\n",
    "with tf.compat.v1.Session() as session:\n",
    "    init.run()\n",
    "    average_loss = 0\n",
    "    \n",
    "    for step in range(num_steps):\n",
    "        print('\\rIteration: {}'.format(step), end='\\t')\n",
    "        batch_inputs, batch_labels = generate_batch(batch_size, num_skips, skip_window)\n",
    "        feed_dict = {train_inputs : batch_inputs, train_labels : batch_labels}\n",
    "\n",
    "        _, loss_val = session.run([training_op, loss], feed_dict=feed_dict)\n",
    "        average_loss += loss_val\n",
    "\n",
    "        if step % 2000 == 0:\n",
    "            if step > 0:\n",
    "                average_loss /= 2000\n",
    "            print('Average loss at step ', step, ': ', average_loss)\n",
    "            average_loss = 0\n",
    "\n",
    "        if step % 10000 == 0:\n",
    "            sim = similarity.eval()\n",
    "            for i in range(valid_size):\n",
    "                valid_word = vocabulary[valid_examples[i]]\n",
    "                top_k = 8\n",
    "                nearest = (-sim[i, :]).argsort()[1:top_k+1]\n",
    "                log_str = 'Nearest to %s:' % valid_word\n",
    "                for k in range(top_k):\n",
    "                    close_word = vocabulary[nearest[k]]\n",
    "                    log_str = '%s %s,' % (log_str, close_word)\n",
    "                print(log_str)\n",
    "\n",
    "    final_embeddings = normalized_embeddings.eval()"
   ]
  },
  {
   "cell_type": "markdown",
   "metadata": {},
   "source": [
    "#### Salve o modelo"
   ]
  },
  {
   "cell_type": "code",
   "execution_count": 16,
   "metadata": {
    "ExecuteTime": {
     "end_time": "2021-02-04T10:35:18.494130Z",
     "start_time": "2021-02-04T10:35:18.296359Z"
    }
   },
   "outputs": [],
   "source": [
    "np.save('model/my_final_embeddings.npy', final_embeddings)"
   ]
  },
  {
   "cell_type": "markdown",
   "metadata": {},
   "source": [
    "#### Plote os embeddings"
   ]
  },
  {
   "cell_type": "code",
   "execution_count": 22,
   "metadata": {
    "ExecuteTime": {
     "end_time": "2021-02-04T10:40:13.099883Z",
     "start_time": "2021-02-04T10:40:10.667273Z"
    }
   },
   "outputs": [
    {
     "data": {
      "image/png": "[encoded data removed]",
      "text/plain": [
       "<Figure size 432x288 with 1 Axes>"
      ]
     },
     "metadata": {
      "needs_background": "light"
     },
     "output_type": "display_data"
    }
   ],
   "source": [
    "from sklearn.manifold import TSNE\n",
    "\n",
    "def plot_with_labels(low_dim_embs, labels):\n",
    "    assert low_dim_embs.shape[0] >= len(labels), plt.figure(figsize=(25, 18))\n",
    "    for i, label in enumerate(labels):\n",
    "        x, y = low_dim_embs[i,:]\n",
    "        plt.scatter(x, y)\n",
    "        plt.annotate(label, xy=(x, y), xytext=(5, 2), textcoords='offset points', ha='right', va='bottom')\n",
    "        \n",
    "\n",
    "tsne = TSNE(perplexity=30, n_components=2, init='pca', n_iter=5000)\n",
    "plot_only = 50\n",
    "low_dim_embs = tsne.fit_transform(final_embeddings[:plot_only,:])\n",
    "labels = [vocabulary[i] for i in range(plot_only)]\n",
    "plot_with_labels(low_dim_embs, labels)"
   ]
  },
  {
   "cell_type": "markdown",
   "metadata": {},
   "source": [
    "### Exercícios do capítulo"
   ]
  },
  {
   "cell_type": "markdown",
   "metadata": {},
   "source": [
    "*7*\n",
    "\n",
    "Exercício: Gramáticas Reber incorporadas"
   ]
  },
  {
   "cell_type": "markdown",
   "metadata": {},
   "source": [
    "#### Gera strings que respeitam a gramática"
   ]
  },
  {
   "cell_type": "code",
   "execution_count": 3,
   "metadata": {
    "ExecuteTime": {
     "end_time": "2021-02-07T12:17:40.407877Z",
     "start_time": "2021-02-07T12:17:40.259881Z"
    }
   },
   "outputs": [],
   "source": [
    "np.random.seed(42)\n",
    "\n",
    "default_reber_grammar = [\n",
    "    [(\"B\", 1)],\n",
    "    [(\"T\", 2), (\"P\", 3)],\n",
    "    [(\"S\", 2), (\"X\", 4)],\n",
    "    [(\"T\", 3), (\"V\", 5)],\n",
    "    [(\"X\", 3), (\"S\", 6)],\n",
    "    [(\"P\", 4), (\"V\", 6)],\n",
    "    [(\"E\", None)]]\n",
    "\n",
    "embedded_reber_grammar = [\n",
    "    [(\"B\", 1)],\n",
    "    [(\"T\", 2), (\"P\", 3)],\n",
    "    [(default_reber_grammar, 4)],\n",
    "    [(default_reber_grammar, 5)],\n",
    "    [(\"T\", 6)],\n",
    "    [(\"P\", 6)],\n",
    "    [(\"E\", None)]]\n",
    "\n",
    "def generate_string(grammar):\n",
    "    state = 0\n",
    "    output = []\n",
    "    while state is not None:\n",
    "        index = np.random.randint(len(grammar[state]))\n",
    "        production, state = grammar[state][index]\n",
    "        if isinstance(production, list):\n",
    "            production = generate_string(grammar=production)\n",
    "        output.append(production)\n",
    "    return ''.join(output)"
   ]
  },
  {
   "cell_type": "code",
   "execution_count": 4,
   "metadata": {
    "ExecuteTime": {
     "end_time": "2021-02-07T12:17:40.519678Z",
     "start_time": "2021-02-07T12:17:40.425212Z"
    }
   },
   "outputs": [
    {
     "name": "stdout",
     "output_type": "stream",
     "text": [
      "BTXXTTVPXTVPXTTVPSE BPVPSE BTXSE BPVVE BPVVE BTSXSE BPTVPXTTTVVE BPVVE BTXSE BTXXVPSE BPTTTTTTTTVVE BTXSE BPVPSE BTXSE BPTVPSE BTXXTVPSE BPVVE BPVVE BPVVE BPTTVVE BPVVE BPVVE BTXXVVE BTXXVVE BTXXVPXVVE "
     ]
    }
   ],
   "source": [
    "for _ in range(25):\n",
    "    print(generate_string(default_reber_grammar), end=' ')"
   ]
  },
  {
   "cell_type": "code",
   "execution_count": 5,
   "metadata": {
    "ExecuteTime": {
     "end_time": "2021-02-07T12:17:40.673585Z",
     "start_time": "2021-02-07T12:17:40.539524Z"
    }
   },
   "outputs": [
    {
     "name": "stdout",
     "output_type": "stream",
     "text": [
      "BTBPVVETE BTBTSSSSSSSXXVVETE BPBTSSSXXTTTTVPSEPE BTBPTTVVETE BPBTXXTVVEPE BTBTXSETE BPBTSSSSSXXTTVPXVPXTTTVVEPE BPBTSSXXTVPSEPE BPBPTTTTTTTVPSEPE BTBTSXSETE BPBPTVPXVVEPE BPBPVVEPE BPBPTVVEPE BTBPTTVPXTTVPSETE BTBTSSXSETE BTBTXXTTVVETE BPBTSXSEPE BPBPTVPSEPE BTBPVVETE BPBTXXTTTVPXTVVEPE BPBPTTVPXTVVEPE BTBPVVETE BPBPTVPXVPXTVVEPE BTBPVVETE BPBTSXSEPE "
     ]
    }
   ],
   "source": [
    "for _ in range(25):\n",
    "    print(generate_string(embedded_reber_grammar), end=' ')"
   ]
  },
  {
   "cell_type": "markdown",
   "metadata": {},
   "source": [
    "#### Gera strings que não respeitam a gramática"
   ]
  },
  {
   "cell_type": "code",
   "execution_count": 6,
   "metadata": {
    "ExecuteTime": {
     "end_time": "2021-02-07T12:17:40.779235Z",
     "start_time": "2021-02-07T12:17:40.692421Z"
    }
   },
   "outputs": [],
   "source": [
    "def generate_corrupted_string(grammar, chars='BEPSTVX'):\n",
    "    good_string = generate_string(grammar)\n",
    "    index = np.random.randint(len(good_string))\n",
    "    good_char = good_string[index]\n",
    "    bad_char = np.random.choice(sorted(set(chars) - set(good_char)))\n",
    "    return good_string[:index] + bad_char + good_string[index + 1:]"
   ]
  },
  {
   "cell_type": "code",
   "execution_count": 7,
   "metadata": {
    "ExecuteTime": {
     "end_time": "2021-02-07T12:17:40.928733Z",
     "start_time": "2021-02-07T12:17:40.794822Z"
    }
   },
   "outputs": [
    {
     "name": "stdout",
     "output_type": "stream",
     "text": [
      "BTTTXXVVETE BPBTXXSPXTVVEPE BTBTXSPTE BPTTSXXTVPXVVEPE PPBPVPSEPE BTBPTVETE BPTTSSSSSXSEPE BPBSVPSEPE BTBPVVESE BPBTXSEPS BEBTXSETE XPBTXXTVPSEPE BTBPVVEPE BTXPTVVETE BTBPVXETE BVBTXSETE BPTTXXVPXVPSEPE BTBPXVPSETE STBPTTVPXVPXTVPSETE BPBPTVPSESE BPBPVEEPE ETBTXSETE BTBTXSVTE BPBTXXVPSEPP BTBTXXVPSETS "
     ]
    }
   ],
   "source": [
    "\n",
    "for _ in range(25):\n",
    "    print(generate_corrupted_string(embedded_reber_grammar), end=' ')"
   ]
  },
  {
   "cell_type": "markdown",
   "metadata": {},
   "source": [
    "#### Converte em uma sequência de vetores"
   ]
  },
  {
   "cell_type": "code",
   "execution_count": 8,
   "metadata": {
    "ExecuteTime": {
     "end_time": "2021-02-07T12:17:41.056989Z",
     "start_time": "2021-02-07T12:17:40.944895Z"
    }
   },
   "outputs": [
    {
     "data": {
      "text/plain": [
       "array([[1, 0, 0, 0, 0, 0, 0],\n",
       "       [0, 0, 0, 0, 1, 0, 0],\n",
       "       [1, 0, 0, 0, 0, 0, 0],\n",
       "       [0, 0, 0, 0, 1, 0, 0],\n",
       "       [0, 0, 0, 0, 0, 0, 1],\n",
       "       [0, 0, 0, 1, 0, 0, 0],\n",
       "       [0, 1, 0, 0, 0, 0, 0],\n",
       "       [0, 0, 0, 0, 1, 0, 0],\n",
       "       [0, 1, 0, 0, 0, 0, 0],\n",
       "       [0, 0, 0, 0, 0, 0, 0],\n",
       "       [0, 0, 0, 0, 0, 0, 0],\n",
       "       [0, 0, 0, 0, 0, 0, 0]], dtype=int32)"
      ]
     },
     "execution_count": 8,
     "metadata": {},
     "output_type": "execute_result"
    }
   ],
   "source": [
    "def string_to_one_hot_vectors(string, n_steps, chars='BEPSTVX'):\n",
    "    char_to_index = {char: index for index, char in enumerate(chars)}\n",
    "    output = np.zeros((n_steps, len(chars)), dtype=np.int32)\n",
    "    for index, char in enumerate(string):\n",
    "        output[index, char_to_index[char]] = 1.\n",
    "    return output\n",
    "\n",
    "string_to_one_hot_vectors(\"BTBTXSETE\", 12)"
   ]
  },
  {
   "cell_type": "markdown",
   "metadata": {},
   "source": [
    "#### Gera o conjunto de dados com 50% de strings boas e 50% de strings ruins"
   ]
  },
  {
   "cell_type": "code",
   "execution_count": 9,
   "metadata": {
    "ExecuteTime": {
     "end_time": "2021-02-07T12:17:42.403945Z",
     "start_time": "2021-02-07T12:17:41.075390Z"
    }
   },
   "outputs": [],
   "source": [
    "def generate_dataset(size):\n",
    "    good_strings = [generate_string(embedded_reber_grammar) for _ in range(size // 2)]\n",
    "    bad_strings = [generate_corrupted_string(embedded_reber_grammar) for _ in range(size - size // 2)]\n",
    "    all_strings = good_strings + bad_strings\n",
    "    \n",
    "    n_steps = max([len(string) for string in all_strings])\n",
    "    \n",
    "    X = np.array([string_to_one_hot_vectors(string, n_steps) for string in all_strings])\n",
    "    seq_length = np.array([len(string) for string in all_strings])\n",
    "    \n",
    "    y = np.array([[1] for _ in range(len(good_strings))] + [[0] for _ in range(len(bad_strings))])\n",
    "    rnd_idx = np.random.permutation(size)\n",
    "    return X[rnd_idx], seq_length[rnd_idx], y[rnd_idx]\n",
    "\n",
    "X_train, l_train, y_train = generate_dataset(10000)"
   ]
  },
  {
   "cell_type": "markdown",
   "metadata": {},
   "source": [
    "#### Cria a RNN"
   ]
  },
  {
   "cell_type": "code",
   "execution_count": 11,
   "metadata": {
    "ExecuteTime": {
     "end_time": "2021-02-07T12:22:08.606284Z",
     "start_time": "2021-02-07T12:22:08.060692Z"
    }
   },
   "outputs": [],
   "source": [
    "tf.compat.v1.reset_default_graph()\n",
    "\n",
    "possible_chars = 'BEPSTVX'\n",
    "n_inputs = len(possible_chars)\n",
    "n_neurons = 30\n",
    "n_outputs = 1\n",
    "\n",
    "learning_rate = 0.02\n",
    "momentum = 0.95\n",
    "\n",
    "X = tf.compat.v1.placeholder(tf.float32, [None, None, n_inputs], name='X')\n",
    "seq_length = tf.compat.v1.placeholder(tf.int32, [None], name='seq_length')\n",
    "y = tf.compat.v1.placeholder(tf.float32, [None, 1], name='y')\n",
    "\n",
    "gru_cell = tf.compat.v1.nn.rnn_cell.GRUCell(num_units=n_neurons)\n",
    "outputs, states = tf.compat.v1.nn.dynamic_rnn(gru_cell, X, dtype=tf.float32, sequence_length=seq_length)\n",
    "\n",
    "logits = tf.compat.v1.layers.dense(states, n_outputs, name='logits')\n",
    "y_pred = tf.cast(tf.greater(logits, 0.), tf.float32, name='y_pred')\n",
    "y_proba = tf.compat.v1.nn.sigmoid(logits, name='y_proba')\n",
    "\n",
    "xentropy = tf.compat.v1.nn.sigmoid_cross_entropy_with_logits(labels=y, logits=logits)\n",
    "loss = tf.reduce_mean(xentropy, name='loss')\n",
    "optimizer = tf.compat.v1.train.MomentumOptimizer(learning_rate=learning_rate, momentum=momentum, use_nesterov=True)\n",
    "training_op = optimizer.minimize(loss)\n",
    "\n",
    "correct = tf.equal(y_pred, y, name='correct')\n",
    "accuracy = tf.reduce_mean(tf.cast(correct, tf.float32), name='accuracy')\n",
    "\n",
    "init = tf.compat.v1.global_variables_initializer()\n",
    "saver = tf.compat.v1.train.Saver()"
   ]
  },
  {
   "cell_type": "code",
   "execution_count": 12,
   "metadata": {
    "ExecuteTime": {
     "end_time": "2021-02-07T12:27:40.162979Z",
     "start_time": "2021-02-07T12:25:08.564013Z"
    }
   },
   "outputs": [
    {
     "name": "stdout",
     "output_type": "stream",
     "text": [
      "   0  Train loss: 0.6667, accuracy: 68.00%  Validation accuracy: 61.52%\n",
      "   1  Train loss: 0.6514, accuracy: 72.00%  Validation accuracy: 61.36%\n",
      "   2  Train loss: 0.5895, accuracy: 78.00%  Validation accuracy: 74.70%\n",
      "   3  Train loss: 0.4444, accuracy: 84.00%  Validation accuracy: 80.38%\n",
      "   4  Train loss: 0.4608, accuracy: 84.00%  Validation accuracy: 82.34%\n",
      "   5  Train loss: 0.3261, accuracy: 88.00%  Validation accuracy: 86.80%\n",
      "   6  Train loss: 0.2872, accuracy: 64.00%  Validation accuracy: 60.48%\n",
      "   7  Train loss: 0.1410, accuracy: 100.00%  Validation accuracy: 95.16%\n",
      "   8  Train loss: 0.0688, accuracy: 100.00%  Validation accuracy: 96.24%\n",
      "   9  Train loss: 0.1132, accuracy: 100.00%  Validation accuracy: 98.46%\n",
      "  10  Train loss: 0.0411, accuracy: 100.00%  Validation accuracy: 99.18%\n",
      "  11  Train loss: 0.0235, accuracy: 100.00%  Validation accuracy: 99.38%\n",
      "  12  Train loss: 0.0130, accuracy: 100.00%  Validation accuracy: 98.90%\n",
      "  13  Train loss: 0.0174, accuracy: 100.00%  Validation accuracy: 99.44%\n",
      "  14  Train loss: 0.1110, accuracy: 100.00%  Validation accuracy: 99.04%\n",
      "  15  Train loss: 0.0365, accuracy: 98.00%  Validation accuracy: 98.26%\n",
      "  16  Train loss: 0.0073, accuracy: 100.00%  Validation accuracy: 99.62%\n",
      "  17  Train loss: 0.0063, accuracy: 100.00%  Validation accuracy: 99.18%\n",
      "  18  Train loss: 0.0153, accuracy: 100.00%  Validation accuracy: 99.20%\n",
      "  19  Train loss: 0.0077, accuracy: 100.00%  Validation accuracy: 99.44%\n",
      "  20  Train loss: 0.0057, accuracy: 100.00%  Validation accuracy: 99.96%\n",
      "  21  Train loss: 0.0030, accuracy: 100.00%  Validation accuracy: 99.64%\n",
      "  22  Train loss: 0.0019, accuracy: 100.00%  Validation accuracy: 99.92%\n",
      "  23  Train loss: 0.2048, accuracy: 98.00%  Validation accuracy: 97.54%\n",
      "  24  Train loss: 0.0159, accuracy: 100.00%  Validation accuracy: 99.90%\n",
      "  25  Train loss: 0.0018, accuracy: 100.00%  Validation accuracy: 99.98%\n",
      "  26  Train loss: 0.0015, accuracy: 100.00%  Validation accuracy: 100.00%\n",
      "  27  Train loss: 0.0012, accuracy: 100.00%  Validation accuracy: 100.00%\n",
      "  28  Train loss: 0.0011, accuracy: 100.00%  Validation accuracy: 100.00%\n",
      "  29  Train loss: 0.0009, accuracy: 100.00%  Validation accuracy: 100.00%\n",
      "  30  Train loss: 0.0008, accuracy: 100.00%  Validation accuracy: 100.00%\n",
      "  31  Train loss: 0.0007, accuracy: 100.00%  Validation accuracy: 100.00%\n",
      "  32  Train loss: 0.0007, accuracy: 100.00%  Validation accuracy: 100.00%\n",
      "  33  Train loss: 0.0006, accuracy: 100.00%  Validation accuracy: 100.00%\n",
      "  34  Train loss: 0.0006, accuracy: 100.00%  Validation accuracy: 100.00%\n",
      "  35  Train loss: 0.0005, accuracy: 100.00%  Validation accuracy: 100.00%\n",
      "  36  Train loss: 0.0005, accuracy: 100.00%  Validation accuracy: 100.00%\n",
      "  37  Train loss: 0.0005, accuracy: 100.00%  Validation accuracy: 100.00%\n",
      "  38  Train loss: 0.0004, accuracy: 100.00%  Validation accuracy: 100.00%\n",
      "  39  Train loss: 0.0004, accuracy: 100.00%  Validation accuracy: 100.00%\n",
      "  40  Train loss: 0.0004, accuracy: 100.00%  Validation accuracy: 100.00%\n",
      "  41  Train loss: 0.0004, accuracy: 100.00%  Validation accuracy: 100.00%\n",
      "  42  Train loss: 0.0004, accuracy: 100.00%  Validation accuracy: 100.00%\n",
      "  43  Train loss: 0.0003, accuracy: 100.00%  Validation accuracy: 100.00%\n",
      "  44  Train loss: 0.0003, accuracy: 100.00%  Validation accuracy: 100.00%\n",
      "  45  Train loss: 0.0003, accuracy: 100.00%  Validation accuracy: 100.00%\n",
      "  46  Train loss: 0.0003, accuracy: 100.00%  Validation accuracy: 100.00%\n",
      "  47  Train loss: 0.0003, accuracy: 100.00%  Validation accuracy: 100.00%\n",
      "  48  Train loss: 0.0003, accuracy: 100.00%  Validation accuracy: 100.00%\n",
      "  49  Train loss: 0.0003, accuracy: 100.00%  Validation accuracy: 100.00%\n"
     ]
    }
   ],
   "source": [
    "X_val, l_val, y_val = generate_dataset(5000)\n",
    "\n",
    "n_epochs = 50\n",
    "batch_size = 50\n",
    "\n",
    "with tf.compat.v1.Session() as sess:\n",
    "    init.run()\n",
    "    for epoch in range(n_epochs):\n",
    "        X_batches = np.array_split(X_train, len(X_train) // batch_size)\n",
    "        l_batches = np.array_split(l_train, len(l_train) // batch_size)\n",
    "        y_batches = np.array_split(y_train, len(y_train) // batch_size)\n",
    "        for X_batch, l_batch, y_batch in zip(X_batches, l_batches, y_batches):\n",
    "            loss_val, _ = sess.run([loss, training_op], feed_dict={X: X_batch, seq_length: l_batch, y: y_batch})\n",
    "        acc_train = accuracy.eval(feed_dict={X: X_batch, seq_length: l_batch, y: y_batch})\n",
    "        acc_val = accuracy.eval(feed_dict={X: X_val, seq_length: l_val, y: y_val})\n",
    "        print('{:4d}  Train loss: {:.4f}, accuracy: {:.2f}%  Validation accuracy: {:.2f}%'.format(epoch, loss_val, 100 * acc_train, \n",
    "                                                                                                  100 * acc_val))\n",
    "        saver.save(sess, 'models/my_reber_classifier')"
   ]
  },
  {
   "cell_type": "markdown",
   "metadata": {},
   "source": [
    "#### Testa a rede"
   ]
  },
  {
   "cell_type": "code",
   "execution_count": 13,
   "metadata": {
    "ExecuteTime": {
     "end_time": "2021-02-07T12:28:57.767417Z",
     "start_time": "2021-02-07T12:28:57.371228Z"
    }
   },
   "outputs": [
    {
     "name": "stdout",
     "output_type": "stream",
     "text": [
      "INFO:tensorflow:Restoring parameters from models/my_reber_classifier\n",
      "\n",
      "Estimated probability that these are Reber strings:\n",
      "BPBTSSSSSSSXXTTVPXVPXTTTTTVVETE: 0.04%\n",
      "BPBTSSSSSSSXXTTVPXVPXTTTTTVVEPE: 99.75%\n"
     ]
    }
   ],
   "source": [
    "test_strings = [\n",
    "    'BPBTSSSSSSSXXTTVPXVPXTTTTTVVETE',\n",
    "    'BPBTSSSSSSSXXTTVPXVPXTTTTTVVEPE']\n",
    "\n",
    "l_test = np.array([len(s) for s in test_strings])\n",
    "max_length = l_test.max()\n",
    "X_test = [string_to_one_hot_vectors(s, n_steps=max_length) for s in test_strings]\n",
    "\n",
    "with tf.compat.v1.Session() as sess:\n",
    "    saver.restore(sess, 'models/my_reber_classifier')\n",
    "    y_proba_val = y_proba.eval(feed_dict={X: X_test, seq_length: l_test})\n",
    "\n",
    "print()\n",
    "print('Estimated probability that these are Reber strings:')\n",
    "for index, string in enumerate(test_strings):\n",
    "    print('{}: {:.2f}%'.format(string, 100 * y_proba_val[index][0]))"
   ]
  }
 ],
 "metadata": {
  "hide_input": false,
  "kernelspec": {
   "display_name": "Python 3",
   "language": "python",
   "name": "python3"
  },
  "language_info": {
   "codemirror_mode": {
    "name": "ipython",
    "version": 3
   },
   "file_extension": ".py",
   "mimetype": "text/x-python",
   "name": "python",
   "nbconvert_exporter": "python",
   "pygments_lexer": "ipython3",
   "version": "3.7.5"
  },
  "toc": {
   "base_numbering": 1,
   "nav_menu": {},
   "number_sections": true,
   "sideBar": true,
   "skip_h1_title": false,
   "title_cell": "Table of Contents",
   "title_sidebar": "Contents",
   "toc_cell": false,
   "toc_position": {},
   "toc_section_display": true,
   "toc_window_display": false
  },
  "varInspector": {
   "cols": {
    "lenName": 16,
    "lenType": 16,
    "lenVar": 40
   },
   "kernels_config": {
    "python": {
     "delete_cmd_postfix": "",
     "delete_cmd_prefix": "del ",
     "library": "var_list.py",
     "varRefreshCmd": "print(var_dic_list())"
    },
    "r": {
     "delete_cmd_postfix": ") ",
     "delete_cmd_prefix": "rm(",
     "library": "var_list.r",
     "varRefreshCmd": "cat(var_dic_list()) "
    }
   },
   "types_to_exclude": [
    "module",
    "function",
    "builtin_function_or_method",
    "instance",
    "_Feature"
   ],
   "window_display": false
  }
 },
 "nbformat": 4,
 "nbformat_minor": 4
}
