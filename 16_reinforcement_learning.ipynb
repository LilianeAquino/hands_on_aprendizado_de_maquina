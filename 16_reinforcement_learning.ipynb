{
  "nbformat": 4,
  "nbformat_minor": 0,
  "metadata": {
    "hide_input": false,
    "kernelspec": {
      "display_name": "Python 3",
      "language": "python",
      "name": "python3"
    },
    "language_info": {
      "codemirror_mode": {
        "name": "ipython",
        "version": 3
      },
      "file_extension": ".py",
      "mimetype": "text/x-python",
      "name": "python",
      "nbconvert_exporter": "python",
      "pygments_lexer": "ipython3",
      "version": "3.7.5"
    },
    "toc": {
      "base_numbering": 1,
      "nav_menu": {},
      "number_sections": true,
      "sideBar": true,
      "skip_h1_title": false,
      "title_cell": "Table of Contents",
      "title_sidebar": "Contents",
      "toc_cell": false,
      "toc_position": {},
      "toc_section_display": true,
      "toc_window_display": false
    },
    "varInspector": {
      "cols": {
        "lenName": 16,
        "lenType": 16,
        "lenVar": 40
      },
      "kernels_config": {
        "python": {
          "delete_cmd_postfix": "",
          "delete_cmd_prefix": "del ",
          "library": "var_list.py",
          "varRefreshCmd": "print(var_dic_list())"
        },
        "r": {
          "delete_cmd_postfix": ") ",
          "delete_cmd_prefix": "rm(",
          "library": "var_list.r",
          "varRefreshCmd": "cat(var_dic_list()) "
        }
      },
      "types_to_exclude": [
        "module",
        "function",
        "builtin_function_or_method",
        "instance",
        "_Feature"
      ],
      "window_display": false
    },
    "colab": {
      "name": "16_reinforcement_learning.ipynb",
      "provenance": [],
      "collapsed_sections": []
    }
  },
  "cells": [
    {
      "cell_type": "markdown",
      "metadata": {
        "id": "UlG5vv_NuM7o"
      },
      "source": [
        "# Aprendizado por reforço"
      ]
    },
    {
      "cell_type": "markdown",
      "metadata": {
        "id": "C6aVQmXNuM7z"
      },
      "source": [
        "### Bibliotecas básicas"
      ]
    },
    {
      "cell_type": "code",
      "metadata": {
        "ExecuteTime": {
          "end_time": "2021-02-15T12:42:14.718459Z",
          "start_time": "2021-02-15T12:42:14.451446Z"
        },
        "colab": {
          "base_uri": "https://localhost:8080/"
        },
        "id": "SDw5EDOquM70",
        "outputId": "6ad2b32d-d330-415f-a365-b044650f8867"
      },
      "source": [
        "import numpy as np\n",
        "import pandas as pd\n",
        "from functools import partial\n",
        "\n",
        "%matplotlib nbagg\n",
        "import matplotlib\n",
        "import matplotlib.animation as animation\n",
        "import matplotlib.pyplot as plt\n",
        "plt.rcParams['axes.labelsize'] = 14\n",
        "plt.rcParams['xtick.labelsize'] = 12\n",
        "plt.rcParams['ytick.labelsize'] = 12\n",
        "\n",
        "import warnings\n",
        "warnings.filterwarnings('ignore')\n",
        "\n",
        "import gym\n",
        "\n",
        "import tensorflow as tf\n",
        "print(tf.__version__)"
      ],
      "execution_count": 1,
      "outputs": [
        {
          "output_type": "stream",
          "text": [
            "2.4.1\n"
          ],
          "name": "stdout"
        }
      ]
    },
    {
      "cell_type": "code",
      "metadata": {
        "ExecuteTime": {
          "end_time": "2021-02-15T12:30:19.961914Z",
          "start_time": "2021-02-15T12:30:19.958384Z"
        },
        "id": "KETDAJUeuM73"
      },
      "source": [
        "tf.compat.v1.disable_eager_execution()"
      ],
      "execution_count": 2,
      "outputs": []
    },
    {
      "cell_type": "markdown",
      "metadata": {
        "id": "RuOdKcJluM74"
      },
      "source": [
        "### Introdução OpenAI gym"
      ]
    },
    {
      "cell_type": "code",
      "metadata": {
        "ExecuteTime": {
          "end_time": "2021-02-15T12:30:20.662502Z",
          "start_time": "2021-02-15T12:30:19.967844Z"
        },
        "colab": {
          "base_uri": "https://localhost:8080/"
        },
        "id": "8bz45b6IuM74",
        "outputId": "38449272-f983-43d6-bbe5-6d8fc08af5fe"
      },
      "source": [
        "env = gym.make('MsPacman-v0')\n",
        "observacao = env.reset()\n",
        "print(observacao.shape, '\\n')\n",
        "img = env.render(mode='rgb_array')"
      ],
      "execution_count": 3,
      "outputs": [
        {
          "output_type": "stream",
          "text": [
            "(210, 160, 3) \n",
            "\n"
          ],
          "name": "stdout"
        }
      ]
    },
    {
      "cell_type": "code",
      "metadata": {
        "ExecuteTime": {
          "end_time": "2021-02-15T12:30:30.382224Z",
          "start_time": "2021-02-15T12:30:30.201601Z"
        },
        "colab": {
          "base_uri": "https://localhost:8080/",
          "height": 357
        },
        "id": "Ftgb5o1fuM75",
        "outputId": "6a841923-dba2-44d1-ea17-94aae3072522"
      },
      "source": [
        "plt.figure(figsize=(10, 6))\n",
        "plt.imshow(img)\n",
        "plt.axis('off')\n",
        "plt.show()"
      ],
      "execution_count": 4,
      "outputs": [
        {
          "output_type": "display_data",
          "data": {
            "image/png": "[encoded data removed]",
            "text/plain": [
              "<Figure size 720x432 with 1 Axes>"
            ]
          },
          "metadata": {
            "tags": [],
            "needs_background": "light"
          }
        }
      ]
    },
    {
      "cell_type": "markdown",
      "metadata": {
        "id": "sLMWLSo5uM76"
      },
      "source": [
        "#### Função auxiliar para traçar um ambiente"
      ]
    },
    {
      "cell_type": "code",
      "metadata": {
        "ExecuteTime": {
          "end_time": "2021-02-15T12:32:01.924040Z",
          "start_time": "2021-02-15T12:32:01.911677Z"
        },
        "id": "n3_nA9BXuM77"
      },
      "source": [
        "def plot_environment(env, figsize=(10, 6)):\n",
        "    plt.close()\n",
        "    plt.figure(figsize=figsize)\n",
        "    img = env.render(mode='rgb_array')\n",
        "    plt.imshow(img)\n",
        "    plt.axis('off')\n",
        "    plt.show()"
      ],
      "execution_count": 5,
      "outputs": []
    },
    {
      "cell_type": "code",
      "metadata": {
        "ExecuteTime": {
          "end_time": "2021-02-15T12:32:37.993626Z",
          "start_time": "2021-02-15T12:32:37.988643Z"
        },
        "colab": {
          "base_uri": "https://localhost:8080/"
        },
        "id": "Ss0uJx_YuM77",
        "outputId": "8e36d704-4f9a-4636-f8ff-0f7fa383d0bd"
      },
      "source": [
        "print(f'Espaço de ação: {env.action_space}')"
      ],
      "execution_count": 6,
      "outputs": [
        {
          "output_type": "stream",
          "text": [
            "Espaço de ação: Discrete(9)\n"
          ],
          "name": "stdout"
        }
      ]
    },
    {
      "cell_type": "code",
      "metadata": {
        "ExecuteTime": {
          "end_time": "2021-02-15T12:34:16.991052Z",
          "start_time": "2021-02-15T12:34:16.697837Z"
        },
        "colab": {
          "base_uri": "https://localhost:8080/",
          "height": 357
        },
        "id": "ajDrB1XAuM78",
        "outputId": "3d6333bc-e0fd-42cd-9982-3e4f5cd2f1d9"
      },
      "source": [
        "env.reset()\n",
        "for step in range(110):\n",
        "    env.step(3) #esquerda\n",
        "for step in range(40):\n",
        "    env.step(8) #inferior esquerda\n",
        "    \n",
        "plot_environment(env)"
      ],
      "execution_count": 7,
      "outputs": [
        {
          "output_type": "display_data",
          "data": {
            "image/png": "[encoded data removed]",
            "text/plain": [
              "<Figure size 720x432 with 1 Axes>"
            ]
          },
          "metadata": {
            "tags": [],
            "needs_background": "light"
          }
        }
      ]
    },
    {
      "cell_type": "code",
      "metadata": {
        "ExecuteTime": {
          "end_time": "2021-02-15T12:34:45.992467Z",
          "start_time": "2021-02-15T12:34:45.977988Z"
        },
        "id": "WIJKtkAXuM79"
      },
      "source": [
        "obs, reward, done, info = env.step(0)"
      ],
      "execution_count": 8,
      "outputs": []
    },
    {
      "cell_type": "markdown",
      "metadata": {
        "id": "Vd5LWzfkuM7-"
      },
      "source": [
        "A observação diz ao agente como é o ambiente:"
      ]
    },
    {
      "cell_type": "code",
      "metadata": {
        "ExecuteTime": {
          "end_time": "2021-02-15T12:34:53.460315Z",
          "start_time": "2021-02-15T12:34:53.448322Z"
        },
        "colab": {
          "base_uri": "https://localhost:8080/"
        },
        "id": "6r5EB2nguM7-",
        "outputId": "b3a23a38-ecf3-4b1b-d221-d53f6291e0cd"
      },
      "source": [
        "obs.shape"
      ],
      "execution_count": 9,
      "outputs": [
        {
          "output_type": "execute_result",
          "data": {
            "text/plain": [
              "(210, 160, 3)"
            ]
          },
          "metadata": {
            "tags": []
          },
          "execution_count": 9
        }
      ]
    },
    {
      "cell_type": "markdown",
      "metadata": {
        "id": "_2ViLzabuM7_"
      },
      "source": [
        "O ambiente também informa ao agente quanta recompensa ele obteve durante a última etapa:"
      ]
    },
    {
      "cell_type": "code",
      "metadata": {
        "ExecuteTime": {
          "end_time": "2021-02-15T12:35:02.928857Z",
          "start_time": "2021-02-15T12:35:02.921610Z"
        },
        "colab": {
          "base_uri": "https://localhost:8080/"
        },
        "id": "wS3qmSE6uM7_",
        "outputId": "de76daf7-f3a5-4862-a667-5924079a0841"
      },
      "source": [
        "reward"
      ],
      "execution_count": 10,
      "outputs": [
        {
          "output_type": "execute_result",
          "data": {
            "text/plain": [
              "0.0"
            ]
          },
          "metadata": {
            "tags": []
          },
          "execution_count": 10
        }
      ]
    },
    {
      "cell_type": "markdown",
      "metadata": {
        "id": "9REPymm0uM8A"
      },
      "source": [
        "Quando o jogo acaba, o ambiente retorna **done=True**:"
      ]
    },
    {
      "cell_type": "code",
      "metadata": {
        "ExecuteTime": {
          "end_time": "2021-02-15T12:35:05.981011Z",
          "start_time": "2021-02-15T12:35:05.969405Z"
        },
        "colab": {
          "base_uri": "https://localhost:8080/"
        },
        "id": "XL625gywuM8B",
        "outputId": "de21dc37-d11d-4e77-fe43-7f2df77584c1"
      },
      "source": [
        "done"
      ],
      "execution_count": 11,
      "outputs": [
        {
          "output_type": "execute_result",
          "data": {
            "text/plain": [
              "False"
            ]
          },
          "metadata": {
            "tags": []
          },
          "execution_count": 11
        }
      ]
    },
    {
      "cell_type": "markdown",
      "metadata": {
        "id": "mgZEOyEzuM8B"
      },
      "source": [
        "O info é um dicionário específico do ambiente que pode fornecer algumas informações extras sobre o estado interno do ambiente. Isso é útil para depuração, mas seu agente não deve usar essas informações para aprendizado (seria trapaça)."
      ]
    },
    {
      "cell_type": "code",
      "metadata": {
        "ExecuteTime": {
          "end_time": "2021-02-15T12:35:10.489902Z",
          "start_time": "2021-02-15T12:35:10.484332Z"
        },
        "colab": {
          "base_uri": "https://localhost:8080/"
        },
        "id": "1Eo3ca2xuM8C",
        "outputId": "7843cf12-ea14-46b1-c457-1cf2f17180ac"
      },
      "source": [
        "info"
      ],
      "execution_count": 12,
      "outputs": [
        {
          "output_type": "execute_result",
          "data": {
            "text/plain": [
              "{'ale.lives': 3}"
            ]
          },
          "metadata": {
            "tags": []
          },
          "execution_count": 12
        }
      ]
    },
    {
      "cell_type": "markdown",
      "metadata": {
        "id": "NW-UFpBYuM8C"
      },
      "source": [
        "#### Jogo completo com 3 vidas, movendo-nos em direções aleatórias por 10 etapas de cada vez, gravando cada quadro"
      ]
    },
    {
      "cell_type": "code",
      "metadata": {
        "id": "UrIyey2fuM8D"
      },
      "source": [
        "def update_scene(num, frames, patch):\n",
        "    patch.set_data(frames[num])\n",
        "    return patch,\n",
        "\n",
        "def plot_animation(frames, repeat=False, interval=40):\n",
        "    plt.close()\n",
        "    fig = plt.figure()\n",
        "    patch = plt.imshow(frames[0])\n",
        "    plt.axis('off')\n",
        "    return animation.FuncAnimation(fig, update_scene, fargs=(frames, patch), frames=len(frames), repeat=repeat, interval=interval)"
      ],
      "execution_count": 13,
      "outputs": []
    },
    {
      "cell_type": "code",
      "metadata": {
        "ExecuteTime": {
          "end_time": "2021-02-15T12:42:46.373015Z",
          "start_time": "2021-02-15T12:42:45.305907Z"
        },
        "colab": {
          "base_uri": "https://localhost:8080/",
          "height": 247
        },
        "id": "NzfOPh5luM8D",
        "outputId": "2dd4c07c-4226-465d-b425-a3b84fd094ce"
      },
      "source": [
        "frames = []\n",
        "\n",
        "n_max_steps = 1000\n",
        "n_change_steps = 10\n",
        "\n",
        "obs = env.reset()\n",
        "for step in range(n_max_steps):\n",
        "    img = env.render(mode='rgb_array')\n",
        "    frames.append(img)\n",
        "    if step % n_change_steps == 0:\n",
        "        action = env.action_space.sample()\n",
        "    obs, reward, done, info = env.step(action)\n",
        "    if done:\n",
        "        break\n",
        "\n",
        "\n",
        "video = plot_animation(frames)\n",
        "plt.show()"
      ],
      "execution_count": 14,
      "outputs": [
        {
          "output_type": "display_data",
          "data": {
            "image/png": "[encoded data removed]",
            "text/plain": [
              "<Figure size 432x288 with 1 Axes>"
            ]
          },
          "metadata": {
            "tags": [],
            "needs_background": "light"
          }
        }
      ]
    },
    {
      "cell_type": "code",
      "metadata": {
        "id": "aNtfcAKYuM8E"
      },
      "source": [
        "env.close()"
      ],
      "execution_count": 15,
      "outputs": []
    },
    {
      "cell_type": "markdown",
      "metadata": {
        "id": "O2b-u_Yju3a0"
      },
      "source": [
        "### Um ambiente simples: the Cart-Pole"
      ]
    },
    {
      "cell_type": "code",
      "metadata": {
        "colab": {
          "base_uri": "https://localhost:8080/"
        },
        "id": "DYLy9XvLu-Bk",
        "outputId": "1d7be0dd-11f4-48b7-bbd1-5d2ff80b2ead"
      },
      "source": [
        "env = gym.make('CartPole-v0')\n",
        "obs = env.reset()\n",
        "obs"
      ],
      "execution_count": 16,
      "outputs": [
        {
          "output_type": "execute_result",
          "data": {
            "text/plain": [
              "array([-0.01502732, -0.0013621 , -0.03599252, -0.0211515 ])"
            ]
          },
          "metadata": {
            "tags": []
          },
          "execution_count": 16
        }
      ]
    },
    {
      "cell_type": "markdown",
      "metadata": {
        "id": "2dhOGxJMvgL0"
      },
      "source": [
        "#### Corrigindo o problema de renderização"
      ]
    },
    {
      "cell_type": "code",
      "metadata": {
        "id": "rxx_bgPpvgV7"
      },
      "source": [
        "from PIL import Image, ImageDraw\n",
        "\n",
        "try:\n",
        "    from pyglet.gl import gl_info\n",
        "    openai_cart_pole_rendering = True\n",
        "except Exception:\n",
        "    openai_cart_pole_rendering = False\n",
        "\n",
        "def render_cart_pole(env, obs):\n",
        "    if openai_cart_pole_rendering:\n",
        "        # use OpenAI gym's rendering function\n",
        "        return env.render(mode='rgb_array')\n",
        "    else:\n",
        "        # rendering for the cart pole environment (in case OpenAI gym can't do it)\n",
        "        img_w = 600\n",
        "        img_h = 400\n",
        "        cart_w = img_w // 12\n",
        "        cart_h = img_h // 15\n",
        "        pole_len = img_h // 3.5\n",
        "        pole_w = img_w // 80 + 1\n",
        "        x_width = 2\n",
        "        max_ang = 0.2\n",
        "        bg_col = (255, 255, 255)\n",
        "        cart_col = 0x000000 # Blue Green Red\n",
        "        pole_col = 0x669acc # Blue Green Red\n",
        "\n",
        "        pos, vel, ang, ang_vel = obs\n",
        "        img = Image.new('RGB', (img_w, img_h), bg_col)\n",
        "        draw = ImageDraw.Draw(img)\n",
        "        cart_x = pos * img_w // x_width + img_w // x_width\n",
        "        cart_y = img_h * 95 // 100\n",
        "        top_pole_x = cart_x + pole_len * np.sin(ang)\n",
        "        top_pole_y = cart_y - cart_h // 2 - pole_len * np.cos(ang)\n",
        "        draw.line((0, cart_y, img_w, cart_y), fill=0)\n",
        "        draw.rectangle((cart_x - cart_w // 2, cart_y - cart_h // 2, cart_x + cart_w // 2, cart_y + cart_h // 2), fill=cart_col) # draw cart\n",
        "        draw.line((cart_x, cart_y - cart_h // 2, top_pole_x, top_pole_y), fill=pole_col, width=pole_w) # draw pole\n",
        "        return np.array(img)\n",
        "\n",
        "def plot_cart_pole(env, obs):\n",
        "    plt.close()  # or else nbagg sometimes plots in the previous cell\n",
        "    img = render_cart_pole(env, obs)\n",
        "    plt.imshow(img)\n",
        "    plt.axis('off')\n",
        "    plt.show()"
      ],
      "execution_count": 17,
      "outputs": []
    },
    {
      "cell_type": "code",
      "metadata": {
        "colab": {
          "base_uri": "https://localhost:8080/",
          "height": 247
        },
        "id": "kkz9ycIKvuvN",
        "outputId": "bb3ff350-a6fa-447f-b72b-6c0a577e2bbe"
      },
      "source": [
        "plot_cart_pole(env, obs)"
      ],
      "execution_count": 18,
      "outputs": [
        {
          "output_type": "display_data",
          "data": {
            "image/png": "[encoded data removed]",
            "text/plain": [
              "<Figure size 432x288 with 1 Axes>"
            ]
          },
          "metadata": {
            "tags": [],
            "needs_background": "light"
          }
        }
      ]
    },
    {
      "cell_type": "code",
      "metadata": {
        "colab": {
          "base_uri": "https://localhost:8080/"
        },
        "id": "2oMTUShPvyXk",
        "outputId": "9f22cdfb-fc22-4f8d-cace-13f45f30df3b"
      },
      "source": [
        "print(f'Espaço de ação: {env.action_space}')"
      ],
      "execution_count": 19,
      "outputs": [
        {
          "output_type": "stream",
          "text": [
            "Espaço de ação: Discrete(2)\n"
          ],
          "name": "stdout"
        }
      ]
    },
    {
      "cell_type": "markdown",
      "metadata": {
        "id": "T9BlzCrNwBJl"
      },
      "source": [
        "Empurrando o carrinho"
      ]
    },
    {
      "cell_type": "code",
      "metadata": {
        "colab": {
          "base_uri": "https://localhost:8080/",
          "height": 265
        },
        "id": "qYyZQxusvyaS",
        "outputId": "6c23b206-2a35-493d-96c2-d72509e1b9ef"
      },
      "source": [
        "obs = env.reset()\n",
        "while True:\n",
        "    obs, reward, done, info = env.step(0)\n",
        "    if done:\n",
        "        break\n",
        "\n",
        "plt.close()\n",
        "img = render_cart_pole(env, obs)\n",
        "plt.imshow(img)\n",
        "plt.axis('off')"
      ],
      "execution_count": 20,
      "outputs": [
        {
          "output_type": "execute_result",
          "data": {
            "text/plain": [
              "(-0.5, 599.5, 399.5, -0.5)"
            ]
          },
          "metadata": {
            "tags": []
          },
          "execution_count": 20
        },
        {
          "output_type": "display_data",
          "data": {
            "image/png": "[encoded data removed]",
            "text/plain": [
              "<Figure size 432x288 with 1 Axes>"
            ]
          },
          "metadata": {
            "tags": [],
            "needs_background": "light"
          }
        }
      ]
    },
    {
      "cell_type": "code",
      "metadata": {
        "colab": {
          "base_uri": "https://localhost:8080/",
          "height": 247
        },
        "id": "99PdGmuHwbBY",
        "outputId": "080ea605-4501-4fc8-87b0-938dd93b3396"
      },
      "source": [
        "obs = env.reset()\n",
        "while True:\n",
        "    obs, reward, done, info = env.step(1)\n",
        "    if done:\n",
        "        break\n",
        "\n",
        "plot_cart_pole(env, obs)"
      ],
      "execution_count": 21,
      "outputs": [
        {
          "output_type": "display_data",
          "data": {
            "image/png": "[encoded data removed]",
            "text/plain": [
              "<Figure size 432x288 with 1 Axes>"
            ]
          },
          "metadata": {
            "tags": [],
            "needs_background": "light"
          }
        }
      ]
    },
    {
      "cell_type": "markdown",
      "metadata": {
        "id": "xLmYLGpUwpFb"
      },
      "source": [
        "Definindo uma política"
      ]
    },
    {
      "cell_type": "code",
      "metadata": {
        "colab": {
          "base_uri": "https://localhost:8080/",
          "height": 247
        },
        "id": "vUsK9PW3wrxD",
        "outputId": "e025d302-6156-4539-bb2a-e4e1ee861e89"
      },
      "source": [
        "frames = []\n",
        "\n",
        "n_max_steps = 1000\n",
        "n_change_steps = 10\n",
        "\n",
        "obs = env.reset()\n",
        "for step in range(n_max_steps):\n",
        "    img = render_cart_pole(env, obs)\n",
        "    frames.append(img)\n",
        "\n",
        "    # hard-coded policy\n",
        "    position, velocity, angle, angular_velocity = obs\n",
        "    if angle < 0:\n",
        "        action = 0\n",
        "    else:\n",
        "        action = 1\n",
        "\n",
        "    obs, reward, done, info = env.step(action)\n",
        "    if done:\n",
        "        break\n",
        "\n",
        "video = plot_animation(frames)\n",
        "plt.show()"
      ],
      "execution_count": 22,
      "outputs": [
        {
          "output_type": "display_data",
          "data": {
            "image/png": "[encoded data removed]",
            "text/plain": [
              "<Figure size 432x288 with 1 Axes>"
            ]
          },
          "metadata": {
            "tags": [],
            "needs_background": "light"
          }
        }
      ]
    },
    {
      "cell_type": "markdown",
      "metadata": {
        "id": "AhUSkYalfXRp"
      },
      "source": [
        "### Políticas de rede neural"
      ]
    },
    {
      "cell_type": "code",
      "metadata": {
        "id": "jVKkJYn4fV6R"
      },
      "source": [
        "n_inputs = env.observation_space.shape[0]\n",
        "n_hidden = 4\n",
        "n_outputs = 1\n",
        "\n",
        "initializer = tf.compat.v1.variance_scaling_initializer()\n",
        "\n",
        "\n",
        "X = tf.compat.v1.placeholder(tf.float32, shape=[None, n_inputs])\n",
        "hidden = tf.compat.v1.layers.dense(X, n_hidden, activation=tf.nn.elu, kernel_initializer=initializer)\n",
        "outputs = tf.compat.v1.layers.dense(hidden, n_outputs, activation=tf.nn.sigmoid, kernel_initializer=initializer)\n",
        "\n",
        "p_left_and_right = tf.concat(axis=1, values=[outputs, 1 - outputs])\n",
        "action = tf.compat.v1.multinomial(tf.math.log(p_left_and_right), num_samples=1)\n",
        "\n",
        "init = tf.compat.v1.global_variables_initializer()\n",
        "\n",
        "\n",
        "n_max_steps = 1000\n",
        "frames = []\n",
        "\n",
        "with tf.compat.v1.Session() as sess:\n",
        "    init.run()\n",
        "    obs = env.reset()\n",
        "    for step in range(n_max_steps):\n",
        "        img = render_cart_pole(env, obs)\n",
        "        frames.append(img)\n",
        "        action_val = action.eval(feed_dict={X: obs.reshape(1, n_inputs)})\n",
        "        obs, reward, done, info = env.step(action_val[0][0])\n",
        "        if done:\n",
        "            break\n",
        "\n",
        "env.close()\n",
        "\n",
        "\n",
        "video = plot_animation(frames)\n",
        "plt.show()"
      ],
      "execution_count": 26,
      "outputs": []
    },
    {
      "cell_type": "markdown",
      "metadata": {
        "id": "gYcXF5grp_SR"
      },
      "source": [
        "### Política de gradiente"
      ]
    },
    {
      "cell_type": "code",
      "metadata": {
        "colab": {
          "base_uri": "https://localhost:8080/"
        },
        "id": "R6PT8V8qsQQv",
        "outputId": "d32821d6-05cf-4fb4-e3d7-d9312961b02e"
      },
      "source": [
        "from google.colab import drive\n",
        "drive.mount('/content/drive')"
      ],
      "execution_count": 32,
      "outputs": [
        {
          "output_type": "stream",
          "text": [
            "Mounted at /content/drive\n"
          ],
          "name": "stdout"
        }
      ]
    },
    {
      "cell_type": "code",
      "metadata": {
        "id": "JEx7ZItwi4NJ"
      },
      "source": [
        "n_inputs = 4\n",
        "n_hidden = 4\n",
        "n_outputs = 1\n",
        "learning_rate = 0.01\n",
        "\n",
        "initializer = tf.compat.v1.variance_scaling_initializer()\n",
        "\n",
        "\n",
        "X = tf.compat.v1.placeholder(tf.float32, shape=[None, n_inputs])\n",
        "hidden = tf.compat.v1.layers.dense(X, n_hidden, activation=tf.nn.elu, kernel_initializer=initializer)\n",
        "logits = tf.compat.v1.layers.dense(hidden, n_outputs)\n",
        "outputs = tf.compat.v1.nn.sigmoid(logits)\n",
        "\n",
        "p_left_and_right = tf.concat(axis=1, values=[outputs, 1 - outputs])\n",
        "action = tf.compat.v1.multinomial(tf.math.log(p_left_and_right), num_samples=1)\n",
        "\n",
        "init = tf.compat.v1.global_variables_initializer()\n",
        "\n",
        "y = 1. - tf.compat.v1.to_float(action)\n",
        "cross_entropy = tf.compat.v1.nn.sigmoid_cross_entropy_with_logits(labels=y, logits=logits)\n",
        "optimizer = tf.compat.v1.train.AdamOptimizer(learning_rate)"
      ],
      "execution_count": 51,
      "outputs": []
    },
    {
      "cell_type": "code",
      "metadata": {
        "id": "V-upht5_rLMF"
      },
      "source": [
        "grads_and_vars = optimizer.compute_gradients(cross_entropy)\n",
        "gradients = [grad for grad, variable in grads_and_vars if grad != None]\n",
        "\n",
        "gradient_placeholders = []\n",
        "grads_and_vars_feed = []\n",
        "for grad, variable in grads_and_vars:\n",
        "  if grad != None:\n",
        "    gradient_placeholder = tf.compat.v1.placeholder(tf.float32, shape=grad.get_shape())\n",
        "    gradient_placeholders.append(gradient_placeholder)\n",
        "    grads_and_vars_feed.append((gradient_placeholder, variable))\n",
        "\n",
        "training_op = optimizer.apply_gradients(grads_and_vars_feed)\n",
        "init = tf.compat.v1.global_variables_initializer()\n",
        "saver = tf.compat.v1.train.Saver()"
      ],
      "execution_count": 53,
      "outputs": []
    },
    {
      "cell_type": "code",
      "metadata": {
        "id": "ugLsIHHrsCIL"
      },
      "source": [
        "def discount_rewards(rewards, discount_rate):\n",
        "    discounted_rewards = np.zeros(len(rewards))\n",
        "    cumulative_rewards = 0\n",
        "    for step in reversed(range(len(rewards))):\n",
        "        cumulative_rewards = rewards[step] + cumulative_rewards * discount_rate\n",
        "        discounted_rewards[step] = cumulative_rewards\n",
        "    return discounted_rewards\n",
        "\n",
        "def discount_and_normalize_rewards(all_rewards, discount_rate):\n",
        "    all_discounted_rewards = [discount_rewards(rewards, discount_rate) for rewards in all_rewards]\n",
        "    flat_rewards = np.concatenate(all_discounted_rewards)\n",
        "    reward_mean = flat_rewards.mean()\n",
        "    reward_std = flat_rewards.std()\n",
        "    return [(discounted_rewards - reward_mean)/reward_std for discounted_rewards in all_discounted_rewards]"
      ],
      "execution_count": 54,
      "outputs": []
    },
    {
      "cell_type": "code",
      "metadata": {
        "colab": {
          "base_uri": "https://localhost:8080/"
        },
        "id": "SKYe9FUcsEcz",
        "outputId": "fc1119d4-5f42-4a7f-f2f8-97c8aa6b5607"
      },
      "source": [
        "env = gym.make('CartPole-v0')\n",
        "\n",
        "n_games_per_update = 10\n",
        "n_max_steps = 1000\n",
        "n_iterations = 250\n",
        "save_iterations = 10\n",
        "discount_rate = 0.95\n",
        "\n",
        "with tf.compat.v1.Session() as sess:\n",
        "    init.run()\n",
        "    for iteration in range(n_iterations):\n",
        "        print('\\rIteration: {}'.format(iteration), end='')\n",
        "        all_rewards = []\n",
        "        all_gradients = []\n",
        "        for game in range(n_games_per_update):\n",
        "            current_rewards = []\n",
        "            current_gradients = []\n",
        "            obs = env.reset()\n",
        "            for step in range(n_max_steps):\n",
        "                action_val, gradients_val = sess.run([action, gradients], feed_dict={X: obs.reshape(1, n_inputs)})\n",
        "                obs, reward, done, info = env.step(action_val[0][0])\n",
        "                current_rewards.append(reward)\n",
        "                current_gradients.append(gradients_val)\n",
        "                if done:\n",
        "                    break\n",
        "            all_rewards.append(current_rewards)\n",
        "            all_gradients.append(current_gradients)\n",
        "\n",
        "        all_rewards = discount_and_normalize_rewards(all_rewards, discount_rate=discount_rate)\n",
        "        feed_dict = {}\n",
        "        for var_index, gradient_placeholder in enumerate(gradient_placeholders):\n",
        "            mean_gradients = np.mean([reward * all_gradients[game_index][step][var_index]\n",
        "                                      for game_index, rewards in enumerate(all_rewards)\n",
        "                                          for step, reward in enumerate(rewards)], axis=0)\n",
        "            feed_dict[gradient_placeholder] = mean_gradients\n",
        "        sess.run(training_op, feed_dict=feed_dict)\n",
        "        if iteration % save_iterations == 0:\n",
        "            saver.save(sess, '/content/drive/MyDrive/Colab Notebooks/my_policy_net_pg.ckpt')\n",
        "\n",
        "env.close()"
      ],
      "execution_count": 55,
      "outputs": [
        {
          "output_type": "stream",
          "text": [
            "Iteration: 249"
          ],
          "name": "stdout"
        }
      ]
    },
    {
      "cell_type": "code",
      "metadata": {
        "id": "bfEXtr8xzgIV"
      },
      "source": [
        "def render_policy_net(model_path, action, X, n_max_steps = 1000):\n",
        "    frames = []\n",
        "    env = gym.make('CartPole-v0')\n",
        "    obs = env.reset()\n",
        "    with tf.compat.v1.Session() as sess:\n",
        "        saver.restore(sess, model_path)\n",
        "        for step in range(n_max_steps):\n",
        "            img = render_cart_pole(env, obs)\n",
        "            frames.append(img)\n",
        "            action_val = action.eval(feed_dict={X: obs.reshape(1, n_inputs)})\n",
        "            obs, reward, done, info = env.step(action_val[0][0])\n",
        "            if done:\n",
        "                break\n",
        "    env.close()\n",
        "    return frames"
      ],
      "execution_count": 60,
      "outputs": []
    },
    {
      "cell_type": "code",
      "metadata": {
        "colab": {
          "base_uri": "https://localhost:8080/",
          "height": 265
        },
        "id": "hPKJ63MEsLSG",
        "outputId": "b05ab46f-8971-494c-e4c1-7038c89c95bd"
      },
      "source": [
        "frames = render_policy_net('/content/drive/MyDrive/Colab Notebooks/my_policy_net_pg.ckpt', action, X, n_max_steps=1000)\n",
        "video = plot_animation(frames)\n",
        "plt.show()"
      ],
      "execution_count": 62,
      "outputs": [
        {
          "output_type": "stream",
          "text": [
            "INFO:tensorflow:Restoring parameters from /content/drive/MyDrive/Colab Notebooks/my_policy_net_pg.ckpt\n"
          ],
          "name": "stdout"
        },
        {
          "output_type": "display_data",
          "data": {
            "image/png": "[encoded data removed]",
            "text/plain": [
              "<Figure size 432x288 with 1 Axes>"
            ]
          },
          "metadata": {
            "tags": [],
            "needs_background": "light"
          }
        }
      ]
    },
    {
      "cell_type": "markdown",
      "metadata": {
        "id": "MQ_RS_QwxtRi"
      },
      "source": [
        "### Cadeias de Markov"
      ]
    },
    {
      "cell_type": "code",
      "metadata": {
        "id": "YP9m0qhLxuWy"
      },
      "source": [
        ""
      ],
      "execution_count": null,
      "outputs": []
    }
  ]
}